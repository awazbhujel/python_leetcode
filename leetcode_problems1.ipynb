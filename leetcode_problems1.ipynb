{
  "nbformat": 4,
  "nbformat_minor": 0,
  "metadata": {
    "colab": {
      "provenance": [],
      "authorship_tag": "ABX9TyNDk8bjz8nRFWSX4NCUelt6"
    },
    "kernelspec": {
      "name": "python3",
      "display_name": "Python 3"
    },
    "language_info": {
      "name": "python"
    }
  },
  "cells": [
    {
      "cell_type": "code",
      "source": [
        "#search operation in unsorted array\n",
        "def findelement(arr,key):\n",
        "  if key in arr:\n",
        "    return arr.index(key)\n",
        "  else:\n",
        "    return -1\n",
        "\n",
        "if __name__=='__main__':\n",
        "  arr = [12,34,10,6,40]\n",
        "  key = 10\n",
        "\n",
        "  index = findelement(arr,key)\n",
        "  if index !=-1:\n",
        "    print(\"element found at position:\",index+1)\n",
        "  else:\n",
        "    print(\"element not found\")"
      ],
      "metadata": {
        "colab": {
          "base_uri": "https://localhost:8080/"
        },
        "id": "Dzl2xx9lI9AY",
        "outputId": "df067a8c-ad46-4ff8-c582-51fcd49ee8a0"
      },
      "execution_count": 1,
      "outputs": [
        {
          "output_type": "stream",
          "name": "stdout",
          "text": [
            "element found at position: 3\n"
          ]
        }
      ]
    },
    {
      "cell_type": "code",
      "source": [
        "#inserting elements in an unsorted array at end\n",
        "def insert(arr,element):\n",
        "  arr.append(element)\n",
        "\n",
        "if __name__==\"__main__\":\n",
        "  arr = [12,30,40,50,13,40,50]\n",
        "  element =80\n",
        "\n",
        "  print(\"before inserting:\")\n",
        "  print(arr)\n",
        "  #afrer insertin element\n",
        "  insert(arr,element)\n",
        "  print(\"after inserting:\")\n",
        "  print(arr)"
      ],
      "metadata": {
        "colab": {
          "base_uri": "https://localhost:8080/"
        },
        "id": "2eGeUgE1bilK",
        "outputId": "2cd2a65e-b836-4971-a5c5-161f45c73b4f"
      },
      "execution_count": null,
      "outputs": [
        {
          "output_type": "stream",
          "name": "stdout",
          "text": [
            "before inserting:\n",
            "[12, 30, 40, 50, 13, 40, 50]\n",
            "after inserting:\n",
            "[12, 30, 40, 50, 13, 40, 50, 80]\n"
          ]
        }
      ]
    },
    {
      "cell_type": "code",
      "source": [
        "#insert element  at any position in unsorted list\n",
        "def insertelement(arr,n,x,pos):\n",
        "#The code defines a function called insertElement(arr, n, x, pos) which takes 4 parameters:\n",
        "#1.arr is the input array where the element is to be inserted.\n",
        "#2.n is the size of the array\n",
        "#3.x is the element that needs to be inserted into the array\n",
        "#4.pos is the position at which the element is to be inserted\n",
        "  arr.insert(pos,x)\n",
        "  return arr\n",
        "\n",
        "if __name__==\"__main__\":\n",
        "  arr = [2,4,1,8,5]\n",
        "  n = 5\n",
        "  print(\"before inserting:\")\n",
        "  print(arr)\n",
        "  x = 20\n",
        "  pos =2\n",
        "  #function call\n",
        "  insertelement(arr,n,x,pos)\n",
        "  n+=1\n",
        "  print(\"after inserting the element\")\n",
        "  print(arr)"
      ],
      "metadata": {
        "colab": {
          "base_uri": "https://localhost:8080/"
        },
        "id": "R7UHgJmTdxfv",
        "outputId": "161d7e73-9907-4467-d1d1-f645c25f141c"
      },
      "execution_count": null,
      "outputs": [
        {
          "output_type": "stream",
          "name": "stdout",
          "text": [
            "before inserting:\n",
            "[2, 4, 1, 8, 5]\n",
            "after inserting the element\n",
            "[2, 4, 20, 1, 8, 5]\n"
          ]
        }
      ]
    },
    {
      "cell_type": "code",
      "source": [
        "#program to delete an element from an unsorted array\n",
        "if __name__==\"__main__\":\n",
        "  arr = [10,50,20,40,0]\n",
        "  key = 50\n",
        "  print(\"array before deletion:\")\n",
        "  print(arr)\n",
        "  print(\"array after deletion:\")\n",
        "  arr.remove(key)\n",
        "  print(\"array after deletion\")\n",
        "  print(arr)"
      ],
      "metadata": {
        "colab": {
          "base_uri": "https://localhost:8080/"
        },
        "id": "ijjtUmqBdxiv",
        "outputId": "701422dd-9034-454f-9356-27a5e454bd19"
      },
      "execution_count": null,
      "outputs": [
        {
          "output_type": "stream",
          "name": "stdout",
          "text": [
            "array before deletion:\n",
            "[10, 50, 20, 40, 0]\n",
            "array after deletion:\n",
            "array after deletion\n",
            "[10, 20, 40, 0]\n"
          ]
        }
      ]
    },
    {
      "cell_type": "code",
      "source": [
        "#alternative to delete element\n",
        "def deletelement(arr,key):\n",
        "  new_arr =[]\n",
        "  for element in arr:\n",
        "    if element !=key:\n",
        "      new_arr.append(element)\n",
        "  return new_arr\n",
        "\n",
        "if __name__==\"__main__\":\n",
        "  arr = [10,20,30,0,2,4]\n",
        "  key = 1\n",
        "  print(\"array before deletion:\",arr)\n",
        "  new_arr = deletelement(arr,key)\n",
        "  print(\"array after deletion:\",new_arr)"
      ],
      "metadata": {
        "colab": {
          "base_uri": "https://localhost:8080/"
        },
        "id": "6GmwSQbbdxlW",
        "outputId": "f3370f4f-cf5b-4c31-87e7-7667ee3f26a7"
      },
      "execution_count": null,
      "outputs": [
        {
          "output_type": "stream",
          "name": "stdout",
          "text": [
            "array before deletion: [10, 20, 30, 0, 2, 4]\n",
            "array after deletion: [10, 20, 30, 0, 2, 4]\n"
          ]
        }
      ]
    },
    {
      "cell_type": "code",
      "source": [
        "#print the message if the element is not found the array\n",
        "def deletele(arr,key):\n",
        "  new_arr = []\n",
        "  found = False\n",
        "  for element in arr:\n",
        "    if element !=key:\n",
        "      new_arr.append(element)\n",
        "    else:\n",
        "      found=True\n",
        "  if not found:\n",
        "    return None\n",
        "  return new_arr\n",
        "\n",
        "if __name__==\"__main__\":\n",
        "  arr = [10,40,50,20,0,9]\n",
        "  key =1\n",
        "  print(\"array before deletion:\",arr)\n",
        "  new_arr = deletele(arr,key)\n",
        "  if new_arr:\n",
        "    print(\"array after deletion\",new_arr)\n",
        "  else:\n",
        "    print(\"element not found\")"
      ],
      "metadata": {
        "colab": {
          "base_uri": "https://localhost:8080/"
        },
        "id": "_VYuKutPdxqd",
        "outputId": "e6047ddb-0588-4db8-e317-d91226bd5cfa"
      },
      "execution_count": null,
      "outputs": [
        {
          "output_type": "stream",
          "name": "stdout",
          "text": [
            "array before deletion: [10, 40, 50, 20, 0, 9]\n",
            "element not found\n"
          ]
        }
      ]
    },
    {
      "cell_type": "code",
      "source": [
        "#binary search in sorted array"
      ],
      "metadata": {
        "id": "gWeRu3DTbinh"
      },
      "execution_count": null,
      "outputs": []
    },
    {
      "cell_type": "code",
      "source": [
        " '''bisect library, which is a built-in python library that provides efficient algorithms \n",
        " for working with sorted lists:'''\n",
        "import bisect\n",
        "\n",
        "def binary_search(arr, key):\n",
        "    index = bisect.bisect_left(arr, key)\n",
        "    if index != len(arr) and arr[index] == key:\n",
        "        return index\n",
        "    return -1\n",
        "\n",
        "if __name__ == \"__main__\":\n",
        "    arr = [5, 6, 7, 8, 9, 10]\n",
        "    key = 10\n",
        "    result = binary_search(arr, key)\n",
        "    if result == -1:\n",
        "        print(\"Element not found in the array\")\n",
        "    else:\n",
        "        print(\"Element found at index:\", result)\n"
      ],
      "metadata": {
        "colab": {
          "base_uri": "https://localhost:8080/"
        },
        "id": "DpM-E15VbiqF",
        "outputId": "18f6cfa0-0e74-425f-bf33-38cbf6f482b6"
      },
      "execution_count": null,
      "outputs": [
        {
          "output_type": "stream",
          "name": "stdout",
          "text": [
            "Element found at index: 5\n"
          ]
        }
      ]
    },
    {
      "cell_type": "code",
      "source": [
        "#binary search in sorted array\n",
        "def binary_search(arr,target):\n",
        "  low = 0\n",
        "  high= len(arr)-1\n",
        "  while low<=high:\n",
        "    mid = (low+high)//2\n",
        "    if arr[mid]==target:\n",
        "      return mid\n",
        "    elif arr[mid]<target:\n",
        "      low = mid+1\n",
        "    else:\n",
        "      high = mid-1\n",
        "\n",
        "arr =[1,2,3,4,5]\n",
        "target=5\n",
        "binary_search(arr,target)"
      ],
      "metadata": {
        "colab": {
          "base_uri": "https://localhost:8080/"
        },
        "id": "26KZHr7rbis6",
        "outputId": "3d9ce757-5979-4e33-e6ec-14c235fb9f79"
      },
      "execution_count": null,
      "outputs": [
        {
          "output_type": "execute_result",
          "data": {
            "text/plain": [
              "4"
            ]
          },
          "metadata": {},
          "execution_count": 140
        }
      ]
    },
    {
      "cell_type": "code",
      "source": [
        "#binary search to insert an element into a sorted array\n",
        "def binary_search(arr,low,high,key):\n",
        "  if high<=low:\n",
        "    return (low+1) if key>arr[low] else low\n",
        "  \n",
        "  mid=int((low+high)/2)\n",
        "  if key==arr[mid]:\n",
        "    return mid+1\n",
        "  elif key>arr[mid]:\n",
        "    return binary_search(arr,(mid+1),high,key)\n",
        "  else:\n",
        "    return binary_search(arr,low,(mid-1),key)\n",
        "\n",
        "def insert_sorted(arr,key):\n",
        "  pos = binary_search(arr,0,len(arr)-1,key)\n",
        "  arr.insert(pos,key)\n",
        "  return arr\n",
        "\n",
        "arr = [1,4,5,7,10]\n",
        "print(\"original array:\",arr)\n",
        "\n",
        "insert_sorted(arr,2)\n",
        "print(\"modified array:\",arr)"
      ],
      "metadata": {
        "colab": {
          "base_uri": "https://localhost:8080/"
        },
        "id": "5J4pWe1gbivh",
        "outputId": "f22c31e7-d2ea-43f8-e651-e095fbcbe512"
      },
      "execution_count": null,
      "outputs": [
        {
          "output_type": "stream",
          "name": "stdout",
          "text": [
            "original array: [1, 4, 5, 7, 10]\n",
            "modified array: [1, 2, 4, 5, 7, 10]\n"
          ]
        }
      ]
    },
    {
      "cell_type": "code",
      "source": [
        "#delete element in sorted array\n",
        "def binary_search(arr,x,l,r):\n",
        "  while l<=r:\n",
        "    mid = l+(r-l)//2\n",
        "    if arr[mid]==x:\n",
        "      return mid\n",
        "    elif arr[mid]<x:\n",
        "      l = mid+1\n",
        "    else:\n",
        "      r = mid-1\n",
        "  return -1\n",
        "\n",
        "arr=[1,2,3,4,5,6]\n",
        "x=3\n",
        "index = binary_search(arr,x,0,len(arr)-1)\n",
        "\n",
        "if index ==-1:\n",
        "  print(x,\"element not found\")\n",
        "else:\n",
        "  del arr[index]\n",
        "print(\"after deleting the elements:\",arr)"
      ],
      "metadata": {
        "colab": {
          "base_uri": "https://localhost:8080/"
        },
        "id": "OcBP-Z4IbiyF",
        "outputId": "251f3516-bd7f-4fd3-b1de-cffb16a931ab"
      },
      "execution_count": null,
      "outputs": [
        {
          "output_type": "stream",
          "name": "stdout",
          "text": [
            "after deleting the elements: [1, 2, 4, 5, 6]\n"
          ]
        }
      ]
    },
    {
      "cell_type": "code",
      "source": [
        "#Find the element that appears once in an array \n",
        "#where every other element appears twice\n",
        "def singelement(arr):\n",
        "  result = 0\n",
        "  for i in range(len(arr)):\n",
        "    result = result^arr[i]\n",
        "    return result\n",
        "  if result==0:\n",
        "    print(\"no single occurance is present in an array\")\n",
        "  else:\n",
        "    return result\n",
        "arr=[1,2,3,4,5,2,3]\n",
        "singelement(arr)"
      ],
      "metadata": {
        "colab": {
          "base_uri": "https://localhost:8080/"
        },
        "id": "gaKHSDeWbi0b",
        "outputId": "40e010a9-e73f-40b0-eb37-03e8b1e0636f"
      },
      "execution_count": null,
      "outputs": [
        {
          "output_type": "execute_result",
          "data": {
            "text/plain": [
              "1"
            ]
          },
          "metadata": {},
          "execution_count": 38
        }
      ]
    },
    {
      "cell_type": "code",
      "source": [
        "def singleelement(arr, n):\n",
        "    low = 0\n",
        "    high = n - 2\n",
        "    mid = 0\n",
        "    while (low <= high):\n",
        "        mid = (low + high) // 2\n",
        "        if (arr[mid] == arr[mid ^ 1]):\n",
        "            low = mid + 1\n",
        "        else:\n",
        "            high = mid - 1\n",
        "     \n",
        "    return arr[low]\n",
        "     \n",
        "# Driver code\n",
        "arr = [1,2,3,4,1,2,3]\n",
        "size = len(arr)\n",
        "arr.sort()\n",
        "print(singleelement(arr, size))"
      ],
      "metadata": {
        "colab": {
          "base_uri": "https://localhost:8080/"
        },
        "id": "COpP4oKRbi_T",
        "outputId": "dc9aa242-09fe-452b-9bd1-0c8fc93b9784"
      },
      "execution_count": null,
      "outputs": [
        {
          "output_type": "stream",
          "name": "stdout",
          "text": [
            "4\n"
          ]
        }
      ]
    },
    {
      "cell_type": "code",
      "source": [
        "'''Given an array of size N filled with numbers from 1 to N-1 in random order. \n",
        "The array has only one repetitive element. The task is to find the repetitive element.'''\n",
        "def findRepetitive(arr):\n",
        "    numSet = set()\n",
        "    for i in arr:\n",
        "        if i in numSet:\n",
        "            return i\n",
        "        else:\n",
        "            numSet.add(i)\n",
        "    print(\"repetitive element not found\")\n",
        "\n",
        "arr = [1,2,3,4,5,5]\n",
        "findRepetitive(arr)"
      ],
      "metadata": {
        "colab": {
          "base_uri": "https://localhost:8080/"
        },
        "id": "hGCHihUkbjBu",
        "outputId": "0bd50009-32e6-4a4d-c03a-b7461af53a30"
      },
      "execution_count": null,
      "outputs": [
        {
          "output_type": "execute_result",
          "data": {
            "text/plain": [
              "5"
            ]
          },
          "metadata": {},
          "execution_count": 64
        }
      ]
    },
    {
      "cell_type": "code",
      "source": [
        "#leet code problems\n",
        "\"\"\"Given an array of integers nums and an integer target, return indices of the two numbers such that they add up to target.\n",
        "You may assume that each input would have exactly one solution, and you may not use the same element twice.\"\"\"\n",
        "class Solution:\n",
        "    def twoSum(self, nums,target):\n",
        "        # iterate through the nums list\n",
        "        for i in range(len(nums)):\n",
        "            # iterate again through the nums list starting from the next index\n",
        "            for j in range(i+1, len(nums)):\n",
        "                # check if the current two elements add up to the target\n",
        "                if nums[i] + nums[j] == target:\n",
        "                    # return the indices of the two elements\n",
        "                    return [i, j]\n",
        "        return None\n",
        "\n",
        "num = [1,2,3,4,5]\n",
        "target = 3\n",
        "s = Solution()\n",
        "output = s.twoSum(num,target)\n",
        "if output ==None:\n",
        "  print(\"Not found\")\n",
        "else:\n",
        "  print(output)"
      ],
      "metadata": {
        "id": "ZNkTKaSebjEL",
        "colab": {
          "base_uri": "https://localhost:8080/"
        },
        "outputId": "cec86f47-f812-4c18-9f13-f197f4b653a6"
      },
      "execution_count": null,
      "outputs": [
        {
          "output_type": "stream",
          "name": "stdout",
          "text": [
            "[0, 1]\n"
          ]
        }
      ]
    },
    {
      "cell_type": "code",
      "source": [
        "class Solution:\n",
        "  def twoSum(self,num,target):\n",
        "    for i in range(len(nums)):\n",
        "      for j in range(i+1,len(nums)):\n",
        "        if nums[i]+nums[j]==target:\n",
        "          return [i,j]\n",
        "    return None\n",
        "\n",
        "nums = [2,7,11,15]\n",
        "target = 26\n",
        "s = Solution()\n",
        "output = s.twoSum(num,target)\n",
        "if output==None:\n",
        "  print(\"not found\")\n",
        "else:\n",
        "  print(output)"
      ],
      "metadata": {
        "id": "vE2Lfx9jbjG9",
        "colab": {
          "base_uri": "https://localhost:8080/"
        },
        "outputId": "dacdc673-2d71-4746-e1ab-75d8628100ef"
      },
      "execution_count": null,
      "outputs": [
        {
          "output_type": "stream",
          "name": "stdout",
          "text": [
            "[2, 3]\n"
          ]
        }
      ]
    },
    {
      "cell_type": "code",
      "source": [
        "#altenative\n",
        "class Solution:\n",
        "    def twoSum(self, nums,taget):\n",
        "        # create an empty dictionary\n",
        "        num_dict = {}\n",
        "        # iterate through the nums list\n",
        "        for i, num in enumerate(nums):\n",
        "            # calculate the complement value\n",
        "            complement = target - num\n",
        "            # check if the complement is in the dictionary\n",
        "            if complement in num_dict:\n",
        "                # return the complement's index and the current index\n",
        "                return [num_dict[complement], i]\n",
        "            # add the current num and index to the dictionary\n",
        "            num_dict[num] = i\n",
        "\n",
        "nums = [3,7,11,15]\n",
        "target = 14\n",
        "x = Solution()\n",
        "out = x.twoSum(nums,target)\n",
        "print(out)"
      ],
      "metadata": {
        "id": "XvQt_Q4HbjJM",
        "colab": {
          "base_uri": "https://localhost:8080/"
        },
        "outputId": "528ebebf-ef65-4f14-b251-d51fb6ee4b37"
      },
      "execution_count": null,
      "outputs": [
        {
          "output_type": "stream",
          "name": "stdout",
          "text": [
            "[0, 2]\n"
          ]
        }
      ]
    },
    {
      "cell_type": "markdown",
      "source": [
        "\n",
        "\n",
        "**26**.Given an integer array nums sorted in non-decreasing order, remove the duplicates in-place such that each unique element appears only once.\n",
        " The relative order of the elements should be kept the same.\n",
        "\n",
        "Since it is impossible to change the length of the array in some languages, you must instead have the result be placed in the first part of the array nums. More formally, if there are k elements after removing the duplicates, then the first k elements of nums should hold the final result. It does not matter what you leave beyond the first k elements.\n",
        "Return k after placing the final result in the first k slots of nums.\n",
        "Do not allocate extra space for another array. You must do this by modifying the input array in-place with O(1) extra memor"
      ],
      "metadata": {
        "id": "ZtEPO9tAL09j"
      }
    },
    {
      "cell_type": "code",
      "source": [
        "class Solution:\n",
        "    def removeDuplicates(self, nums):\n",
        "        # Keep track of the current index\n",
        "        index = 0\n",
        "        # Iterate through the array\n",
        "        for i in range(1, len(nums)):\n",
        "            # If the current element is different than the previous one\n",
        "            if nums[i] != nums[index]:\n",
        "                # Increment the index\n",
        "                index += 1\n",
        "                # Place the current element at the new index\n",
        "                nums[index] = nums[i]\n",
        "        # Return the new length of the array\n",
        "        return index + 1\n",
        "\n",
        "nums =[0,1,1,1,1,2,2,3,4]\n",
        "x = Solution()\n",
        "out = x.removeDuplicates(nums)\n",
        "print(out)"
      ],
      "metadata": {
        "colab": {
          "base_uri": "https://localhost:8080/"
        },
        "id": "7MsF6SwqHML9",
        "outputId": "ff66fd48-e92d-428a-9c8d-f4204dd389e3"
      },
      "execution_count": null,
      "outputs": [
        {
          "output_type": "stream",
          "name": "stdout",
          "text": [
            "5\n"
          ]
        }
      ]
    },
    {
      "cell_type": "code",
      "source": [
        "class Solution:\n",
        "    def removeDuplicates(self, nums):\n",
        "        # Keep track of the current index\n",
        "        index = 0\n",
        "        # Keep track of the number of unique values\n",
        "        count = 0\n",
        "        # Iterate through the array\n",
        "        for i in range(1, len(nums)):\n",
        "            # If the current element is different than the previous one\n",
        "            if nums[i] != nums[index]:\n",
        "                # Increment the count of unique values\n",
        "                count += 1\n",
        "                # Increment the index\n",
        "                index += 1\n",
        "                # Place the current element at the new index\n",
        "                nums[index] = nums[i]\n",
        "        # Print the unique elements and the total number of unique values\n",
        "        print(\"Unique elements:\", nums[:index + 1])\n",
        "        print(\"Total unique values:\", count)\n",
        "        return nums[:index + 1]\n",
        "\n",
        "\n",
        "nums =[0,1,1,1,1,2,2,3,4,4,4,5]\n",
        "x = Solution()\n",
        "unique_nums = x.removeDuplicates(nums)"
      ],
      "metadata": {
        "colab": {
          "base_uri": "https://localhost:8080/"
        },
        "id": "uRPQWc8pHMIq",
        "outputId": "b2a19fa6-df21-447d-eed0-0dc77376aa37"
      },
      "execution_count": null,
      "outputs": [
        {
          "output_type": "stream",
          "name": "stdout",
          "text": [
            "Unique elements: [0, 1, 2, 3, 4, 5]\n",
            "Total unique values: 5\n"
          ]
        }
      ]
    },
    {
      "cell_type": "code",
      "source": [
        "class Solution:\n",
        "  def removeDuplicates(self,nums):\n",
        "    i=0\n",
        "    while True:\n",
        "      try:\n",
        "        if nums[i] ==nums[i+1]:\n",
        "          nums.pop(i+1)\n",
        "        else:\n",
        "          i+=1\n",
        "      except IndexError:\n",
        "        return len(nums)\n",
        "\n",
        "nums = [1,1,1,2,2,2,3,3,4,4,5,6,6,6,7,7,7,8,9,10]\n",
        "s= Solution()\n",
        "s.removeDuplicates(nums)"
      ],
      "metadata": {
        "colab": {
          "base_uri": "https://localhost:8080/"
        },
        "id": "qXdxt8uyHMHD",
        "outputId": "b70064d5-201e-4599-9766-df0acd55f799"
      },
      "execution_count": null,
      "outputs": [
        {
          "output_type": "execute_result",
          "data": {
            "text/plain": [
              "10"
            ]
          },
          "metadata": {},
          "execution_count": 100
        }
      ]
    },
    {
      "cell_type": "markdown",
      "source": [
        "27. **Remove Elements**\n",
        "Given an integer array nums and an integer val, remove all occurrences of val in nums in-place. The relative order of the elements may be changed.\n",
        "\n",
        "Since it is impossible to change the length of the array in some languages, you must instead have the result be placed in the first part of the array nums. More formally, if there are k elements after removing the duplicates, then the first k elements of nums should hold the final result. It does not matter what you leave beyond the first k elements.\n",
        "\n",
        "Return k after placing the final result in the first k slots of nums.\n",
        "\n",
        "Do not allocate extra space for another array. You must do this by modifying the input array in-place with O(1) extra memory."
      ],
      "metadata": {
        "id": "PhtGXXgle5vI"
      }
    },
    {
      "cell_type": "code",
      "source": [
        "class Solution:\n",
        "  def removelement(self,nums,val):\n",
        "    k = 0\n",
        "    for i in range(len(nums)):\n",
        "      if nums[i] != val:\n",
        "       nums[k] = nums[i]\n",
        "       k+=1\n",
        "    return k\n",
        "\n",
        "nums = [3,2,2,3,3,3,3,5]\n",
        "val = 2\n",
        "s= Solution()\n",
        "s.removelement(nums,val)"
      ],
      "metadata": {
        "colab": {
          "base_uri": "https://localhost:8080/"
        },
        "id": "vGRowwJ2HMEk",
        "outputId": "130b1bcf-61c0-4afe-dcfb-c9392ad53c4e"
      },
      "execution_count": null,
      "outputs": [
        {
          "output_type": "execute_result",
          "data": {
            "text/plain": [
              "6"
            ]
          },
          "metadata": {},
          "execution_count": 110
        }
      ]
    },
    {
      "cell_type": "code",
      "source": [
        "def removeElement(nums,val):\n",
        "  nums[:] = [x for x in nums if x!=val]\n",
        "  return len(nums)\n",
        "nums = [3,2,2,3,3,3,3,5]\n",
        "val = 2\n",
        "removeElement(nums,val)"
      ],
      "metadata": {
        "colab": {
          "base_uri": "https://localhost:8080/"
        },
        "id": "YjFUDIGUjjol",
        "outputId": "590c4f04-d93d-4024-afee-9f3194783401"
      },
      "execution_count": null,
      "outputs": [
        {
          "output_type": "execute_result",
          "data": {
            "text/plain": [
              "6"
            ]
          },
          "metadata": {},
          "execution_count": 8
        }
      ]
    },
    {
      "cell_type": "markdown",
      "source": [
        "35.**Search Insert Position**\n",
        "Given a sorted array of distinct integers and a target value, return the index if the target is found. If not, return the index where it would be if it were inserted in order"
      ],
      "metadata": {
        "id": "iHs-YryziURk"
      }
    },
    {
      "cell_type": "code",
      "source": [
        "def searchinsert(nums,target):\n",
        "  left,right=0,len(nums)-1\n",
        "  while left<=right:\n",
        "    mid = (left+right)//2\n",
        "    if nums[mid]==target:\n",
        "      return mid\n",
        "    elif nums[mid]<target:\n",
        "      left = mid+1\n",
        "    else:\n",
        "      right = mid-1\n",
        "  return left\n",
        "\n",
        "nums = [1,3,5,6]\n",
        "target = 6\n",
        "searchinsert(nums,target)"
      ],
      "metadata": {
        "colab": {
          "base_uri": "https://localhost:8080/"
        },
        "id": "qmqi9pMwHL-x",
        "outputId": "0bdca93a-39da-47ed-b722-6d6aa1a7b70e"
      },
      "execution_count": null,
      "outputs": [
        {
          "output_type": "execute_result",
          "data": {
            "text/plain": [
              "3"
            ]
          },
          "metadata": {},
          "execution_count": 141
        }
      ]
    },
    {
      "cell_type": "code",
      "source": [
        "#alternate\n",
        "def searchinsert(nums,target):\n",
        "  if target not in nums:\n",
        "    nums.append(target)\n",
        "    nums.sort()\n",
        "  return nums.index(target)\n",
        "\n",
        "searchinsert([1,2,3,4],4)"
      ],
      "metadata": {
        "colab": {
          "base_uri": "https://localhost:8080/"
        },
        "id": "EAiIRUoOHL8R",
        "outputId": "152ddc10-2260-47de-ebfd-a59100bf9c90"
      },
      "execution_count": null,
      "outputs": [
        {
          "output_type": "execute_result",
          "data": {
            "text/plain": [
              "3"
            ]
          },
          "metadata": {},
          "execution_count": 143
        }
      ]
    },
    {
      "cell_type": "markdown",
      "source": [
        "66.**plus one**\n",
        "\n",
        "You are given a large integer represented as an integer array digits, where each digits[i] is the ith digit of the integer. The digits are ordered from most significant to least significant in left-to-right order. The large integer does not contain any leading 0's.\n",
        "\n",
        "Increment the large integer by one and return the resulting array of digits."
      ],
      "metadata": {
        "id": "RlxqbnL9q_Yy"
      }
    },
    {
      "cell_type": "code",
      "source": [
        "def plusone(digits):\n",
        "  n = len(digits)\n",
        "  for i in range(n-1,-1,-1):\n",
        "    if digits[i]==9:\n",
        "      digits[i]=0\n",
        "    else:\n",
        "      digits[i]+=1\n",
        "      return digits\n",
        "    \n",
        "    digits.insert(0,1)\n",
        "\n",
        "\n",
        "digits = [9]\n",
        "plusOne(digits)"
      ],
      "metadata": {
        "colab": {
          "base_uri": "https://localhost:8080/"
        },
        "id": "gCwyN9Q_HL6H",
        "outputId": "9d7c1719-da60-4503-94dc-32add18c6995"
      },
      "execution_count": null,
      "outputs": [
        {
          "output_type": "execute_result",
          "data": {
            "text/plain": [
              "[1, 0]"
            ]
          },
          "metadata": {},
          "execution_count": 160
        }
      ]
    },
    {
      "cell_type": "markdown",
      "source": [
        "88. You are given two integer arrays nums1 and nums2, sorted in non-decreasing order, and two integers m and n, representing the number of elements in nums1 and nums2 respectively.\n",
        "\n",
        "Merge nums1 and nums2 into a single array sorted in non-decreasing order.\n",
        "\n",
        "The final sorted array should not be returned by the function, but instead be stored inside the array nums1. To accommodate this, nums1 has a length of m + n, where the first m elements denote the elements that should be merged, and the last n elements are set to 0 and should be ignored. nums2 has a length of n."
      ],
      "metadata": {
        "id": "UU-RgGKH6Cze"
      }
    },
    {
      "cell_type": "code",
      "source": [
        "def merge(nums1, m, nums2, n):\n",
        "    i, j, k = m - 1, n - 1, m + n - 1\n",
        "    while i >= 0 and j >= 0:\n",
        "        if nums1[i] > nums2[j]:\n",
        "            nums1[k] = nums1[i]\n",
        "            i -= 1\n",
        "        else:\n",
        "            nums1[k] = nums2[j]\n",
        "            j -= 1\n",
        "        k -= 1\n",
        "    while j >= 0:\n",
        "        nums1[k] = nums2[j]\n",
        "        j -= 1\n",
        "        k -= 1\n",
        "\n",
        "nums1 = [1, 2, 3, 0, 0, 0]\n",
        "m = 2\n",
        "nums2 = [2, 5, 6]\n",
        "n = 3\n",
        "merge(nums1, m, nums2, n)\n",
        "print(nums1)"
      ],
      "metadata": {
        "id": "EXmhfjeLbjTS",
        "colab": {
          "base_uri": "https://localhost:8080/"
        },
        "outputId": "e8b23099-6dcc-438b-c6d2-831cca8cb589"
      },
      "execution_count": null,
      "outputs": [
        {
          "output_type": "stream",
          "name": "stdout",
          "text": [
            "[1, 2, 2, 5, 6, 0]\n"
          ]
        }
      ]
    },
    {
      "cell_type": "code",
      "source": [
        "def merge(nums1, m, nums2, n):\n",
        "  i,j,k=m-1,n-1,m+n-1\n",
        "  while j>=0:\n",
        "    if i>=0 and nums1[i]>nums2[j]:\n",
        "      nums1[k]=nums1[i]\n",
        "      k-=1\n",
        "      i-=1\n",
        "    else:\n",
        "      nums1[k]=nums2[j]\n",
        "      k-=1\n",
        "      j-=1\n",
        "\n",
        "nums1 = [1, 2, 3, 0, 0, 0]\n",
        "m = 3\n",
        "nums2 = [2, 5, 6]\n",
        "n = 3\n",
        "merge(nums1, m, nums2, n)\n",
        "print(nums1)"
      ],
      "metadata": {
        "id": "vPJaqsoHLBhO",
        "colab": {
          "base_uri": "https://localhost:8080/"
        },
        "outputId": "a68c31ca-2c13-4eed-c34c-958378c46ae1"
      },
      "execution_count": null,
      "outputs": [
        {
          "output_type": "stream",
          "name": "stdout",
          "text": [
            "[1, 2, 2, 3, 5, 6]\n"
          ]
        }
      ]
    },
    {
      "cell_type": "code",
      "source": [
        "def merge(nums1, m, nums2, n):\n",
        "  #we have to find the last index of total m and n as last\n",
        "  last =m+n-1\n",
        "  #we have to find the last index of num1 as n1\n",
        "  n1 = m-1\n",
        "  #we have to find the last index of num2 as n2\n",
        "  n2 = n-1\n",
        "  while last>=0:\n",
        "    if n1>=0 and nums1[n1]>nums2[n2]:\n",
        "      nums1[last]=nums1[n1]\n",
        "      last-=1\n",
        "      n1-=1\n",
        "    else:\n",
        "      nums1[last]=nums2[n2]\n",
        "      last-=1\n",
        "      n2-=1\n",
        "\n",
        "nums1 = [1, 2, 3, 0, 0, 0]\n",
        "m = 3\n",
        "nums2 = [2, 5, 6]\n",
        "n = 3\n",
        "merge(nums1, m, nums2, n)\n",
        "print(nums1)"
      ],
      "metadata": {
        "colab": {
          "base_uri": "https://localhost:8080/"
        },
        "id": "wDjuAUi97a83",
        "outputId": "a91f40b9-890c-443a-cdb6-c2b32f765ca7"
      },
      "execution_count": null,
      "outputs": [
        {
          "output_type": "stream",
          "name": "stdout",
          "text": [
            "[6, 6, 2, 3, 5, 6]\n"
          ]
        }
      ]
    },
    {
      "cell_type": "markdown",
      "source": [
        "217.contains duplicate\n",
        "Given an integer array nums, return true if any value appears at least twice in the array, and return false if every element is distinct."
      ],
      "metadata": {
        "id": "8H4xZ4srPBmt"
      }
    },
    {
      "cell_type": "code",
      "source": [
        "def duplicate(nums):\n",
        "  #return (len(nums)>len(set(nums)))\n",
        "  set_nums = set()\n",
        "  for num in nums:\n",
        "    if num in set_nums:\n",
        "      return True\n",
        "    set_nums.add(num)\n",
        "  return False\n",
        "\n",
        "nums = [1,2,3]\n",
        "duplicate(nums)"
      ],
      "metadata": {
        "id": "KLarAoekTqcf",
        "colab": {
          "base_uri": "https://localhost:8080/"
        },
        "outputId": "f86c7e5d-87f5-4b03-bbdb-802fe8a2f354"
      },
      "execution_count": null,
      "outputs": [
        {
          "output_type": "execute_result",
          "data": {
            "text/plain": [
              "False"
            ]
          },
          "metadata": {},
          "execution_count": 48
        }
      ]
    },
    {
      "cell_type": "markdown",
      "source": [
        "53. **Maximum Subarray**\n",
        "\n",
        "Given an integer array nums, find the \n",
        "subarray\n",
        " with the largest sum, and return its sum"
      ],
      "metadata": {
        "id": "hcsiCBbSUM9c"
      }
    },
    {
      "cell_type": "markdown",
      "source": [
        "The current code is an implementation of the Kadane's algorithm which is used to find the maximum contiguous subarray in a given array.\n",
        "\n",
        "Here's a step-by-step explanation of the code:\n",
        "\n",
        "Initialize two variables max_sum and current_sum with the first element of the input array nums. max_sum will keep track of the maximum sum found so far and current_sum will keep track of the sum of the current subarray.\n",
        "\n",
        "Loop through the nums array. For each iteration:\n",
        "\n",
        "a. Add the current element to current_sum.\n",
        "\n",
        "b. Update max_sum to be the maximum of max_sum and current_sum.\n",
        "\n",
        "c. If current_sum is negative, reset it to zero as a negative current_sum will not contribute to the maximum sum.\n",
        "\n",
        "Return max_sum after the loop ends, which will contain the maximum contiguous subarray sum.\n",
        "\n",
        "The algorithm works by keeping track of the maximum sum found so far and the sum of the current subarray. The sum of the current subarray is updated at each iteration, and if it becomes negative, it is reset to zero as a negative sum will not contribute to the maximum sum. This way, the algorithm can keep track of the maximum sum found so far and the sum of the current subarray, allowing it to find the maximum contiguous subarray sum in linear time."
      ],
      "metadata": {
        "id": "gz2132OzUHxY"
      }
    },
    {
      "cell_type": "code",
      "source": [
        "def maxSubArray(nums):\n",
        "  max_sum = nums[0]\n",
        "  current_sum = 0\n",
        "  for num in nums:\n",
        "    current_sum+=num\n",
        "    max_sum = max(max_sum,current_sum)\n",
        "    current_sum = max(current_sum,0)\n",
        "  return max_sum\n",
        "\n",
        "nums = [5,4,-1,7,8]\n",
        "maxSubArray(nums)"
      ],
      "metadata": {
        "id": "Ez70aQmxTqf-",
        "colab": {
          "base_uri": "https://localhost:8080/"
        },
        "outputId": "fb573e7d-d5d0-4484-8f23-e5203b203987"
      },
      "execution_count": null,
      "outputs": [
        {
          "output_type": "execute_result",
          "data": {
            "text/plain": [
              "23"
            ]
          },
          "metadata": {},
          "execution_count": 1
        }
      ]
    },
    {
      "cell_type": "markdown",
      "source": [
        "**219.Contains Duplicate II**\n",
        "\n",
        "Given an integer array nums and an integer k, return true if there are two distinct indices i and j in the array such that nums[i] == nums[j] and abs(i - j) <= k."
      ],
      "metadata": {
        "id": "e4c5CTcTNjBp"
      }
    },
    {
      "cell_type": "markdown",
      "source": [
        "**constraints:**\n",
        "\n",
        "1. nums.length is the length of the array nums and must be at least 1 and at most 105.\n",
        "\n",
        "2. nums[i] is an element of the array nums and must be within the range of -109 to 109.\n",
        "\n",
        "3. k is the integer input for the function and must be within the range of 0 to 105."
      ],
      "metadata": {
        "id": "IMuwNpRCkhoV"
      }
    },
    {
      "cell_type": "code",
      "source": [
        "# Create dictionary for Lookup\n",
        "def containsNearbyDuplicate(nums, k):\n",
        "        lookup = {}\n",
        "        \n",
        "        for i in range(len(nums)):\n",
        "            \n",
        "            # If num is present in lookup and satisfy the condition return True\n",
        "            if nums[i] in lookup and abs(lookup[nums[i]]-i) <= k:\n",
        "                return True\n",
        "            \n",
        "            # If num is not present in lookup then add it to lookup\n",
        "            lookup[nums[i]] = i\n",
        "        \n",
        "        return False\n",
        "nums = [1,2,3,1,2,3]\n",
        "k=2\n",
        "containsNearbyDuplicate(nums, k)"
      ],
      "metadata": {
        "colab": {
          "base_uri": "https://localhost:8080/"
        },
        "id": "NXsFCncbn3w-",
        "outputId": "10b807b5-be18-4ed1-ce36-af871c387fc5"
      },
      "execution_count": null,
      "outputs": [
        {
          "output_type": "execute_result",
          "data": {
            "text/plain": [
              "False"
            ]
          },
          "metadata": {},
          "execution_count": 56
        }
      ]
    },
    {
      "cell_type": "code",
      "source": [
        "def containsNearbyDuplicate(nums, k):\n",
        "    dup = {}\n",
        "    for i, num in enumerate(nums):\n",
        "        if num in dup and i - dup[num] <= k:\n",
        "            return True\n",
        "        dup[num] = i\n",
        "    return False\n",
        "\n",
        "nums = [1,2,1,3]\n",
        "k=2\n",
        "containsNearbyDuplicate(nums, k)"
      ],
      "metadata": {
        "id": "JDJU7tm8Wuzg",
        "colab": {
          "base_uri": "https://localhost:8080/"
        },
        "outputId": "8ab99d96-0c84-4222-bb16-3d091c78e21c"
      },
      "execution_count": null,
      "outputs": [
        {
          "output_type": "execute_result",
          "data": {
            "text/plain": [
              "True"
            ]
          },
          "metadata": {},
          "execution_count": 67
        }
      ]
    },
    {
      "cell_type": "markdown",
      "source": [
        "**136.Single Number**\n",
        "\n",
        "Given a non-empty array of integers nums, every element appears twice except for one. Find that single one.\n",
        "\n",
        "You must implement a solution with a linear runtime complexity and use only constant extra space."
      ],
      "metadata": {
        "id": "2aBXt10tsPKu"
      }
    },
    {
      "cell_type": "code",
      "source": [
        "from functools import reduce\n",
        "def singleno(nums):\n",
        "  return reduce(lambda total,el:total^el,nums)\n",
        "\n",
        "nums = [1,2,2,3,3,4,4]\n",
        "singleno(nums)"
      ],
      "metadata": {
        "id": "eZI4Q3HzWuvv",
        "colab": {
          "base_uri": "https://localhost:8080/"
        },
        "outputId": "05f23d30-eb1c-47f6-fc4e-dc57b3516cba"
      },
      "execution_count": null,
      "outputs": [
        {
          "output_type": "execute_result",
          "data": {
            "text/plain": [
              "1"
            ]
          },
          "metadata": {},
          "execution_count": 74
        }
      ]
    },
    {
      "cell_type": "code",
      "source": [
        "#alternate\n",
        "def singleNumber(nums):\n",
        "        xor = 0\n",
        "        for num in nums:\n",
        "            xor ^= num\n",
        "        \n",
        "        return xor\n",
        "singleNumber([1,1,2,2,3])"
      ],
      "metadata": {
        "id": "sWOYOgVUWutN",
        "colab": {
          "base_uri": "https://localhost:8080/"
        },
        "outputId": "29815ba0-2871-488c-e0ec-1d6601228121"
      },
      "execution_count": null,
      "outputs": [
        {
          "output_type": "execute_result",
          "data": {
            "text/plain": [
              "3"
            ]
          },
          "metadata": {},
          "execution_count": 77
        }
      ]
    },
    {
      "cell_type": "code",
      "source": [
        "def singleNumber(nums):\n",
        "  for i in nums:\n",
        "    if nums.count(i)==1:\n",
        "      return i\n",
        "\n",
        "singleNumber([1,1,2,2,3])"
      ],
      "metadata": {
        "id": "EcnM6_nnPULc",
        "colab": {
          "base_uri": "https://localhost:8080/"
        },
        "outputId": "1addea9f-67ec-4076-c1cf-eda91fe914c3"
      },
      "execution_count": null,
      "outputs": [
        {
          "output_type": "execute_result",
          "data": {
            "text/plain": [
              "3"
            ]
          },
          "metadata": {},
          "execution_count": 78
        }
      ]
    },
    {
      "cell_type": "markdown",
      "source": [
        "350**.Intersection of Two arrays II**\n",
        "\n",
        "Given two integer arrays nums1 and nums2, return an array of their intersection. Each element in the result must appear as many times as it shows in both arrays and you may return the result in any order."
      ],
      "metadata": {
        "id": "CKININwYoyY1"
      }
    },
    {
      "cell_type": "markdown",
      "source": [
        "1.The Counter class from the collections module is imported to help count the elements in each array.\n",
        "\n",
        "2.The nums1_count and nums2_count variables are created using the Counter class, which returns a dictionary-like object where each key is an array element and its value is the number of times it appears in the array.\n",
        "\n",
        "3.The intersection variable is created by using the & operator on the two count dictionaries. This operator returns a new dictionary containing only the keys that are present in both dictionaries, along with the values corresponding to the minimum count of each key in both dictionaries.\n",
        "\n",
        "4.The result list is initialized as an empty list.\n",
        "\n",
        "5.The for loop iterates through the items in the intersection dictionary. For each item, it extends the result list with the number of instances of the element specified by the count value.\n",
        "\n",
        "6.Finally, the result list is returned as the output of the function."
      ],
      "metadata": {
        "id": "s1wjpZ0auRUz"
      }
    },
    {
      "cell_type": "code",
      "source": [
        "def intersect(nums1, nums2):\n",
        "    from collections import Counter\n",
        "    nums1_count = Counter(nums1)\n",
        "    nums2_count = Counter(nums2)\n",
        "    intersection = nums1_count & nums2_count\n",
        "    result = []\n",
        "    for num, count in intersection.items():\n",
        "        result.extend([num] * count)\n",
        "    return result\n",
        "\n",
        "\n",
        "nums1= [1,2,2,1]\n",
        "nums2 = [2,2]\n",
        "intersect(nums1,nums2)"
      ],
      "metadata": {
        "colab": {
          "base_uri": "https://localhost:8080/"
        },
        "id": "JP6_-Y5tucTk",
        "outputId": "67f6cadc-f5d5-4788-b387-0671c15e5b06"
      },
      "execution_count": null,
      "outputs": [
        {
          "output_type": "execute_result",
          "data": {
            "text/plain": [
              "[2, 2]"
            ]
          },
          "metadata": {},
          "execution_count": 3
        }
      ]
    },
    {
      "cell_type": "code",
      "source": [
        "def intersect(nums1, nums2):\n",
        "  ans = []\n",
        "  for num in nums1:\n",
        "    if num in nums2:\n",
        "      ans.append(num)\n",
        "      nums2.remove(num)\n",
        "  return ans\n",
        "\n",
        "nums1= [1,2,2,1]\n",
        "nums2 = [2,2]\n",
        "intersect(nums1,nums2)"
      ],
      "metadata": {
        "colab": {
          "base_uri": "https://localhost:8080/"
        },
        "id": "WFsNw6cAox7T",
        "outputId": "45a56259-938a-4d18-dffc-2de36bc9b99c"
      },
      "execution_count": null,
      "outputs": [
        {
          "output_type": "execute_result",
          "data": {
            "text/plain": [
              "[2, 2]"
            ]
          },
          "metadata": {},
          "execution_count": 12
        }
      ]
    },
    {
      "cell_type": "markdown",
      "source": [
        "121.**Best time to buy and sell stock**\n",
        "\n",
        "You are given an array prices where prices[i] is the price of a given stock on the ith day.\n",
        "\n",
        "You want to maximize your profit by choosing a single day to buy one stock and choosing a different day in the future to sell that stock.\n",
        "\n",
        "Return the maximum profit you can achieve from this transaction. If you cannot achieve any profit, return 0."
      ],
      "metadata": {
        "id": "CXofByEuzzZu"
      }
    },
    {
      "cell_type": "code",
      "source": [
        "#greedy algorithm\n",
        "def maxProfit(prices):\n",
        "        max_profit = 0\n",
        "        min_price = prices[0]\n",
        "\n",
        "        for current_price in prices:\n",
        "            min_price = min(min_price, current_price)\n",
        "            current_profit = current_price - min_price\n",
        "            max_profit = max(max_profit, current_profit)\n",
        "\n",
        "        return max_profit\n",
        "\n",
        "prices = [7,1,5,3,6,4]\n",
        "maxProfit(prices)"
      ],
      "metadata": {
        "colab": {
          "base_uri": "https://localhost:8080/"
        },
        "id": "_bWK9NI9ox0A",
        "outputId": "961b0782-bf0d-42d7-e681-fa4d3e55de3f"
      },
      "execution_count": null,
      "outputs": [
        {
          "output_type": "execute_result",
          "data": {
            "text/plain": [
              "5"
            ]
          },
          "metadata": {},
          "execution_count": 20
        }
      ]
    },
    {
      "cell_type": "code",
      "source": [
        "def maxProfit(prices):\n",
        "  #2pointers algorithm\n",
        "  l =0 #buy\n",
        "  r = 1 #sell\n",
        "  maxP = 0\n",
        "  while r<len(prices):\n",
        "    if prices[l]<prices[r]:\n",
        "      profit = prices[r]-prices[l]\n",
        "      maxP = max(maxP,profit)\n",
        "    else:\n",
        "      l = r\n",
        "    r+=1\n",
        "  return maxP\n",
        "\n",
        "prices = [7,1,5,3,6,4]\n",
        "maxProfit(prices)"
      ],
      "metadata": {
        "colab": {
          "base_uri": "https://localhost:8080/"
        },
        "id": "buqwzpJqAS0W",
        "outputId": "8bef445e-9f66-49c6-cddd-fab7088d4591"
      },
      "execution_count": null,
      "outputs": [
        {
          "output_type": "execute_result",
          "data": {
            "text/plain": [
              "5"
            ]
          },
          "metadata": {},
          "execution_count": 1
        }
      ]
    },
    {
      "cell_type": "code",
      "source": [
        "def maxProfit(prices):\n",
        "        left = 0 #Buy\n",
        "        right = 1 #Sell\n",
        "        max_profit = 0\n",
        "        while right < len(prices):\n",
        "            currentProfit = prices[right] - prices[left] #our current Profit\n",
        "            if prices[left] < prices[right]:\n",
        "                max_profit =max(currentProfit,max_profit)\n",
        "            else:\n",
        "                left = right\n",
        "            right += 1\n",
        "        return max_profit\n",
        "prices = [7,1,5,3,6,4]\n",
        "maxProfit(prices)"
      ],
      "metadata": {
        "colab": {
          "base_uri": "https://localhost:8080/"
        },
        "id": "Wy3w-TGq1MSt",
        "outputId": "68420593-e913-4b0e-bb0a-3267a844bc65"
      },
      "execution_count": null,
      "outputs": [
        {
          "output_type": "execute_result",
          "data": {
            "text/plain": [
              "5"
            ]
          },
          "metadata": {},
          "execution_count": 15
        }
      ]
    },
    {
      "cell_type": "markdown",
      "source": [
        "242. **Valid Anagram**\n",
        "\n",
        "Given two strings s and t, return true if t is an anagram of s, and false otherwise.\n",
        "\n",
        "An Anagram is a word or phrase formed by rearranging the letters of a different word or phrase, typically using all the original letters exactly once."
      ],
      "metadata": {
        "id": "AkRdgnb83rsv"
      }
    },
    {
      "cell_type": "code",
      "source": [
        "def isAnagram(s,t):\n",
        "        ds = {chr(97+i):0 for i in range(26)}\n",
        "        dt = {chr(97+i):0 for i in range(26)}\n",
        "        \n",
        "        for i in s:\n",
        "            ds[i] += 1\n",
        "        \n",
        "        for i in t:\n",
        "            dt[i] += 1\n",
        "        \n",
        "        return ds == dt\n",
        "\n",
        "s = \"anagram\" \n",
        "t = \"nagaram\"\n",
        "isAnagram(s,t)"
      ],
      "metadata": {
        "id": "lGztASgK3rXk",
        "colab": {
          "base_uri": "https://localhost:8080/"
        },
        "outputId": "ba993824-1171-4b00-b1d9-0b6158b2dab5"
      },
      "execution_count": null,
      "outputs": [
        {
          "output_type": "execute_result",
          "data": {
            "text/plain": [
              "True"
            ]
          },
          "metadata": {},
          "execution_count": 1
        }
      ]
    },
    {
      "cell_type": "markdown",
      "source": [
        "The expression chr(97+i) is used to generate the keys, where chr is a built-in function that returns a string representing a character given its ASCII code. The ASCII code for 'a' is 97 and the ASCII code for 'z' is 122, so the expression chr(97+i) generates the characters 'a' to 'z' as the keys."
      ],
      "metadata": {
        "id": "iaSTYTMf8Bb5"
      }
    },
    {
      "cell_type": "code",
      "source": [
        "s = \"anagram\"\n",
        "t = \"anagram\"\n",
        "def is_anagram(s,t):\n",
        "  if len(s)!=len(t):\n",
        "    return False\n",
        "  countS,countT = {},{}\n",
        "  for i in range(len(s)):\n",
        "    countS[s[i]] = 1+ countS.get(s[i],0)\n",
        "    countT[t[i]] = 1+ countT.get(t[i],0)\n",
        "  \n",
        "  for c in countS:\n",
        "    if countS[c] != countT.get(c,0):\n",
        "      return False\n",
        "  return True\n",
        "\n",
        "is_anagram(s,t)"
      ],
      "metadata": {
        "colab": {
          "base_uri": "https://localhost:8080/"
        },
        "id": "Bm1-i9tyQcVQ",
        "outputId": "aafe6624-1cc8-4fcf-a73c-1dfc0847eca5"
      },
      "execution_count": null,
      "outputs": [
        {
          "output_type": "execute_result",
          "data": {
            "text/plain": [
              "True"
            ]
          },
          "metadata": {},
          "execution_count": 13
        }
      ]
    },
    {
      "cell_type": "markdown",
      "source": [
        "49.**Group Anagrams**\n",
        "\n",
        "Given an array of strings strs, group the anagrams together. You can return the answer in any order.\n",
        "\n",
        "An Anagram is a word or phrase formed by rearranging the letters of a different word or phrase, typically using all the original letters exactly once."
      ],
      "metadata": {
        "id": "D_hCV_gLYZEw"
      }
    },
    {
      "cell_type": "code",
      "source": [
        "from collections import defaultdict\n",
        "\n",
        "def groupAnagrams(strs):\n",
        "    ans = defaultdict(list)\n",
        "    for s in strs:\n",
        "        count = [0] * 26\n",
        "        for c in s:\n",
        "          count[ord(c) - ord(\"a\")] += 1\n",
        "          ans[tuple(count)].append(s)\n",
        "    return res.values()\n",
        "\n",
        "strs = [\"eat\",\"tea\",\"tan\",\"ate\",\"nat\",\"bat\"]\n",
        "groupAnagrams(strs)\n",
        "#O(m*n)"
      ],
      "metadata": {
        "id": "xFmUUoOQoxsO"
      },
      "execution_count": null,
      "outputs": []
    },
    {
      "cell_type": "code",
      "source": [
        "hashmap = {1:\"hello\",2:\"world\"}\n",
        "nums = [1,2,3,4,5]\n",
        "print(100 in nums)"
      ],
      "metadata": {
        "colab": {
          "base_uri": "https://localhost:8080/"
        },
        "id": "iUeXiyKJYZrp",
        "outputId": "8b41a857-8fb8-4021-eba1-51fc5152ee83"
      },
      "execution_count": null,
      "outputs": [
        {
          "output_type": "stream",
          "name": "stdout",
          "text": [
            "False\n"
          ]
        }
      ]
    },
    {
      "cell_type": "code",
      "source": [
        "array = [1,2,3,4,5]\n",
        "print(array)\n",
        "array.insert(0,270)\n",
        "print(array)"
      ],
      "metadata": {
        "colab": {
          "base_uri": "https://localhost:8080/"
        },
        "id": "NmnFxBxtYZpU",
        "outputId": "b6ec6d8a-24dd-458a-a769-19e210377910"
      },
      "execution_count": null,
      "outputs": [
        {
          "output_type": "stream",
          "name": "stdout",
          "text": [
            "[1, 2, 3, 4, 5]\n",
            "[270, 1, 2, 3, 4, 5]\n"
          ]
        }
      ]
    },
    {
      "cell_type": "code",
      "source": [
        "exp = [2200,2350,2600,2130,2190]\n",
        "exp[1]-exp[0]\n",
        "exp[0]+exp[1]+exp[2]\n",
        "2000 in exp\n",
        "exp.append(1980)\n",
        "exp[3]-200"
      ],
      "metadata": {
        "colab": {
          "base_uri": "https://localhost:8080/"
        },
        "id": "WeHqsYGCYZms",
        "outputId": "3f80d077-b624-44c4-87ca-fd5fdd66d3f9"
      },
      "execution_count": null,
      "outputs": [
        {
          "output_type": "execute_result",
          "data": {
            "text/plain": [
              "1930"
            ]
          },
          "metadata": {},
          "execution_count": 13
        }
      ]
    },
    {
      "cell_type": "code",
      "source": [
        "heroes=['spider man','thor','hulk','iron man','captain america']\n",
        "len(heroes)\n",
        "heroes.append(\"black panther\")\n",
        "del heroes[2]\n",
        "del heroes[1]\n",
        "print(heroes)\n",
        "heroes[1:3]=\"doctor strange\"\n",
        "heroes.sort()\n",
        "heroes.insert(3,\"awaz\")\n",
        "print(heroes)"
      ],
      "metadata": {
        "colab": {
          "base_uri": "https://localhost:8080/"
        },
        "id": "vD0Jcnl0YZjy",
        "outputId": "f414591f-baf4-42fd-fb4a-3fd4dcfaf7ce"
      },
      "execution_count": null,
      "outputs": [
        {
          "output_type": "stream",
          "name": "stdout",
          "text": [
            "['spider man', 'iron man', 'captain america', 'black panther']\n",
            "[' ', 'a', 'black panther', 'awaz', 'c', 'd', 'e', 'g', 'n', 'o', 'o', 'r', 'r', 's', 'spider man', 't', 't']\n"
          ]
        }
      ]
    },
    {
      "cell_type": "code",
      "source": [
        "max_no = int(input(\"enter any number:\"))\n",
        "odd_no = []\n",
        "for i in range(1,(max_no)):\n",
        "  if i%2!=0:\n",
        "    odd_no.append(i)\n",
        "\n",
        "print(\"odd numbers:\",odd_no)\n"
      ],
      "metadata": {
        "colab": {
          "base_uri": "https://localhost:8080/"
        },
        "id": "MeZouumHYZhG",
        "outputId": "86250a73-78d6-49cd-cb8c-d513b4a965ca"
      },
      "execution_count": null,
      "outputs": [
        {
          "output_type": "stream",
          "name": "stdout",
          "text": [
            "enter any number:10\n",
            "odd numbers: [1, 3, 5, 7, 9]\n"
          ]
        }
      ]
    },
    {
      "cell_type": "code",
      "source": [
        "dict1 = {\"a\":1,\"b\":2}\n",
        "dict2  = {\"c\":3,\"d\":4}\n",
        "\n",
        "dict3 = {**dict1,**dict2}\n",
        "print(dict3)\n",
        "print(\"d\" in dict2)\n",
        "dict1.pop(\"a\")\n",
        "dict1.pop(\"b\",\"missing key\")\n",
        "print(dict1)"
      ],
      "metadata": {
        "colab": {
          "base_uri": "https://localhost:8080/"
        },
        "id": "-3-0e7piYZcC",
        "outputId": "08edfe95-79cc-4664-8439-547debc82a20"
      },
      "execution_count": null,
      "outputs": [
        {
          "output_type": "stream",
          "name": "stdout",
          "text": [
            "{'a': 1, 'b': 2, 'c': 3, 'd': 4}\n",
            "True\n",
            "{}\n"
          ]
        }
      ]
    },
    {
      "cell_type": "code",
      "source": [
        "dict5 = {i:i**2 for i in range(10,20)}\n",
        "print(dict5)"
      ],
      "metadata": {
        "colab": {
          "base_uri": "https://localhost:8080/"
        },
        "id": "M0RqupJIYZZg",
        "outputId": "356b7fd4-c16b-4d01-f8df-e7fc5dd07687"
      },
      "execution_count": null,
      "outputs": [
        {
          "output_type": "stream",
          "name": "stdout",
          "text": [
            "{10: 100, 11: 121, 12: 144, 13: 169, 14: 196, 15: 225, 16: 256, 17: 289, 18: 324, 19: 361}\n"
          ]
        }
      ]
    },
    {
      "cell_type": "code",
      "source": [
        "dict6 = {\"a\":\"apple\",\"b\":\"banana\",\"c\":None}\n",
        "dict7 = {key:value for (key,value) in dict6.items()}\n",
        "print(dict7)\n",
        "print(dict6.get(\"b\"))"
      ],
      "metadata": {
        "colab": {
          "base_uri": "https://localhost:8080/"
        },
        "id": "tgpRw73ZYZWm",
        "outputId": "8dcc9d72-172c-4bce-d2a8-75c7225c2061"
      },
      "execution_count": null,
      "outputs": [
        {
          "output_type": "stream",
          "name": "stdout",
          "text": [
            "{'a': 'apple', 'b': 'banana', 'c': None}\n",
            "banana\n"
          ]
        }
      ]
    },
    {
      "cell_type": "code",
      "source": [
        "heights = {'John': 175, 'Jane': 150, 'Jim': 155, 'Matt': 170}\n",
        "tall = {key:value for (key,value) in heights.items() if value>=170}\n",
        "print(tall)"
      ],
      "metadata": {
        "colab": {
          "base_uri": "https://localhost:8080/"
        },
        "id": "AioZ25OZHgfQ",
        "outputId": "d00b996b-d4a9-4b9c-eed7-26a71d14b7a4"
      },
      "execution_count": null,
      "outputs": [
        {
          "output_type": "stream",
          "name": "stdout",
          "text": [
            "{'John': 175, 'Matt': 170}\n"
          ]
        }
      ]
    },
    {
      "cell_type": "code",
      "source": [
        "my_dict = {\"name\":\"Max\", \"age\":28, \"city\":\"New York\"}\n",
        "if \"name\" in my_dict:\n",
        "  print(my_dict[\"name\"])\n",
        "\n",
        "try:\n",
        "  print(my_dict[\"Age\"])\n",
        "except KeyError:\n",
        "  print(\"not found\")"
      ],
      "metadata": {
        "id": "-pnlY_i2nc6t",
        "colab": {
          "base_uri": "https://localhost:8080/"
        },
        "outputId": "cdcb9902-60c2-48e8-82fd-6510361a18d6"
      },
      "execution_count": null,
      "outputs": [
        {
          "output_type": "stream",
          "name": "stdout",
          "text": [
            "Max\n",
            "not found\n"
          ]
        }
      ]
    },
    {
      "cell_type": "code",
      "source": [
        "#loop over keys\n",
        "my_dict = {\"name\":\"Max\", \"age\":28, \"city\":\"New York\"}\n",
        "\n",
        "for key,value in my_dict.items():\n",
        "  print(key,my_dict[key])"
      ],
      "metadata": {
        "id": "DM7iRTsoS7ge",
        "colab": {
          "base_uri": "https://localhost:8080/"
        },
        "outputId": "8e5a3393-bc12-4fba-ba59-b706fedc279f"
      },
      "execution_count": null,
      "outputs": [
        {
          "output_type": "stream",
          "name": "stdout",
          "text": [
            "name Max\n",
            "age 28\n",
            "city New York\n"
          ]
        }
      ]
    },
    {
      "cell_type": "code",
      "source": [
        "#tuple\n",
        "'''A tuple is a collection of objects which is ordered and immutable. \n",
        "Tuples are similar to lists, the main difference ist the immutability. \n",
        "In Python tuples are written with round brackets and comma separated values.'''\n",
        "\n",
        "my_tuple = (\"max\",29,\"new york\")\n",
        "my_tuple[-1]\n",
        "if \"newyork\" in my_tuple:\n",
        "  print(\"yes\")\n",
        "else:\n",
        "  print(\"no\")"
      ],
      "metadata": {
        "colab": {
          "base_uri": "https://localhost:8080/"
        },
        "id": "X2f5vM8CTg0c",
        "outputId": "9ffb9a48-7927-4051-bc73-6c4861e2bc98"
      },
      "execution_count": null,
      "outputs": [
        {
          "output_type": "stream",
          "name": "stdout",
          "text": [
            "no\n"
          ]
        }
      ]
    },
    {
      "cell_type": "code",
      "source": [
        "tup = ('a','p','p','l','e',)\n",
        "tup.index(\"l\")"
      ],
      "metadata": {
        "colab": {
          "base_uri": "https://localhost:8080/"
        },
        "id": "EXRjH_y4Tg3G",
        "outputId": "981b77a0-4b20-4ca5-f54b-571ab0f064bd"
      },
      "execution_count": null,
      "outputs": [
        {
          "output_type": "execute_result",
          "data": {
            "text/plain": [
              "3"
            ]
          },
          "metadata": {},
          "execution_count": 100
        }
      ]
    },
    {
      "cell_type": "code",
      "source": [
        "string = \"hello\"\n",
        "print(tuple(string))"
      ],
      "metadata": {
        "colab": {
          "base_uri": "https://localhost:8080/"
        },
        "id": "eIFgL59cTg5e",
        "outputId": "1a246309-4be0-4fed-e321-c61bc8833e39"
      },
      "execution_count": null,
      "outputs": [
        {
          "output_type": "stream",
          "name": "stdout",
          "text": [
            "('h', 'e', 'l', 'l', 'o')\n"
          ]
        }
      ]
    },
    {
      "cell_type": "code",
      "source": [
        "my_tuple = (1,2,3) + (4,5,6)\n",
        "print(my_tuple)"
      ],
      "metadata": {
        "colab": {
          "base_uri": "https://localhost:8080/"
        },
        "id": "X7NvMun2Tg8A",
        "outputId": "13f3014a-be57-4ef6-b99e-ceb41bf92367"
      },
      "execution_count": null,
      "outputs": [
        {
          "output_type": "stream",
          "name": "stdout",
          "text": [
            "(1, 2, 3, 4, 5, 6)\n"
          ]
        }
      ]
    },
    {
      "cell_type": "code",
      "source": [
        "from collections import *\n",
        "strs = [\"eat\",\"tea\",\"tan\",\"ate\",\"nat\",\"bat\"]\n",
        "def group(strs):\n",
        "  res = defaultdict(list)\n",
        "  for s in strs:\n",
        "    count = [0]*26 #a....z\n",
        "    for c in s:\n",
        "      count[ord(c)-ord(\"a\")]+=1\n",
        "\n",
        "    res[tuple(count)].append(s)\n",
        "  return res.values()\n",
        "\n",
        "group(strs)"
      ],
      "metadata": {
        "id": "dmPmosUVTg-f",
        "colab": {
          "base_uri": "https://localhost:8080/"
        },
        "outputId": "e1497be8-d45c-4b9a-8ba5-885c0828ccd4"
      },
      "execution_count": null,
      "outputs": [
        {
          "output_type": "execute_result",
          "data": {
            "text/plain": [
              "dict_values([['eat', 'tea', 'ate'], ['tan', 'nat'], ['bat']])"
            ]
          },
          "metadata": {},
          "execution_count": 41
        }
      ]
    },
    {
      "cell_type": "markdown",
      "source": [
        "347**Top k Frequent elements**\n",
        "\n",
        "Given an integer array nums and an integer k, return the k most frequent elements. You may return the answer in any order"
      ],
      "metadata": {
        "id": "LrkGaMoQPeha"
      }
    },
    {
      "cell_type": "code",
      "source": [
        "def topKFrequent(nums, k):\n",
        "    # Count the frequency of each element in the array\n",
        "    count = {}\n",
        "    for num in nums:\n",
        "        if num in count:\n",
        "            count[num] += 1\n",
        "        else:\n",
        "            count[num] = 1\n",
        "    \n",
        "    # Create a list of buckets, where each bucket contains the elements with the same frequency\n",
        "    buckets = [[] for _ in range(len(nums) + 1)]\n",
        "    for num, freq in count.items():\n",
        "        buckets[freq].append(num)\n",
        "    \n",
        "    # Collect the k most frequent elements from the buckets\n",
        "    result = []\n",
        "    for i in range(len(buckets) - 1, -1, -1):\n",
        "        if buckets[i]:\n",
        "            result.extend(buckets[i])\n",
        "        if len(result) >= k:\n",
        "            break\n",
        "    \n",
        "    return result[:k]\n",
        "\n",
        "nums = [1,1,2,2,3,3,3,5]\n",
        "k=3\n",
        "topKFrequent(nums, k)"
      ],
      "metadata": {
        "id": "6NoYrAWNThBQ",
        "colab": {
          "base_uri": "https://localhost:8080/"
        },
        "outputId": "77637e4d-c895-40cf-f01a-b408c68ac284"
      },
      "execution_count": null,
      "outputs": [
        {
          "output_type": "execute_result",
          "data": {
            "text/plain": [
              "[3, 1, 2]"
            ]
          },
          "metadata": {},
          "execution_count": 52
        }
      ]
    },
    {
      "cell_type": "code",
      "source": [
        "def topKFrequent(nums,k):\n",
        "        unique = set(nums)\n",
        "        while len(unique) > k:\n",
        "            for x in unique:\n",
        "                nums.remove(x)\n",
        "            unique = set(nums)\n",
        "        return set(nums)\n",
        "\n",
        "nums = [6,1,1,1,2,2,3,3,3,5,5,5,7]\n",
        "k=6\n",
        "topKFrequent(nums, k)"
      ],
      "metadata": {
        "id": "tUtCX6vFThEQ",
        "colab": {
          "base_uri": "https://localhost:8080/"
        },
        "outputId": "6439b26f-ffef-4ca9-c122-85912268142e"
      },
      "execution_count": null,
      "outputs": [
        {
          "output_type": "execute_result",
          "data": {
            "text/plain": [
              "{1, 2, 3, 5, 6, 7}"
            ]
          },
          "metadata": {},
          "execution_count": 82
        }
      ]
    },
    {
      "cell_type": "code",
      "source": [
        "def mostfrequent(nums,k):\n",
        "  unique = set(nums)\n",
        "  while len(unique)>k:\n",
        "    for x in unique:\n",
        "      nums.remove(x)\n",
        "    unique = set(nums)\n",
        "  return set(nums)\n",
        "\n",
        "nums = [1,2,4,5,2,1,4]\n",
        "k = 2\n",
        "mostfrequent(nums,k)"
      ],
      "metadata": {
        "id": "LWKtmMWsThLn",
        "colab": {
          "base_uri": "https://localhost:8080/"
        },
        "outputId": "14f0c2fb-96d7-4a94-8db4-61e370dd1a4c"
      },
      "execution_count": null,
      "outputs": [
        {
          "output_type": "execute_result",
          "data": {
            "text/plain": [
              "set()"
            ]
          },
          "metadata": {},
          "execution_count": 87
        }
      ]
    },
    {
      "cell_type": "markdown",
      "source": [
        "**238. Product of Array Except Self**\n",
        "\n",
        "Given an integer array nums, return an array answer such that answer[i] is equal to the product of all the elements of nums except nums[i].\n",
        "\n",
        "The product of any prefix or suffix of nums is guaranteed to fit in a 32-bit integer.\n",
        "\n",
        "You must write an algorithm that runs in O(n) time and without using the division operation."
      ],
      "metadata": {
        "id": "qDcK9Q62VNJ8"
      }
    },
    {
      "cell_type": "code",
      "source": [
        "def productExceptSelf(nums) -> 'list[int]':\n",
        "        \n",
        "        products = [1] * len(nums)\n",
        "        \n",
        "        leading = 1 \n",
        "        for i, num in enumerate(nums):\n",
        "            products[i] = leading\n",
        "            leading *= num \n",
        "\n",
        "        trailing = 1 \n",
        "        for i, num in reversed(list(enumerate(nums))):\n",
        "            products[i] *= trailing\n",
        "            trailing *= num\n",
        "        \n",
        "        return products\n",
        "\n",
        "nums = [1,2,3,4]\n",
        "productExceptSelf(nums)"
      ],
      "metadata": {
        "colab": {
          "base_uri": "https://localhost:8080/"
        },
        "id": "YorR7qtsVJbW",
        "outputId": "b46e7b07-5a42-4ed6-c1f9-41144d3988bc"
      },
      "execution_count": null,
      "outputs": [
        {
          "output_type": "execute_result",
          "data": {
            "text/plain": [
              "[24, 12, 8, 6]"
            ]
          },
          "metadata": {},
          "execution_count": 7
        }
      ]
    },
    {
      "cell_type": "code",
      "source": [
        "def product_except(nums):\n",
        "  res = [1]*(len(nums))\n",
        "  prefix = 1\n",
        "  for i in range(len(nums)):\n",
        "    res[i]=prefix\n",
        "    prefix *=nums[i]\n",
        "\n",
        "  postfix = 1\n",
        "  for i in range(len(nums)-1,-1,-1):\n",
        "    res[i] *=postfix\n",
        "    postfix *=nums[i]\n",
        "  return res\n",
        "\n",
        "\n",
        "nums=[1,2,3,4]\n",
        "product_except(nums)"
      ],
      "metadata": {
        "colab": {
          "base_uri": "https://localhost:8080/"
        },
        "id": "LmQPZ9LjVJg-",
        "outputId": "a955db23-dd0a-4534-bd7c-e329e53896e9"
      },
      "execution_count": null,
      "outputs": [
        {
          "output_type": "execute_result",
          "data": {
            "text/plain": [
              "[24, 12, 8, 6]"
            ]
          },
          "metadata": {},
          "execution_count": 21
        }
      ]
    },
    {
      "cell_type": "code",
      "source": [
        "def products(nums):\n",
        "  res = [1]*len(nums)\n",
        "  prefix = 1\n",
        "  for i in range(len(nums)):\n",
        "    res[i] = prefix\n",
        "    prefix *=nums[i]\n",
        "\n",
        "  \n",
        "  postfix = 1\n",
        "  for i in reversed(range(len(nums))):\n",
        "    res[i] *= postfix\n",
        "    postfix *=nums[i]\n",
        "  return res\n",
        "    \n",
        "\n",
        "\n",
        "nums = [1,2,3,4]\n",
        "products(nums)"
      ],
      "metadata": {
        "id": "uvu9Q97WVJkA",
        "colab": {
          "base_uri": "https://localhost:8080/"
        },
        "outputId": "d09a2bf0-a757-4afb-d4f0-d005a1a33274"
      },
      "execution_count": null,
      "outputs": [
        {
          "output_type": "execute_result",
          "data": {
            "text/plain": [
              "[24, 12, 8, 6]"
            ]
          },
          "metadata": {},
          "execution_count": 1
        }
      ]
    },
    {
      "cell_type": "markdown",
      "source": [
        "**36.Valid Sudoku**\n",
        "\n",
        "Determine if a 9 x 9 Sudoku board is valid. Only the filled cells need to be validated according to the following rules:\n",
        "\n",
        "Each row must contain the digits 1-9 without repetition.\n",
        "Each column must contain the digits 1-9 without repetition.\n",
        "Each of the nine 3 x 3 sub-boxes of the grid must contain the digits 1-9 without repetition.\n",
        "\n",
        "**Note:**\n",
        "1. A Sudoku board (partially filled) could be valid but is not necessarily solvable.\n",
        "2. Only the filled cells need to be validated according to the mentioned rules."
      ],
      "metadata": {
        "id": "ySBKABJsr-iA"
      }
    },
    {
      "cell_type": "code",
      "source": [
        "from collections import defaultdict \n",
        "def is_valid_sudoku(board):\n",
        "  rows= defaultdict(set)\n",
        "  cols=defaultdict(set)\n",
        "  squares=defaultdict(set) #key=(r/3,c/3)\n",
        "\n",
        "  for r in range(9):\n",
        "    for c in range(9):\n",
        "      if board[r][c]==\".\":\n",
        "        continue\n",
        "      if (board[r][c] in rows[r] or\n",
        "          board[r][c] in cols[c] or\n",
        "          board[r][c] in squares[(r//3,c//3)]):\n",
        "        return False\n",
        "      cols[c].add(board[r][c])\n",
        "      rows[r].add(board[r][c])\n",
        "      squares[(r//3,c//3)].add(board[r][c])\n",
        "  return True\n",
        "\n",
        "board = [[\"5\",\"3\",\".\",\".\",\"7\",\".\",\".\",\".\",\".\"]\n",
        ",[\"6\",\".\",\".\",\"1\",\"9\",\"5\",\".\",\".\",\".\"]\n",
        ",[\".\",\"9\",\"8\",\".\",\".\",\".\",\".\",\"6\",\".\"]\n",
        ",[\"8\",\".\",\".\",\".\",\"6\",\".\",\".\",\".\",\"3\"]\n",
        ",[\"4\",\".\",\".\",\"8\",\".\",\"3\",\".\",\".\",\"1\"]\n",
        ",[\"7\",\".\",\".\",\".\",\"2\",\".\",\".\",\".\",\"6\"]\n",
        ",[\".\",\"6\",\".\",\".\",\".\",\".\",\"2\",\"8\",\".\"]\n",
        ",[\".\",\".\",\".\",\"4\",\"1\",\"9\",\".\",\".\",\"5\"]\n",
        ",[\".\",\".\",\".\",\".\",\"8\",\".\",\".\",\"7\",\"9\"]]\n",
        "\n",
        "is_valid_sudoku(board)"
      ],
      "metadata": {
        "id": "0RKJqTX0xQ25",
        "colab": {
          "base_uri": "https://localhost:8080/"
        },
        "outputId": "1c541f90-b97b-48be-f37d-ae7ed408fd59"
      },
      "execution_count": null,
      "outputs": [
        {
          "output_type": "execute_result",
          "data": {
            "text/plain": [
              "True"
            ]
          },
          "metadata": {},
          "execution_count": 24
        }
      ]
    },
    {
      "cell_type": "markdown",
      "source": [
        "**Encode and Decode Strings**\n",
        "\n",
        "Design an algorithm to encode a list of strings to a string. The encoded string is then sent over the network and is decoded back to the original list of strings.\n",
        "\n",
        "Please implement encode and decode"
      ],
      "metadata": {
        "id": "MH4QW1_xdAJm"
      }
    },
    {
      "cell_type": "code",
      "source": [
        "def encode(strs):\n",
        "  #encodes a list of strings to a single string\n",
        "  res = \"\"\n",
        "  for s in strs:\n",
        "    res +=str(len(s))+\"#\"+ s\n",
        "  return res\n",
        "\n",
        "def decode(strr):\n",
        "  #dcodes a single string to a list of strings\n",
        "  res,i = [],0\n",
        "  while i<len(strr):\n",
        "    j = i\n",
        "    while strr[j] !=\"#\":\n",
        "      j+=1\n",
        "    length=int(strr[i:j])\n",
        "    res.append(strr[j+1:j+1+length]) \n",
        "    i = j+1+length\n",
        "  return res\n",
        "\n",
        "strr=\"5#hello4#awaz\"\n",
        "strs = [\"hello\",\"world\"]\n",
        "print(encode(strs))\n",
        "print(decode(strr))"
      ],
      "metadata": {
        "id": "8IgRICUwVJm5",
        "colab": {
          "base_uri": "https://localhost:8080/"
        },
        "outputId": "984354f4-0642-46f6-c096-1e9b2ea90a98"
      },
      "execution_count": null,
      "outputs": [
        {
          "output_type": "stream",
          "name": "stdout",
          "text": [
            "5#hello5#world\n",
            "['hello', 'awaz']\n"
          ]
        }
      ]
    },
    {
      "cell_type": "code",
      "source": [
        "class Solution:\n",
        "    \"\"\"\n",
        "    @param: strs: a list of strings\n",
        "    @return: encodes a list of strings to a single string.\n",
        "    \"\"\"\n",
        "    def encode(self, strs):\n",
        "        return ' '.join(strs)\n",
        "\n",
        "    \"\"\"\n",
        "    @param: str: A string\n",
        "    @return: dcodes a single string to a list of strings\n",
        "    \"\"\"\n",
        "    def decode(self, str):\n",
        "        return str.split()"
      ],
      "metadata": {
        "id": "756o7vgQwQwn"
      },
      "execution_count": null,
      "outputs": []
    },
    {
      "cell_type": "code",
      "source": [
        "def encode(self, strs):\n",
        "        # write your code here\n",
        "        encoded = \"\"\n",
        "        for s in strs:\n",
        "            encoded += f'{len(s)}#{s}'\n",
        "        return encoded\n",
        "      \n",
        "def decode(self, str):\n",
        "        # write your code here\n",
        "        res = []\n",
        "        while len(str) > 0:\n",
        "            length = 0\n",
        "            i = 0\n",
        "            while str[i] != '#':\n",
        "                i+=1\n",
        "            length = int(str[:i])\n",
        "            print(length)\n",
        "            s = \"\"\n",
        "            i+=1\n",
        "            for j in range(length):\n",
        "                s+=str[i+j]\n",
        "            res.append(s)\n",
        "            str = str[i+length:]\n",
        "        return res"
      ],
      "metadata": {
        "id": "la1s5cVZVJpj"
      },
      "execution_count": null,
      "outputs": []
    },
    {
      "cell_type": "markdown",
      "source": [
        "128. **Longest Consecutive Sequence**\n",
        "\n",
        "Given an unsorted array of integers nums, return the length of the longest consecutive elements sequence.\n",
        "\n",
        "You must write an algorithm that runs in O(n) time."
      ],
      "metadata": {
        "id": "MkMYx8otwpTX"
      }
    },
    {
      "cell_type": "code",
      "source": [
        "nums = [100,4,200,1,3,2]\n",
        "def longestConsecutive(nums):\n",
        "  numset = set(nums)\n",
        "  longest = 0\n",
        "  for num in nums:\n",
        "    #check if its the start of a sequence\n",
        "    if num-1 not in numset:\n",
        "      current_num = num\n",
        "      current_streak =1\n",
        "      while current_num+1 in numset:\n",
        "        current_num +=1\n",
        "        current_streak +=1\n",
        "      longest = max(longest,current_streak)\n",
        "  return longest\n",
        "\n",
        "longestConsecutive(nums)"
      ],
      "metadata": {
        "id": "ZtDl8g6tVJsL",
        "colab": {
          "base_uri": "https://localhost:8080/"
        },
        "outputId": "8d13dbc9-6aab-4a68-aecd-bd42589f18f2"
      },
      "execution_count": null,
      "outputs": [
        {
          "output_type": "execute_result",
          "data": {
            "text/plain": [
              "4"
            ]
          },
          "metadata": {},
          "execution_count": 58
        }
      ]
    },
    {
      "cell_type": "markdown",
      "source": [
        "**125.Valid Palindrome**\n",
        "\n",
        "A phrase is a palindrome if, after converting all uppercase letters into lowercase letters and removing all non-alphanumeric characters, it reads the same forward and backward. Alphanumeric characters include letters and numbers.\n",
        "\n",
        "Given a string s, return true if it is a palindrome, or false otherwise."
      ],
      "metadata": {
        "id": "xpSx1uWaPsOR"
      }
    },
    {
      "cell_type": "code",
      "source": [
        "def is_palindrome(s):\n",
        "  lwr_cse = s.lower()\n",
        "  pal = \"\".join(c for c in lwr_cse if c.isalnum())\n",
        "  return pal==pal[::-1]\n",
        "\n",
        "s = \"A man, a plan, a canal: Panama\"\n",
        "is_palindrome(s)"
      ],
      "metadata": {
        "colab": {
          "base_uri": "https://localhost:8080/"
        },
        "id": "y3SyMHVZMd6c",
        "outputId": "146ffb7c-0766-41d7-b3cb-3cc6ad87fdf7"
      },
      "execution_count": null,
      "outputs": [
        {
          "output_type": "execute_result",
          "data": {
            "text/plain": [
              "True"
            ]
          },
          "metadata": {},
          "execution_count": 15
        }
      ]
    },
    {
      "cell_type": "code",
      "source": [
        "def is_palindrome(s):\n",
        "  newStr = \"\"\n",
        "  for c in s:\n",
        "    if c.isalnum():\n",
        "      newStr +=c.lower()\n",
        "  return newStr== newStr[::-1]\n",
        "  \n",
        "s = \"A man, a plan, a canal: Panama\"\n",
        "is_palindrome(s)"
      ],
      "metadata": {
        "colab": {
          "base_uri": "https://localhost:8080/"
        },
        "id": "7yvZu2RqMdwi",
        "outputId": "2b4aa6b7-f355-43c7-b8b7-f26010bce994"
      },
      "execution_count": null,
      "outputs": [
        {
          "output_type": "execute_result",
          "data": {
            "text/plain": [
              "True"
            ]
          },
          "metadata": {},
          "execution_count": 16
        }
      ]
    },
    {
      "cell_type": "markdown",
      "source": [
        "without using built in function"
      ],
      "metadata": {
        "id": "NOfNU_AxVYQj"
      }
    },
    {
      "cell_type": "code",
      "source": [
        "def is_palindrome(s):\n",
        "  l,r = 0,len(s)-1\n",
        "  while l<r:\n",
        "    while l<r and not alphaNum(s[l]):\n",
        "      l+=1\n",
        "    while r>l and not alphaNum(s[r]):\n",
        "      r-=1\n",
        "    if s[l].lower() != s[r].lower():\n",
        "      return False\n",
        "    l,r = l+1,r-1\n",
        "  return True\n",
        "\n",
        "def alphaNum(c):\n",
        "  #ascii value\n",
        "  return (ord('A')<=ord(c)<=ord('Z') or\n",
        "   ord('a')<=ord(c)<=ord('z') or\n",
        "   ord('0')<=ord(c)<=ord('9'))\n",
        "  \n",
        "s = \"A man, a plan, a canal: Panama\"\n",
        "is_palindrome(s)"
      ],
      "metadata": {
        "colab": {
          "base_uri": "https://localhost:8080/"
        },
        "id": "5MVeYTF6Mdsv",
        "outputId": "82663f4b-90f8-4b48-f39a-1b5cad1b630c"
      },
      "execution_count": null,
      "outputs": [
        {
          "output_type": "execute_result",
          "data": {
            "text/plain": [
              "True"
            ]
          },
          "metadata": {},
          "execution_count": 18
        }
      ]
    },
    {
      "cell_type": "markdown",
      "source": [
        "**167.Two Sum II-INPUT Array is Sorted**\n",
        "\n",
        "Given a 1-indexed array of integers numbers that is already sorted in non-decreasing order, find two numbers such that they add up to a specific target number. Let these two numbers be numbers[index1] and numbers[index2] where 1 <= index1 < index2 <= numbers.length.\n",
        "\n",
        "Return the indices of the two numbers, index1 and index2, added by one as an integer array [index1, index2] of length 2.\n",
        "\n",
        "The tests are generated such that there is exactly one solution. You may not use the same element twice.\n",
        "\n",
        "Your solution must use only constant extra space."
      ],
      "metadata": {
        "id": "vzCxTVJXgnzZ"
      }
    },
    {
      "cell_type": "code",
      "source": [
        "def twosum(numbers,target):\n",
        "  l,r=0,len(numbers)-1\n",
        "  while l<r:\n",
        "    if numbers[l]+numbers[r]==target:\n",
        "      return [l+1,r+1]\n",
        "\n",
        "    elif numbers[l]+numbers[r]>target:\n",
        "      r-=1\n",
        "    else:\n",
        "      l+=1\n",
        "\n",
        "numbers = [2,7,11,15]\n",
        "target = 9\n",
        "twoSum(numbers,target)"
      ],
      "metadata": {
        "colab": {
          "base_uri": "https://localhost:8080/"
        },
        "id": "urUwahZxliYe",
        "outputId": "bc4e6959-78c2-469c-973e-6f0fb74c41a2"
      },
      "execution_count": null,
      "outputs": [
        {
          "output_type": "execute_result",
          "data": {
            "text/plain": [
              "[1, 2]"
            ]
          },
          "metadata": {},
          "execution_count": 25
        }
      ]
    },
    {
      "cell_type": "markdown",
      "source": [
        "**15.3SUM**\n",
        "\n",
        "Given an integer array nums, return all the triplets [nums[i], nums[j], nums[k]] such that i != j, i != k, and j != k, and nums[i] + nums[j] + nums[k] == 0.\n",
        "\n",
        "Notice that the solution set must not contain duplicate triplets."
      ],
      "metadata": {
        "id": "-xxYhxCZpdE9"
      }
    },
    {
      "cell_type": "code",
      "source": [
        "def threesum(nums):\n",
        "  res= []\n",
        "  nums.sort()\n",
        "  for i,a in enumerate(nums):\n",
        "    if i>0 and a==nums[i-1]:\n",
        "      continue\n",
        "    \n",
        "    l,r =i+1,len(nums)-1\n",
        "    while l<r:\n",
        "      threesum = a+nums[l]+nums[r]\n",
        "      if threesum>0:\n",
        "        r-=1\n",
        "      elif threesum<0:\n",
        "        l+=1\n",
        "      else:\n",
        "        res.append([a,nums[l],nums[r]])\n",
        "        l+=1\n",
        "        while nums[l]==nums[l-1] and l<r:\n",
        "          l+=1\n",
        "  return res\n",
        "\n",
        "nums = [-3,3,4,-3,1,2]\n",
        "threesum(nums)"
      ],
      "metadata": {
        "colab": {
          "base_uri": "https://localhost:8080/"
        },
        "id": "8kouKHhjJcHA",
        "outputId": "0b8d9f6b-2d3a-4539-e797-8bb549dfafa8"
      },
      "execution_count": null,
      "outputs": [
        {
          "output_type": "execute_result",
          "data": {
            "text/plain": [
              "[[-3, 1, 2]]"
            ]
          },
          "metadata": {},
          "execution_count": 12
        }
      ]
    },
    {
      "cell_type": "markdown",
      "source": [
        "The time complexity of this solution is O(n^2), where n is the length of the input array."
      ],
      "metadata": {
        "id": "AJVE8M-BH90U"
      }
    },
    {
      "cell_type": "markdown",
      "source": [
        "**11.Container With Most Water**\n",
        "\n",
        "You are given an integer array height of length n. There are n vertical lines drawn such that the two endpoints of the ith line are (i, 0) and (i, height[i]).\n",
        "\n",
        "Find two lines that together with the x-axis form a container, such that the container contains the most water.\n",
        "\n",
        "Return the maximum amount of water a container can store.\n",
        "\n",
        "**Notice** that you may not slant the container."
      ],
      "metadata": {
        "id": "ciXss9yE0ysm"
      }
    },
    {
      "cell_type": "code",
      "source": [
        "def maxarea(height):\n",
        "  res = 0\n",
        "  l,r=0,len(height)-1\n",
        "  while l<r:\n",
        "    area = (r-l)*min(height[l],height[r])\n",
        "    res = max(res,area)\n",
        "\n",
        "    if height[l]<height[r]:\n",
        "      l+=1\n",
        "    else:\n",
        "      r-=1\n",
        "  return res\n",
        "\n",
        "height = [1,8,6,2,5,4,8,3,7]\n",
        "maxarea(height)\n",
        "#o(n)"
      ],
      "metadata": {
        "colab": {
          "base_uri": "https://localhost:8080/"
        },
        "id": "oIISSDfaMdkf",
        "outputId": "c9eabfa4-7379-4daa-bbe4-bdd3fee1f918"
      },
      "execution_count": null,
      "outputs": [
        {
          "output_type": "execute_result",
          "data": {
            "text/plain": [
              "49"
            ]
          },
          "metadata": {},
          "execution_count": 5
        }
      ]
    },
    {
      "cell_type": "code",
      "source": [
        "#nested loop\n",
        "def maxArea(height):\n",
        "    n = len(height)\n",
        "    max_area = 0\n",
        "    for i in range(n):\n",
        "        for j in range(i+1, n):\n",
        "            max_area = max(max_area, min(height[i], height[j]) * (j - i))\n",
        "    return max_area\n",
        "\n",
        "height = [1,8,6,2,5,4,8,3,7]\n",
        "maxArea(height)\n",
        "#O(n*n) #error in leetcode"
      ],
      "metadata": {
        "colab": {
          "base_uri": "https://localhost:8080/"
        },
        "id": "-1UG2JrlMdnQ",
        "outputId": "4f65ec0d-0be7-42f5-c830-6013962c2386"
      },
      "execution_count": null,
      "outputs": [
        {
          "output_type": "execute_result",
          "data": {
            "text/plain": [
              "49"
            ]
          },
          "metadata": {},
          "execution_count": 2
        }
      ]
    },
    {
      "cell_type": "markdown",
      "source": [
        "**42. Trapping Rain Water**\n",
        "\n",
        "Given n non-negative integers representing an elevation map where the width of each bar is 1, compute how much water it can trap after raining."
      ],
      "metadata": {
        "id": "o2BDMzgAEkSk"
      }
    },
    {
      "cell_type": "code",
      "source": [
        "#two pointer algorithm\n",
        "def trap(height):\n",
        "  if not height:return 0\n",
        "  l,r = 0,len(height)-1\n",
        "  leftMax,rightMax = height[l],height[r]\n",
        "  res = 0\n",
        "  while l<r:\n",
        "    if leftMax<rightMax:\n",
        "      l+=1\n",
        "      leftMax = max(leftMax,height[l])\n",
        "      res += leftMax-height[l]\n",
        "    else:\n",
        "      r-=1\n",
        "      rightMax = max(rightMax,height[r])\n",
        "      res += rightMax-height[r]\n",
        "  return res\n",
        "\n",
        "height = [0,1,0,2,1,0,1,3,2,1,2,1]\n",
        "trap(height)"
      ],
      "metadata": {
        "id": "pqjx8RCHVJ66",
        "colab": {
          "base_uri": "https://localhost:8080/"
        },
        "outputId": "73cdbe92-a966-4b0c-b8db-81ad066a8bdb"
      },
      "execution_count": null,
      "outputs": [
        {
          "output_type": "execute_result",
          "data": {
            "text/plain": [
              "6"
            ]
          },
          "metadata": {},
          "execution_count": 7
        }
      ]
    },
    {
      "cell_type": "markdown",
      "source": [
        "**1299. Replace Elements with Greatest Element on Right Side**\n",
        "\n",
        "Given an array arr, replace every element in that array with the greatest element among the elements to its right, and replace the last element with -1.\n",
        "\n",
        "After doing so, return the array."
      ],
      "metadata": {
        "id": "hjaRoOvw79Q0"
      }
    },
    {
      "cell_type": "code",
      "source": [
        "def replacelements(arr):\n",
        "  #intital max=-1 #every element in array  is +ve\n",
        "  #reverse iteration\n",
        "  #new_max = max(oldmax,arr[i])\n",
        "  rightMax = -1\n",
        "  for i in reversed(range(len(arr))):\n",
        "    newMax = max(rightMax,arr[i])\n",
        "    arr[i] = rightMax\n",
        "    rightMax = newMax\n",
        "  return arr\n",
        "\n",
        "\n",
        "arr = [17,18,5,4,6,1]\n",
        "replacelements(arr)"
      ],
      "metadata": {
        "colab": {
          "base_uri": "https://localhost:8080/"
        },
        "id": "PM4Erh5q77tw",
        "outputId": "14f6a1ec-3f46-436f-f106-0f338e8c61d3"
      },
      "execution_count": null,
      "outputs": [
        {
          "output_type": "execute_result",
          "data": {
            "text/plain": [
              "[18, 6, 6, 6, 1, -1]"
            ]
          },
          "metadata": {},
          "execution_count": 2
        }
      ]
    },
    {
      "cell_type": "markdown",
      "source": [
        "**392. Is Subsequence**\n",
        "Given two strings s and t, return true if s is a subsequence of t, or false otherwise.\n",
        "\n",
        "A subsequence of a string is a new string that is formed from the original string by deleting some (can be none) of the characters without disturbing the relative positions of the remaining characters. (i.e., \"ace\" is a subsequence of \"abcde\" while \"aec\" is not)."
      ],
      "metadata": {
        "id": "LcfBUzwiJ5LB"
      }
    },
    {
      "cell_type": "code",
      "source": [
        "#two pointer algorithm\n",
        "def isSubsequence(s,t):\n",
        "  i,j = 0,0\n",
        "  while i<len(s) and j<len(t):\n",
        "    if s[i]== t[j]:\n",
        "      i+=1\n",
        "      #j+=1\n",
        "    #else:\n",
        "      #j+=1\n",
        "    j+=1\n",
        "  return i==len(s)\n",
        "\n",
        "s = \"abc\"\n",
        "t = \"ahgdcb\"\n",
        "isSubsequence(s,t)"
      ],
      "metadata": {
        "colab": {
          "base_uri": "https://localhost:8080/"
        },
        "id": "5PZPTheA77qL",
        "outputId": "3fc59a56-0abe-4c58-8045-853a33ca24a2"
      },
      "execution_count": null,
      "outputs": [
        {
          "output_type": "execute_result",
          "data": {
            "text/plain": [
              "False"
            ]
          },
          "metadata": {},
          "execution_count": 4
        }
      ]
    },
    {
      "cell_type": "markdown",
      "source": [
        "The idea is to use two pointers, one for each string, and iterate through the characters in both strings. If the character at the current position of s matches the character at the current position of t, we increment the s pointer. Otherwise, we continue iterating through t.\n",
        "\n",
        "At the end of the loop, if the s pointer has reached the end of the string, that means we found all the characters in s in the same order in t, and s is a subsequence of t.\n",
        "\n",
        "For example, if s = \"abc\" and t = \"ahbgdc\", the function would return True, because we can find the characters \"a\", \"b\", and \"c\" in that order in t.\n",
        "\n",
        "The time complexity of this solution is O(n), where n is the length of the input string t. The space complexity is O(1), because the algorithm uses only a constant amount of extra space to store the two pointers i and j."
      ],
      "metadata": {
        "id": "5qBEksrELI78"
      }
    },
    {
      "cell_type": "markdown",
      "source": [
        "**58.Length of Last Word**\n",
        "\n",
        "Given a string s consisting of words and spaces, return the length of the last word in the string.\n",
        "\n",
        "A word is a maximal \n",
        "substring\n",
        " consisting of non-space characters only."
      ],
      "metadata": {
        "id": "jIWANdPuMesD"
      }
    },
    {
      "cell_type": "code",
      "source": [
        "def lengthOfLastWord(s):\n",
        "  i,length =len(s)-1,0\n",
        "  while s[i]==\" \":\n",
        "    i-=1\n",
        "  while i >=0 and s[i] != \" \":\n",
        "    length +=1\n",
        "    i-=1\n",
        "  return length\n",
        "\n",
        "s=\"   fly me   to   the moon  \"\n",
        "lengthOfLastWord(s)"
      ],
      "metadata": {
        "colab": {
          "base_uri": "https://localhost:8080/"
        },
        "id": "X02saOJi77nh",
        "outputId": "a9a705db-6fc8-45cf-e5a4-b979f9c86793"
      },
      "execution_count": null,
      "outputs": [
        {
          "output_type": "execute_result",
          "data": {
            "text/plain": [
              "4"
            ]
          },
          "metadata": {},
          "execution_count": 30
        }
      ]
    },
    {
      "cell_type": "markdown",
      "source": [
        "14. **Longest Common Prefix**\n",
        "\n",
        "Write a function to find the longest common prefix string amongst an array of strings.\n",
        "\n",
        "If there is no common prefix, return an empty string \"\"."
      ],
      "metadata": {
        "id": "7e8C4m37e70B"
      }
    },
    {
      "cell_type": "code",
      "source": [
        "def longestCommonPrefix(strs):\n",
        "  res = \"\"\n",
        "  for i in range(len(strs[0])):\n",
        "    for s in strs:\n",
        "      if i==len(s) or s[i] != strs[0][i]:\n",
        "        return res\n",
        "    res +=strs[0][i]\n",
        "  return res\n",
        "\n",
        "strs = [\"flower\",\"flow\",\"flight\"]\n",
        "longestCommonPrefix(strs)"
      ],
      "metadata": {
        "colab": {
          "base_uri": "https://localhost:8080/",
          "height": 36
        },
        "id": "a-uY2cu_e4ND",
        "outputId": "14369312-1f4d-4fda-9133-c7675b4f565b"
      },
      "execution_count": null,
      "outputs": [
        {
          "output_type": "execute_result",
          "data": {
            "text/plain": [
              "'fl'"
            ],
            "application/vnd.google.colaboratory.intrinsic+json": {
              "type": "string"
            }
          },
          "metadata": {},
          "execution_count": 1
        }
      ]
    },
    {
      "cell_type": "markdown",
      "source": [
        "**118.Pascal's Triangle**\n",
        "\n",
        "Given an integer numRows, return the first numRows of Pascal's triangle.\n",
        "\n",
        "In Pascal's triangle, each number is the sum of the two numbers directly above it as shown:"
      ],
      "metadata": {
        "id": "zx-ttwBo3I_J"
      }
    },
    {
      "cell_type": "code",
      "source": [
        "def pascal(numRows):\n",
        "  res = [[1]]\n",
        "  for i in range(numRows-1):\n",
        "    temp = [0]+res[-1]+[0]\n",
        "    row = []\n",
        "    for j in range(len(res[-1])+1):\n",
        "      row.append(temp[j]+temp[j+1])\n",
        "    res.append(row)\n",
        "  return res\n",
        "\n",
        "numRows = 5\n",
        "pascal(numRows)"
      ],
      "metadata": {
        "id": "pfkjkn1me4G5",
        "colab": {
          "base_uri": "https://localhost:8080/"
        },
        "outputId": "02cc4e7b-4ea8-4be3-b751-b285b93a805c"
      },
      "execution_count": null,
      "outputs": [
        {
          "output_type": "execute_result",
          "data": {
            "text/plain": [
              "[[1], [1, 1], [1, 2, 1], [1, 3, 3, 1], [1, 4, 6, 4, 1]]"
            ]
          },
          "metadata": {},
          "execution_count": 2
        }
      ]
    },
    {
      "cell_type": "markdown",
      "source": [
        "The function starts with a list res containing just the first row of the triangle, which is always [1]. It then iterates numRows-1 times (since we already have the first row), generating each subsequent row of the triangle and appending it to res.\n",
        "\n",
        "To generate each row, the function first creates a new list temp by adding a 0 to the beginning and end of the previous row (stored in res[-1]). It then creates an empty list row, and iterates over the elements of temp, adding adjacent pairs of elements together to generate the values of the new row. The resulting row is then appended to res."
      ],
      "metadata": {
        "id": "X_4vJ3ivcnAu"
      }
    },
    {
      "cell_type": "code",
      "source": [
        "def generate(numRows):\n",
        "        res = [[1]]\n",
        "        for i in range(1, numRows):\n",
        "            temp1 = res[-1] + [0]\n",
        "            temp2 = [0] + res[-1]\n",
        "            res.append([temp1[i] + temp2[i] for i in range(len(temp1))])\n",
        "        return res[:numRows]\n",
        "numRows = 5\n",
        "generate(numRows)"
      ],
      "metadata": {
        "colab": {
          "base_uri": "https://localhost:8080/"
        },
        "id": "aB89u70ndxx5",
        "outputId": "e56110af-0eee-4623-c277-b9ed9806130a"
      },
      "execution_count": null,
      "outputs": [
        {
          "output_type": "execute_result",
          "data": {
            "text/plain": [
              "[[1], [1, 1], [1, 2, 1], [1, 3, 3, 1], [1, 4, 6, 4, 1]]"
            ]
          },
          "metadata": {},
          "execution_count": 4
        }
      ]
    },
    {
      "cell_type": "markdown",
      "source": [
        "**929.Unique Email Addresses**\n",
        "\n",
        "Every valid email consists of a local name and a domain name, separated by the '@' sign. Besides lowercase letters, the email may contain one or more '.' or '+'.\n",
        "\n",
        "For example, in \"alice@leetcode.com\", \"alice\" is the local name, and \"leetcode.com\" is the domain name.\n",
        "If you add periods '.' between some characters in the local name part of an email address, mail sent there will be forwarded to the same address without dots in the local name. Note that this rule does not apply to domain names.\n",
        "\n",
        "For example, \"alice.z@leetcode.com\" and \"alicez@leetcode.com\" forward to the same email address.\n",
        "If you add a plus '+' in the local name, everything after the first plus sign will be ignored. This allows certain emails to be filtered. Note that this rule does not apply to domain names.\n",
        "\n",
        "For example, \"m.y+name@email.com\" will be forwarded to \"my@email.com\".\n",
        "It is possible to use both of these rules at the same time.\n",
        "\n",
        "Given an array of strings emails where we send one email to each emails[i], return the number of different addresses that actually receive mails.\n",
        "\n",
        " "
      ],
      "metadata": {
        "id": "hYLb7Z60j6JC"
      }
    },
    {
      "cell_type": "code",
      "source": [
        "def uniquemail(emails):\n",
        "  unique =set()\n",
        "  for i in emails: \n",
        "    local,domain=i.split(\"@\")\n",
        "    local = local.split(\"+\")[0]\n",
        "    local = local.replace(\".\",\"\")\n",
        "    unique.add((local,domain))\n",
        "  return len(unique)\n",
        "\n",
        "emails = [\"a@leetcode.com\",\"b@leetcode.com\",\"c@leetcode.com\"]\n",
        "uniquemail(emails)"
      ],
      "metadata": {
        "colab": {
          "base_uri": "https://localhost:8080/"
        },
        "id": "0VQt1BGzcmjm",
        "outputId": "d383489f-da4f-4ca1-8a63-17baf5f3e656"
      },
      "execution_count": null,
      "outputs": [
        {
          "output_type": "execute_result",
          "data": {
            "text/plain": [
              "3"
            ]
          },
          "metadata": {},
          "execution_count": 36
        }
      ]
    },
    {
      "cell_type": "code",
      "source": [
        "#without using builtin function\n",
        "def uniquemail(emails):\n",
        "  unique = set()\n",
        "  for e in emails:\n",
        "      i,local = 0,\"\"\n",
        "      while e[i] not in [\"@\",\"+\"]:\n",
        "        if e[i] !=\".\":\n",
        "          local +=e[i]\n",
        "        i+=1\n",
        "      while e[i]!=\"@\":\n",
        "        i+=1\n",
        "      domain = e[i+1:]\n",
        "      unique.add((local,domain))\n",
        "  return len(unique)\n",
        "\n",
        "emails = [\"a@leetcode.com\",\"b@leetcode.com\",\"c@leetcode.com\"]\n",
        "uniquemail(emails)"
      ],
      "metadata": {
        "colab": {
          "base_uri": "https://localhost:8080/"
        },
        "id": "P1fQBgHqrRzi",
        "outputId": "cd12847a-050f-4437-e19d-001e36da5131"
      },
      "execution_count": null,
      "outputs": [
        {
          "output_type": "execute_result",
          "data": {
            "text/plain": [
              "3"
            ]
          },
          "metadata": {},
          "execution_count": 39
        }
      ]
    },
    {
      "cell_type": "markdown",
      "source": [
        "**205.Isomorphic Strings**\n",
        "\n",
        "Given two strings s and t, determine if they are isomorphic.\n",
        "\n",
        "Two strings s and t are isomorphic if the characters in s can be replaced to get t.\n",
        "\n",
        "All occurrences of a character must be replaced with another character while preserving the order of characters. No two characters may map to the same character, but a character may map to itself."
      ],
      "metadata": {
        "id": "F_CknzyWyxXA"
      }
    },
    {
      "cell_type": "code",
      "source": [
        " def isIsomorphic(s,t):\n",
        "   mapST,mapTS = {},{}\n",
        "   for c1,c2 in zip(s,t):\n",
        "     if ((c1 in mapST and mapST[c1] !=c2) or\n",
        "         (c2 in mapTS and mapTS[c2] !=c1)):\n",
        "            return False\n",
        "     mapST[c1]=c2\n",
        "     mapTS[c2]=c1\n",
        "     return True\n",
        "\n",
        "s = \"egg\"\n",
        " t = \"add\"\n",
        " isIsomorphic(s,t)"
      ],
      "metadata": {
        "id": "3o6ZCRK4e4Bj",
        "colab": {
          "base_uri": "https://localhost:8080/"
        },
        "outputId": "fdf74d71-8592-4704-dbcb-7c7521f602cf"
      },
      "execution_count": null,
      "outputs": [
        {
          "output_type": "execute_result",
          "data": {
            "text/plain": [
              "True"
            ]
          },
          "metadata": {},
          "execution_count": 16
        }
      ]
    },
    {
      "cell_type": "code",
      "source": [
        "class Solution:\n",
        "    def isIsomorphic(self, s: str, t: str) -> bool:\n",
        "        mapST, mapTS = {}, {}\n",
        "\n",
        "        for i, j in zip(s, t):\n",
        "            \n",
        "            if i in mapST and mapST[i] != j:\n",
        "                return False\n",
        "\n",
        "            if j in mapTS and mapTS[j] != i:\n",
        "                return False\n",
        "\n",
        "            mapST[i] = j\n",
        "            mapTS[j] = i\n",
        "        return  True\n",
        "\n",
        "s=\"aaa\"\n",
        "t = \"bbb\"\n",
        "is_isomorphic(s,t)"
      ],
      "metadata": {
        "colab": {
          "base_uri": "https://localhost:8080/"
        },
        "id": "4u3e1NcQ1RLl",
        "outputId": "b2d06673-ae5b-4a82-9282-e72794d6f36c"
      },
      "execution_count": null,
      "outputs": [
        {
          "output_type": "execute_result",
          "data": {
            "text/plain": [
              "True"
            ]
          },
          "metadata": {},
          "execution_count": 17
        }
      ]
    },
    {
      "cell_type": "markdown",
      "source": [
        "**605.Can Place Flowers**\n",
        "\n",
        "You have a long flowerbed in which some of the plots are planted, and some are not. However, flowers cannot be planted in adjacent plots.\n",
        "\n",
        "Given an integer array flowerbed containing 0's and 1's, where 0 means empty and 1 means not empty, and an integer n, return if n new flowers can be planted in the flowerbed without violating the no-adjacent-flowers rule"
      ],
      "metadata": {
        "id": "ebcjY2iA7eMd"
      }
    },
    {
      "cell_type": "code",
      "source": [
        "def place_flower(flowerbed,n):\n",
        "  f = [0]+flowerbed + [0]\n",
        "  for i in range(1,len(f)-1):\n",
        "    if f[i-1]==0 and f[i]==0 and f[i+1]==0:\n",
        "      f[i]=1\n",
        "      n-=1\n",
        "  return n<=0 \n",
        "\n",
        "flowerbed = [1,0,0,0,1]\n",
        "n = 2\n",
        "place_flower(flowerbed,n)"
      ],
      "metadata": {
        "id": "3lu76UDve3_B",
        "colab": {
          "base_uri": "https://localhost:8080/"
        },
        "outputId": "441d991a-af57-497a-8e9f-88b2f8f12509"
      },
      "execution_count": null,
      "outputs": [
        {
          "output_type": "execute_result",
          "data": {
            "text/plain": [
              "False"
            ]
          },
          "metadata": {},
          "execution_count": 20
        }
      ]
    },
    {
      "cell_type": "markdown",
      "source": [
        "**169.Majority Element**\n",
        "\n",
        "Given an array nums of size n, return the majority element.\n",
        "\n",
        "The majority element is the element that appears more than ⌊n / 2⌋ times. You may assume that the majority element always exists in the array."
      ],
      "metadata": {
        "id": "Bp8BlMrQJnHr"
      }
    },
    {
      "cell_type": "code",
      "source": [
        "#Boyer-Moore Voting Algorithm\n",
        "\n",
        "def majorityElement( nums):\n",
        "        count = 0\n",
        "        candidate = None\n",
        "        \n",
        "        for num in nums:\n",
        "            if count == 0:\n",
        "                candidate = num\n",
        "                \n",
        "            count += (1 if num == candidate else -1)\n",
        "            \n",
        "        return candidate\n",
        "nums = [2,2,3]\n",
        "majorityElement(nums)"
      ],
      "metadata": {
        "id": "Tob3hiUIe36S",
        "colab": {
          "base_uri": "https://localhost:8080/"
        },
        "outputId": "f2ac2508-3a94-4379-b161-0936c5172d5a"
      },
      "execution_count": null,
      "outputs": [
        {
          "output_type": "execute_result",
          "data": {
            "text/plain": [
              "2"
            ]
          },
          "metadata": {},
          "execution_count": 10
        }
      ]
    },
    {
      "cell_type": "markdown",
      "source": [
        "The **Boyer-Moore Voting Algorithm** is an efficient algorithm for finding the majority element in an array. The **majority element** is defined as the element that appears more than n/2 times in an array of n elements. The algorithm was developed by Robert S. Boyer and J Strother Moore in 1981.\n",
        "\n",
        "The algorithm works by maintaining a count of the majority element and a count of all other elements in the array. It starts by assuming the first element of the array is the majority element, and then iterates through the rest of the array. For each element in the array, it checks if it is the same as the assumed majority element. If it is, it increments the count of the majority element. If it is not, it decrements the count of the majority element. If the count of the majority element ever reaches zero, it assumes the current element is the new majority element and sets its count to one.\n",
        "\n",
        "At the end of the iteration, the algorithm checks if the assumed majority element is indeed the majority element by counting the number of times it appears in the array. If it appears more than n/2 times, it is the majority element. Otherwise, there is no majority element.\n",
        "\n",
        "The Boyer-Moore Voting Algorithm has a time complexity of O(n) and a space complexity of O(1), which makes it very efficient for finding the majority element in an array."
      ],
      "metadata": {
        "id": "S8xNLcff3gix"
      }
    },
    {
      "cell_type": "code",
      "source": [
        "def majorityelement(nums):\n",
        "  count = {}\n",
        "  res,maxCount = 0,0\n",
        "  for n in nums:\n",
        "    count[n] = 1+count.get(n,0)\n",
        "    res = n if count[n]>maxCount else res\n",
        "    maxCount = max(count[n],maxCount)\n",
        "  return res\n",
        "nums = [2,2,3]\n",
        "majorityelement(nums)"
      ],
      "metadata": {
        "id": "7MqAf10ce38g",
        "colab": {
          "base_uri": "https://localhost:8080/"
        },
        "outputId": "2d099adc-663c-465c-b8ae-39480d6c7f9f"
      },
      "execution_count": null,
      "outputs": [
        {
          "output_type": "execute_result",
          "data": {
            "text/plain": [
              "2"
            ]
          },
          "metadata": {},
          "execution_count": 6
        }
      ]
    },
    {
      "cell_type": "markdown",
      "source": [
        "**496.Next Greater Element I**\n",
        "\n",
        "The next greater element of some element x in an array is the first greater element that is to the right of x in the same array.\n",
        "\n",
        "You are given two distinct 0-indexed integer arrays nums1 and nums2, where nums1 is a subset of nums2.\n",
        "\n",
        "For each 0 <= i < nums1.length, find the index j such that nums1[i] == nums2[j] and determine the next greater element of nums2[j] in nums2. If there is no next greater element, then the answer for this query is -1.\n",
        "\n",
        "Return an array ans of length nums1.length such that ans[i] is the next greater element as described above."
      ],
      "metadata": {
        "id": "RzBLNsGh6jPW"
      }
    },
    {
      "cell_type": "code",
      "source": [
        "def nextGreaterElement(nums1, nums2):\n",
        "    stack = []\n",
        "    hashmap = {}\n",
        "    ans = []\n",
        "\n",
        "    # Step 2: Find next greater elements and store them in hashmap\n",
        "    for num in reversed(nums2):\n",
        "        while stack and stack[-1] < num:\n",
        "            stack.pop()\n",
        "        if stack:\n",
        "            hashmap[num] = stack[-1]\n",
        "        else:\n",
        "            hashmap[num] = -1\n",
        "        stack.append(num)\n",
        "\n",
        "    # Step 3: Find next greater elements for elements in nums1\n",
        "    for num in nums1:\n",
        "        ans.append(hashmap[num])\n",
        "\n",
        "    return ans"
      ],
      "metadata": {
        "id": "AJi17ICne33o"
      },
      "execution_count": null,
      "outputs": []
    },
    {
      "cell_type": "markdown",
      "source": [
        "**724.Find pivot Index**\n",
        "\n",
        "Given an array of integers nums, calculate the pivot index of this array.\n",
        "\n",
        "The pivot index is the index where the sum of all the numbers strictly to the left of the index is equal to the sum of all the numbers strictly to the index's right.\n",
        "\n",
        "If the index is on the left edge of the array, then the left sum is 0 because there are no elements to the left. This also applies to the right edge of the array.\n",
        "\n",
        "Return the leftmost pivot index. If no such index exists, return -1."
      ],
      "metadata": {
        "id": "TuQ74OPY6R5N"
      }
    },
    {
      "cell_type": "code",
      "source": [
        "def pivotIndex(nums):\n",
        "  total = sum(nums) #O(n)\n",
        "  leftsum = 0\n",
        "  for i in range(len(nums)):\n",
        "    rightsum = total-nums[i]-leftsum\n",
        "    if leftsum == rightsum:\n",
        "      return i\n",
        "    leftsum +=nums[i]\n",
        "  return -1\n",
        "  \n",
        "nums = [1,2,3]\n",
        "pivotIndex(nums)"
      ],
      "metadata": {
        "id": "9yzhf0moe304",
        "colab": {
          "base_uri": "https://localhost:8080/"
        },
        "outputId": "47172b2f-aaec-4ebb-d92d-dcc64a3f1506"
      },
      "execution_count": null,
      "outputs": [
        {
          "output_type": "execute_result",
          "data": {
            "text/plain": [
              "-1"
            ]
          },
          "metadata": {},
          "execution_count": 4
        }
      ]
    },
    {
      "cell_type": "code",
      "source": [
        "def pivotIndex(nums):\n",
        "  total = sum(nums)\n",
        "  leftsum = 0\n",
        "  for i,x in enumerate(nums):\n",
        "    if leftsum == (total-leftsum-x):\n",
        "      return i\n",
        "    leftsum +=x\n",
        "  return -1\n",
        "  \n",
        "nums = [1,2,3]\n",
        "pivotIndex(nums)"
      ],
      "metadata": {
        "colab": {
          "base_uri": "https://localhost:8080/"
        },
        "id": "5dfK5qQ5EWP3",
        "outputId": "1196a33d-28df-4f08-f936-d997f543def1"
      },
      "execution_count": null,
      "outputs": [
        {
          "output_type": "execute_result",
          "data": {
            "text/plain": [
              "-1"
            ]
          },
          "metadata": {},
          "execution_count": 16
        }
      ]
    },
    {
      "cell_type": "markdown",
      "source": [
        "In this code, we first calculate the total sum of the array using the sum() function. We then initialize the left sum to 0 and loop through the array. For each index i, we check if the left sum is equal to the total sum minus the left sum minus nums[i]. If it is, we have found the pivot index and we return it. If we finish looping through the array and haven't found a pivot index, we return -1."
      ],
      "metadata": {
        "id": "RXV9q1Ed9lXz"
      }
    },
    {
      "cell_type": "markdown",
      "source": [
        "To find the pivot index, we first need to calculate the total sum of the input array. Then we loop through the array and for each index i, we calculate the sum of all the numbers to the left of i (which is the same as the value of left_sum at index i) and the sum of all the numbers to the right of i (which is equal to the total sum minus the left sum minus nums[i]). If these two sums are equal, then we have found the pivot index, and we return it."
      ],
      "metadata": {
        "id": "lJBmmZ8pAGHn"
      }
    },
    {
      "cell_type": "markdown",
      "source": [
        "**303. Range Sum Query - Immutable**\n",
        "\n",
        "Given an integer array nums, handle multiple queries of the following type:\n",
        "\n",
        "Calculate the sum of the elements of nums between indices left and right inclusive where left <= right.\n",
        "Implement the NumArray class:\n",
        "\n",
        "NumArray(int[] nums) Initializes the object with the integer array nums.\n",
        "int sumRange(int left, int right) Returns the sum of the elements of nums between indices left and right inclusive (i.e. nums[left] + nums[left + 1] + ... + nums[right])."
      ],
      "metadata": {
        "id": "pIsTxLV8mY7r"
      }
    },
    {
      "cell_type": "code",
      "source": [
        "class NumArray:\n",
        "\n",
        "    def __init__(self, nums):\n",
        "        self.prefix = []\n",
        "        cur = 0\n",
        "        for n in nums:\n",
        "          cur +=n\n",
        "          self.prefix.append(cur)\n",
        "\n",
        "    def sumRange(self, left ,right):\n",
        "      rightsum = self.prefix[right]\n",
        "      leftsum = self.prefix[left-1] if left>0 else 0\n",
        "      return rightsum-leftsum\n",
        "\n",
        "# create an instance of NumArray with input list [1, 2, 3, 4, 5]\n",
        "num_arr = NumArray([1, 2, 3, 4, 5])\n",
        "\n",
        "# calculate the sum of the range [1, 3]\n",
        "output = num_arr.sumRange(1, 3)\n",
        "\n",
        "# print the output\n",
        "print(output)"
      ],
      "metadata": {
        "id": "5H0gdzZFarA7",
        "colab": {
          "base_uri": "https://localhost:8080/"
        },
        "outputId": "30769a7e-0915-4ae7-c411-3abcdb8a9ee2"
      },
      "execution_count": null,
      "outputs": [
        {
          "output_type": "stream",
          "name": "stdout",
          "text": [
            "9\n"
          ]
        }
      ]
    },
    {
      "cell_type": "markdown",
      "source": [
        "The __init__ method initializes an empty list self.prefix and a variable cur to 0. It then iterates over each element n in nums and adds it to cur to get the cumulative sum so far. This cumulative sum is then appended to self.prefix. The resulting list self.prefix contains the cumulative sums of all elements in nums.\n",
        "\n",
        "The sumRange method takes in two arguments left and right which represent the left and right indices of the range of numbers to be summed. It first calculates the sum of all numbers up to index right by accessing the right-th element of self.prefix. It then calculates the sum of all numbers up to index left-1 (if left is greater than 0) by accessing the (left-1)-th element of self.prefix. Finally, it returns the difference between these two sums, which is the sum of the numbers in the range [left, right]"
      ],
      "metadata": {
        "id": "eEBZzxTYtYZb"
      }
    },
    {
      "cell_type": "markdown",
      "source": [
        "**448. Find All Numbers Disappeared in an Array**\n",
        "\n",
        "Given an array nums of n integers where nums[i] is in the range [1, n], return an array of all the integers in the range [1, n] that do not appear in nums."
      ],
      "metadata": {
        "id": "wy2_EcPBGrTf"
      }
    },
    {
      "cell_type": "code",
      "source": [
        "def findDisappearedNumbers(nums):\n",
        "        nums_set = set(nums)\n",
        "        res= []\n",
        "        for i in range(1, len(nums)+1):\n",
        "            if i not in nums_set:\n",
        "                res.append(i)\n",
        "        \n",
        "        return res\n",
        "nums = [4,3,2,7,8,2,3,1]\n",
        "findDisappearedNumbers(nums)\n",
        "#time and space complexity O(n)"
      ],
      "metadata": {
        "id": "7PF_aw5G77e8",
        "colab": {
          "base_uri": "https://localhost:8080/"
        },
        "outputId": "99a94e80-eea6-466c-8817-d14ded6c9f52"
      },
      "execution_count": null,
      "outputs": [
        {
          "output_type": "execute_result",
          "data": {
            "text/plain": [
              "[5, 6]"
            ]
          },
          "metadata": {},
          "execution_count": 18
        }
      ]
    },
    {
      "cell_type": "code",
      "source": [
        "def findisapearednum(nums):\n",
        "  #mark exisiting values\n",
        "  for n in nums:\n",
        "    i=abs(n)-1\n",
        "    nums[i] = -1*abs(nums[i])\n",
        "  res =[]\n",
        "  for i,n in enumerate(nums):\n",
        "    if n>0:\n",
        "      res.append(i+1)\n",
        "  return res\n",
        "nums = [4,3,2,7,8,2,3,1]\n",
        "findisapearednum(nums)\n",
        "#time complexity O(n)\n",
        "#space complexity O(1)"
      ],
      "metadata": {
        "id": "aDlUoWeIanxI",
        "colab": {
          "base_uri": "https://localhost:8080/"
        },
        "outputId": "96472ed1-63a6-4b69-e6c7-27804fc0e705"
      },
      "execution_count": null,
      "outputs": [
        {
          "output_type": "execute_result",
          "data": {
            "text/plain": [
              "[5, 6]"
            ]
          },
          "metadata": {},
          "execution_count": 17
        }
      ]
    },
    {
      "cell_type": "markdown",
      "source": [
        "The function findisapearednum(nums) takes a list of integers nums as input and returns a list of all the integers between 1 and the length of nums that are not present in the input list.\n",
        "\n",
        "Here's how the function works:\n",
        "\n",
        "In the first loop, the function marks the existing values in the input list. For each value n in the input list, it computes the index i where that value would be in a list of all integers from 1 to the length of the input list. It then sets the value at index i in the input list to the negation of its absolute value, which effectively marks that value as existing in the input list.\n",
        "\n",
        "In the second loop, the function creates a result list res and adds to it all the integers between 1 and the length of the input list that are not marked as existing in the input list. For each index i and corresponding value n in the input list, if the value n is greater than zero, it means that the integer i+1 is not present in the input list and should be added to the result list.\n",
        "\n",
        "Finally, the function returns the result list of missing integers.\n",
        "\n",
        "Overall, this function is an implementation of the \"mark-and-sweep\" algorithm for finding missing numbers in a list. It runs in linear time and constant space, which is very efficient."
      ],
      "metadata": {
        "id": "jMJGddDBQePK"
      }
    },
    {
      "cell_type": "markdown",
      "source": [
        "**1189. Maximum Number of Balloons**\n",
        "\n",
        "Given a string text, you want to use the characters of text to form as many instances of the word \"balloon\" as possible.\n",
        "\n",
        "You can use each character in text at most once. Return the maximum number of instances that can be formed."
      ],
      "metadata": {
        "id": "JzTSpv8rVuNb"
      }
    },
    {
      "cell_type": "code",
      "source": [
        "def maxNumberOfBalloons(text):\n",
        "        b = text.count(\"b\")\n",
        "        a = text.count(\"a\")\n",
        "        l = text.count(\"l\")//2\n",
        "        o = text.count(\"o\")//2\n",
        "        n = text.count(\"n\")\n",
        "        return min(b,a,l,o,n)\n",
        "text = \"loonbalxballpoon\"\n",
        "maxNumberOfBalloons(text)\n",
        "#time complexity O(n)\n",
        "#space complexity O(1)"
      ],
      "metadata": {
        "colab": {
          "base_uri": "https://localhost:8080/"
        },
        "id": "j36zJGSLg-iI",
        "outputId": "842fbbf2-de9c-49e4-a297-ea3d62f1c037"
      },
      "execution_count": null,
      "outputs": [
        {
          "output_type": "execute_result",
          "data": {
            "text/plain": [
              "2"
            ]
          },
          "metadata": {},
          "execution_count": 35
        }
      ]
    },
    {
      "cell_type": "code",
      "source": [
        "from collections import Counter\n",
        "def maxnobaloon(text):\n",
        "  countText =Counter(text)\n",
        "  ballon = Counter(\"balloon\")\n",
        "  res = len(text)\n",
        "  for c in ballon:\n",
        "    res = min(res,countText[c]//ballon[c])\n",
        "  return res\n",
        "\n",
        "text = \"baloonxloon\"\n",
        "maxnobaloon(text)"
      ],
      "metadata": {
        "id": "H1T6S_ug77be",
        "colab": {
          "base_uri": "https://localhost:8080/"
        },
        "outputId": "d140baa5-50c7-4aa8-cd4d-7dd90ed5abf5"
      },
      "execution_count": null,
      "outputs": [
        {
          "output_type": "execute_result",
          "data": {
            "text/plain": [
              "1"
            ]
          },
          "metadata": {},
          "execution_count": 36
        }
      ]
    },
    {
      "cell_type": "code",
      "source": [
        "  def maxNumberOfBalloons(self, text: str) -> int:\n",
        "        d = {'b': 0, 'a': 0, \"l\": 0, \"o\": 0, \"n\": 0}\n",
        "        req = {'b': 1, 'a': 1, \"l\": 2, \"o\": 2, \"n\": 1}\n",
        "        temp = []\n",
        "\n",
        "        for char in text:\n",
        "            if char in d:\n",
        "                d[char] += 1\n",
        "        \n",
        "        for x, y in zip(d.values(), req.values()):\n",
        "            temp.append(x // y)\n",
        "\n",
        "        return min(temp)"
      ],
      "metadata": {
        "id": "a-6pXlAA77Yz"
      },
      "execution_count": null,
      "outputs": []
    },
    {
      "cell_type": "markdown",
      "source": [
        "**290. Word Pattern**\n",
        "\n",
        "Given a pattern and a string s, find if s follows the same pattern.\n",
        "\n",
        "Here follow means a full match, such that there is a bijection between a letter in pattern and a non-empty word in s."
      ],
      "metadata": {
        "id": "0zgsLuLrkQgf"
      }
    },
    {
      "cell_type": "code",
      "source": [
        "def wordPattern(pattern,s):\n",
        "        s = s.split(' ')\n",
        "        map = {}\n",
        "        if len(s) != len(pattern) or len(set(s)) != len(set(pattern)):\n",
        "            return False\n",
        "        for i in range(len(pattern)):\n",
        "            if pattern[i] in map and map[pattern[i]] != s[i]:\n",
        "                return False\n",
        "            map[pattern[i]] = s[i]\n",
        "        return True\n",
        "pattern = \"abba\"\n",
        "s = \"dog cat cat dog\"\n",
        "wordPattern(pattern,s)"
      ],
      "metadata": {
        "colab": {
          "base_uri": "https://localhost:8080/"
        },
        "id": "t2CcNuHXn5T4",
        "outputId": "484871d9-3491-4008-99b2-08b5f76b05a0"
      },
      "execution_count": null,
      "outputs": [
        {
          "output_type": "execute_result",
          "data": {
            "text/plain": [
              "True"
            ]
          },
          "metadata": {},
          "execution_count": 46
        }
      ]
    },
    {
      "cell_type": "code",
      "source": [
        "def wordpattern(pattern,s):\n",
        "  words = s.split(\" \")\n",
        "  if len(pattern) != len(words):\n",
        "    return False\n",
        "\n",
        "  chartoword = {}\n",
        "  wordtochar = {}\n",
        "  for c,w in zip(pattern,words):\n",
        "    if c in chartoword and chartoword[c] != w:\n",
        "      return False\n",
        "    if w in wordtochar and wordtochar[w] !=c:\n",
        "      return False\n",
        "    chartoword[c]=w\n",
        "    wordtochar[w]=c\n",
        "  return True\n",
        "\n",
        "pattern = \"abba\"\n",
        "s = \"dog cat cat dog\"\n",
        "wordpattern(pattern,s)"
      ],
      "metadata": {
        "colab": {
          "base_uri": "https://localhost:8080/"
        },
        "id": "Up-OVuDbZOZ8",
        "outputId": "1083104a-3c8c-409e-e7fd-32fff38e130a"
      },
      "execution_count": null,
      "outputs": [
        {
          "output_type": "execute_result",
          "data": {
            "text/plain": [
              "True"
            ]
          },
          "metadata": {},
          "execution_count": 42
        }
      ]
    },
    {
      "cell_type": "markdown",
      "source": [
        "**75.Sort colors**\n",
        "\n",
        "Given an array nums with n objects colored red, white, or blue, sort them in-place so that objects of the same color are adjacent, with the colors in the order red, white, and blue.\n",
        "\n",
        "We will use the integers 0, 1, and 2 to represent the color red, white, and blue, respectively.\n",
        "\n",
        "You must solve this problem without using the library's sort function."
      ],
      "metadata": {
        "id": "MIkh5D-XHhey"
      }
    },
    {
      "cell_type": "markdown",
      "source": [
        "To solve this problem, we can make use of the **Dutch National Flag algorithm,** which is specifically designed to sort an array of objects with three distinct values. Here's how the algorithm works:\n",
        "\n",
        "We can maintain three pointers: low, mid, and high.\n",
        "Initialize low and mid to 0, and high to n - 1, where n is the length of the array.\n",
        "Iterate over the array, and for each element:\n",
        "a. If it's 0, swap it with the element at the low pointer, and increment both low and mid.\n",
        "b. If it's 1, just increment mid.\n",
        "c. If it's 2, swap it with the element at the high pointer, and decrement high.\n",
        "After iterating over the array, all the 0s will be on the left, all the 2s will be on the right, and all the 1s will be in the middle."
      ],
      "metadata": {
        "id": "ve-zlDzkJbiv"
      }
    },
    {
      "cell_type": "markdown",
      "source": [
        "The algorithm works by swapping elements in the array so that all elements less than the mid pointer are placed before it, and all elements greater than the mid pointer are placed after it. In other words, the mid pointer acts as a pivot, and the low and high pointers move towards the mid pointer, swapping elements as necessary, until all elements in the array have been processed."
      ],
      "metadata": {
        "id": "uj1cB5oGePCK"
      }
    },
    {
      "cell_type": "code",
      "source": [
        "def sortColors(nums):\n",
        "    low, mid, high = 0, 0, len(nums) - 1\n",
        "    while mid <= high:\n",
        "        if nums[mid] == 0:\n",
        "            nums[low], nums[mid] = nums[mid], nums[low]\n",
        "            low += 1\n",
        "            mid += 1\n",
        "        elif nums[mid] == 1:\n",
        "            mid += 1\n",
        "        else:\n",
        "            nums[mid], nums[high] = nums[high], nums[mid]\n",
        "            high -= 1\n",
        "\n",
        "nums = [2,0,2,1,1,0]\n",
        "sortColors(nums)\n",
        "print(nums)"
      ],
      "metadata": {
        "id": "LzSohAD3ZOmw",
        "colab": {
          "base_uri": "https://localhost:8080/"
        },
        "outputId": "8ce3678f-b699-4622-d2e8-da2de69c9fe0"
      },
      "execution_count": null,
      "outputs": [
        {
          "output_type": "stream",
          "name": "stdout",
          "text": [
            "[0, 0, 1, 1, 2, 2]\n"
          ]
        }
      ]
    },
    {
      "cell_type": "code",
      "source": [
        "#quick sort partition\n",
        "def SortColors(nums):\n",
        "  l,r=0,len(nums)-1\n",
        "  i = 0\n",
        "  def swap(i,j):\n",
        "    temp = nums[i]\n",
        "    nums[i] = nums[j]\n",
        "    nums[j]=temp\n",
        "  while i<=r:\n",
        "    if nums[i]==0:\n",
        "      swap(l,i)\n",
        "      l+=1\n",
        "    elif nums[i]==2:\n",
        "      swap(i,r)\n",
        "      r-=1\n",
        "      i-=1\n",
        "    i+=1\n",
        "\n",
        "nums = [2,0,2,1,1,0]\n",
        "SortColors(nums)\n",
        "print(nums)"
      ],
      "metadata": {
        "colab": {
          "base_uri": "https://localhost:8080/"
        },
        "id": "zAaWrqAMQH_0",
        "outputId": "e053a5e6-be6a-40cb-c38b-88550752a0e2"
      },
      "execution_count": null,
      "outputs": [
        {
          "output_type": "stream",
          "name": "stdout",
          "text": [
            "[0, 0, 1, 1, 2, 2]\n"
          ]
        }
      ]
    },
    {
      "cell_type": "markdown",
      "source": [
        "**560.Subarray Sum Equals K**\n",
        "\n",
        "Given an array of integers nums and an integer k, return the total number of subarrays whose sum equals to k.\n",
        "\n",
        "A subarray is a contiguous non-empty sequence of elements within an array.\n",
        "\n",
        "\n"
      ],
      "metadata": {
        "id": "M7vd95boVNdr"
      }
    },
    {
      "cell_type": "markdown",
      "source": [
        "**Just wanted to share a clear explanation that helped me.**\n",
        "\n",
        "First of all, the basic idea behind this code is that, whenever sums has increased by a value of k, we've found a subarray of sums=k.\n",
        "I'll also explain why we need to initialise 0 in the hashmap.\n",
        "Example: Let's say our elements are [1,2,1,3] and k = 3.\n",
        "and our corresponding running sums = [1,3,4,7]\n",
        "Now, if you notice the running sums array, from 1->4, there is increase of k and from 4->7, there is an increase of k. So, we've found 2 subarrays of sums=k.\n",
        "\n",
        "But, if you look at the original array, there are 3 subarrays of sums==k. Now, you'll understand why 0 comes in the picture.\n",
        "\n",
        "In the above example, 4-1=k and 7-4=k. Hence, we concluded that there are 2 subarrays.\n",
        "However, if sums==k, it should've been 3-0=k. But 0 is not present in the array. To account for this case, we include the 0.\n",
        "Now the modified sums array will look like [0,1,3,4,7]. Now, try to see for the increase of k.\n",
        "\n",
        "1. 0->3\n",
        "\n",
        "2. 1->4\n",
        "\n",
        "3. 4->7\n",
        "\n",
        "Hence, 3 sub arrays of sums=k\n",
        "This clarified some confusions I had while doing this problem."
      ],
      "metadata": {
        "id": "bytBkfeN39MP"
      }
    },
    {
      "cell_type": "code",
      "source": [
        "def subarray(nums,k):\n",
        "  count = 0\n",
        "  sums = 0\n",
        "  d = dict()\n",
        "  d[0] =1\n",
        "\n",
        "  for i in range(len(nums)):\n",
        "    sums +=nums[i]\n",
        "    count +=d.get(sums-k,0)\n",
        "    d[sums] = d.get(sums,0)+1\n",
        "  return (count) \n",
        "nums = [1,1,1]\n",
        "k = 2\n",
        "subarray(nums,k)"
      ],
      "metadata": {
        "colab": {
          "base_uri": "https://localhost:8080/"
        },
        "id": "zI4lWMB13izA",
        "outputId": "505d3f69-d8bf-44ce-a54a-f6acaa31c7f9"
      },
      "execution_count": null,
      "outputs": [
        {
          "output_type": "execute_result",
          "data": {
            "text/plain": [
              "2"
            ]
          },
          "metadata": {},
          "execution_count": 3
        }
      ]
    },
    {
      "cell_type": "code",
      "source": [
        "def subarray(nums,k):\n",
        "  res = 0\n",
        "  cursum = 0\n",
        "  prefixSum = {0:1}\n",
        "  for n in nums:\n",
        "    cursum +=n\n",
        "    diff = cursum-k\n",
        "\n",
        "    res +=prefixSum.get(diff,0)\n",
        "    prefixSum[cursum] = 1+prefixSum.get(cursum,0)\n",
        "  return res\n",
        "nums = [1,1,1]\n",
        "k = 2\n",
        "subarray(nums,k)"
      ],
      "metadata": {
        "id": "kQNG_50ZZPG-",
        "colab": {
          "base_uri": "https://localhost:8080/"
        },
        "outputId": "bf664c48-41dc-45a5-fc71-548806389332"
      },
      "execution_count": null,
      "outputs": [
        {
          "output_type": "execute_result",
          "data": {
            "text/plain": [
              "2"
            ]
          },
          "metadata": {},
          "execution_count": 2
        }
      ]
    },
    {
      "cell_type": "markdown",
      "source": [
        "The function takes an array nums and an integer k as input, and initializes variables res and cursum to 0 and a dictionary prefixSum with a single key-value pair (0:1) to store the frequency of prefix sums.\n",
        "\n",
        "The function then iterates through the array nums, for each element n, the function updates cursum to be the cumulative sum of all elements up to that point in the array. It then calculates the difference between the cursum and k and adds the frequency of this difference to the res variable using prefixSum.get(diff,0).\n",
        "\n",
        "The function then updates the prefixSum dictionary to include the new cursum value and its corresponding frequency.\n",
        "\n",
        "Finally, the function returns the res variable, which represents the count of subarrays whose sum equals to k.\n",
        "\n",
        "Overall, this implementation is concise, readable and efficient with a time complexity of O(n) and a space complexity of O(n), where n is the length of the nums array."
      ],
      "metadata": {
        "id": "PJxP9r8qUzDx"
      }
    },
    {
      "cell_type": "code",
      "source": [
        "    def subarraySum(nums,k):\n",
        "        currentSum = 0\n",
        "        subarrays = 0\n",
        "        hashmap = {}\n",
        "        for num in nums:\n",
        "            currentSum += num\n",
        "            if currentSum == k:\n",
        "                subarrays += 1\n",
        "            if currentSum - k in hashmap:\n",
        "                subarrays += hashmap[currentSum-k]\n",
        "            if currentSum in hashmap:\n",
        "                hashmap[currentSum] += 1\n",
        "            else:\n",
        "                hashmap[currentSum] = 1\n",
        "        return subarrays"
      ],
      "metadata": {
        "id": "RMUJB1AT7ANy"
      },
      "execution_count": null,
      "outputs": []
    },
    {
      "cell_type": "markdown",
      "source": [
        "122. **Best Time to Buy and Sell Stock II**\n",
        "\n",
        "You are given an integer array prices where prices[i] is the price of a given stock on the ith day.\n",
        "\n",
        "On each day, you may decide to buy and/or sell the stock. You can only hold at most one share of the stock at any time. However, you can buy it then immediately sell it on the same day.\n",
        "\n",
        "Find and return the maximum profit you can achieve."
      ],
      "metadata": {
        "id": "_Z1Wg03ZDXLk"
      }
    },
    {
      "cell_type": "code",
      "source": [
        "def maxProfit(prices):\n",
        "  profit = 0\n",
        "  for i in range(1,len(prices)):\n",
        "    if prices[i]>prices[i-1]:\n",
        "      profit +=(prices[i]-prices[i-1])\n",
        "  return profit\n",
        "prices = [7,1,5,3,6,4]\n",
        "maxProfit(prices)"
      ],
      "metadata": {
        "colab": {
          "base_uri": "https://localhost:8080/"
        },
        "id": "TiCQYrLWDVSI",
        "outputId": "f5216dfa-bba8-41d6-c8f0-8976188a4418"
      },
      "execution_count": null,
      "outputs": [
        {
          "output_type": "execute_result",
          "data": {
            "text/plain": [
              "7"
            ]
          },
          "metadata": {},
          "execution_count": 1
        }
      ]
    },
    {
      "cell_type": "markdown",
      "source": [
        "**1930.Unique Length-3 Palindromic Subsequences**\n",
        "\n",
        "Given a string s, return the number of unique palindromes of length three that are a subsequence of s.\n",
        "\n",
        "Note that even if there are multiple ways to obtain the same subsequence, it is still only counted once.\n",
        "\n",
        "A palindrome is a string that reads the same forwards and backwards.\n",
        "\n",
        "A subsequence of a string is a new string generated from the original string with some characters (can be none) deleted without changing the relative order of the remaining characters.\n",
        "\n",
        "For example, \"ace\" is a subsequence of \"abcde\"."
      ],
      "metadata": {
        "id": "JxBk0_Ww2soG"
      }
    },
    {
      "cell_type": "code",
      "source": [
        "from collections import *\n",
        "def countPalindromicSubsequence(s):\n",
        "  d = defaultdict(list)\n",
        "  for i,c in enumerate(s):\n",
        "    d[c].append(i)\n",
        "  ans = 0\n",
        "  for el in d:\n",
        "    if len(d[el])<2:\n",
        "      continue\n",
        "    a = d[el][0]\n",
        "    b = d[el][-1]\n",
        "    ans +=len(set(s[a+1:b]))\n",
        "  return(ans)\n",
        "s = \"aabca\"\n",
        "countPalindromicSubsequence(s)"
      ],
      "metadata": {
        "id": "LkyIxfqnDVO7",
        "colab": {
          "base_uri": "https://localhost:8080/"
        },
        "outputId": "f50d4aac-a46e-4805-ec13-30623acb1bc5"
      },
      "execution_count": null,
      "outputs": [
        {
          "output_type": "execute_result",
          "data": {
            "text/plain": [
              "3"
            ]
          },
          "metadata": {},
          "execution_count": 4
        }
      ]
    },
    {
      "cell_type": "markdown",
      "source": [
        "basicsally first stores all elements with indices\n",
        "\n",
        "now for elment having twice occurence of more using the first and last \n",
        "occurnces and getting how many distinct chaaracters are therir in betweemn this way u can form palindrome"
      ],
      "metadata": {
        "id": "W73byhzbyk1T"
      }
    },
    {
      "cell_type": "markdown",
      "source": [
        "1963. **Minimum number of swaps to make the string balanced**\n",
        "\n",
        "You are given a 0-indexed string s of even length n. The string consists of exactly n / 2 opening brackets '[' and n / 2 closing brackets ']'.\n",
        "\n",
        "A string is called balanced if and only if:\n",
        "\n",
        "It is the empty string, or\n",
        "It can be written as AB, where both A and B are balanced strings, or\n",
        "It can be written as [C], where C is a balanced string.\n",
        "You may swap the brackets at any two indices any number of times.\n",
        "\n",
        "Return the minimum number of swaps to make s balanced."
      ],
      "metadata": {
        "id": "1Dmhcbvu-pKv"
      }
    },
    {
      "cell_type": "code",
      "source": [
        "def minSwaps(s):\n",
        "  close,maxclose = 0,0\n",
        "  for c in s:\n",
        "    if c==\"[\":\n",
        "      close -=1\n",
        "    else:\n",
        "      close +=1\n",
        "    maxclose = max(close,maxclose)\n",
        "  return (maxclose+1)//2\n",
        "\n",
        "s = \"]]][[[\"\n",
        "minSwaps(s)"
      ],
      "metadata": {
        "id": "_YE5iY30DVLw",
        "colab": {
          "base_uri": "https://localhost:8080/"
        },
        "outputId": "74154728-430a-439d-8d6b-022d422bf19a"
      },
      "execution_count": null,
      "outputs": [
        {
          "output_type": "execute_result",
          "data": {
            "text/plain": [
              "2"
            ]
          },
          "metadata": {},
          "execution_count": 15
        }
      ]
    },
    {
      "cell_type": "markdown",
      "source": [
        "The function minSwaps takes a string s as its input and returns the minimum number of swaps required to obtain a balanced string. A balanced string is one in which every open bracket [ has a corresponding closing bracket ] in the correct order.\n",
        "\n",
        "The algorithm works by keeping track of the number of unmatched closing brackets in the variable close. The maxclose variable keeps track of the maximum number of unmatched closing brackets encountered while iterating over the input string.\n",
        "\n",
        "The for loop iterates over each character in the string s. If the character is an opening bracket [, then we decrement the close variable. If the character is a closing bracket ], then we increment the close variable. At each iteration, we update the maxclose variable to keep track of the maximum number of unmatched closing brackets seen so far.\n",
        "\n",
        "Finally, the function returns (maxclose+1)//2. This expression calculates the minimum number of swaps required to obtain a balanced string by dividing maxclose+1 by 2 and taking the integer part of the result. This is because each swap can eliminate two unmatched closing brackets. Therefore, the number of swaps required is half of the total number of unmatched closing brackets, which is maxclose+1."
      ],
      "metadata": {
        "id": "e4JAPpzs1qHC"
      }
    },
    {
      "cell_type": "markdown",
      "source": [
        "**Hacker rank**"
      ],
      "metadata": {
        "id": "hLtYOj4os0zs"
      }
    },
    {
      "cell_type": "code",
      "source": [
        "def sumarr(arr):\n",
        "  return sum(arr)\n",
        "\n",
        "arr = [1,2,3]\n",
        "sumarr(arr)"
      ],
      "metadata": {
        "id": "iy3msIRKDVGZ",
        "colab": {
          "base_uri": "https://localhost:8080/"
        },
        "outputId": "caa32cac-960d-452e-a676-fa5c14ea6515"
      },
      "execution_count": null,
      "outputs": [
        {
          "output_type": "execute_result",
          "data": {
            "text/plain": [
              "6"
            ]
          },
          "metadata": {},
          "execution_count": 21
        }
      ]
    },
    {
      "cell_type": "code",
      "source": [
        "def comparetriplets(a,b):\n",
        "  alice =bob=0\n",
        "  for i in range(3):\n",
        "    if a[i]>b[i]:\n",
        "      alice+=1\n",
        "    elif a[i]<b[i]:\n",
        "      bob+=1\n",
        "  return alice,bob\n",
        "\n",
        "a = [5,6,7]\n",
        "b = [3,6,10]\n",
        "comparetriplets(a,b)"
      ],
      "metadata": {
        "id": "p09PvTfQDVDn",
        "colab": {
          "base_uri": "https://localhost:8080/"
        },
        "outputId": "cbb24cc1-36ae-4643-d320-3d92422cbf87"
      },
      "execution_count": null,
      "outputs": [
        {
          "output_type": "execute_result",
          "data": {
            "text/plain": [
              "(1, 1)"
            ]
          },
          "metadata": {},
          "execution_count": 26
        }
      ]
    },
    {
      "cell_type": "code",
      "source": [
        "def diagonaldiff(arr):\n",
        "  left = 0\n",
        "  right = 0\n",
        "  n= len(arr)\n",
        "  for i in range(n):\n",
        "    left += arr[i][i]\n",
        "    right += arr[i][n-1-i]\n",
        "  return abs(left-right)\n",
        "\n",
        "arr = [[1,2,4],[4,5,10],[5,6,7,]]\n",
        "diagonaldiff(arr)"
      ],
      "metadata": {
        "id": "-cc9grFvDVAq",
        "colab": {
          "base_uri": "https://localhost:8080/"
        },
        "outputId": "28696985-d935-4dc9-de7f-f3fbf86687c3"
      },
      "execution_count": null,
      "outputs": [
        {
          "output_type": "execute_result",
          "data": {
            "text/plain": [
              "1"
            ]
          },
          "metadata": {},
          "execution_count": 41
        }
      ]
    },
    {
      "cell_type": "code",
      "source": [
        "def plusminus(arr):\n",
        "  p=n=z=0\n",
        "  l = len(arr)\n",
        "  for i in range(l):\n",
        "    if arr[i]>0:\n",
        "      p+=1\n",
        "    elif arr[i]<0:\n",
        "      n+=1\n",
        "    else:\n",
        "      z+=1\n",
        "  return p/l,n/l,z/l\n",
        "  \n",
        "arr = [1,1,0,-1,-1]\n",
        "plusminus(arr)"
      ],
      "metadata": {
        "colab": {
          "base_uri": "https://localhost:8080/"
        },
        "id": "G5d7SpzU9jdt",
        "outputId": "6b901a80-6a15-4fa5-958e-dd8401ced453"
      },
      "execution_count": null,
      "outputs": [
        {
          "output_type": "execute_result",
          "data": {
            "text/plain": [
              "(0.4, 0.4, 0.2)"
            ]
          },
          "metadata": {},
          "execution_count": 46
        }
      ]
    },
    {
      "cell_type": "code",
      "source": [
        "def minmax(arr):\n",
        "   add = sum(arr)\n",
        "   minimum = min(arr)\n",
        "   maximum = max(arr)\n",
        "   print(add-minimum,add-maximum)\n",
        "\n",
        "arr = [1,3,5,7,9]\n",
        "minmax(arr)"
      ],
      "metadata": {
        "id": "xcCSUxOQDU9v",
        "colab": {
          "base_uri": "https://localhost:8080/"
        },
        "outputId": "70b4d0fb-d6fb-413a-ab3c-7f635558625b"
      },
      "execution_count": null,
      "outputs": [
        {
          "output_type": "stream",
          "name": "stdout",
          "text": [
            "24 16\n"
          ]
        }
      ]
    },
    {
      "cell_type": "code",
      "source": [
        "def birthdaycakecandle(candle):\n",
        "  maximum = max(candle)\n",
        "  count = 0\n",
        "  for i in range(len(candle)):\n",
        "    if candle[i] == maximum:\n",
        "      count +=1\n",
        "  return count\n",
        "\n",
        "birthdaycakecandle([1,2,2,1])"
      ],
      "metadata": {
        "id": "pHhPJ2ceZPMt",
        "colab": {
          "base_uri": "https://localhost:8080/"
        },
        "outputId": "7ed7d80c-100d-4fb7-e451-14d3de1ee0d4"
      },
      "execution_count": null,
      "outputs": [
        {
          "output_type": "execute_result",
          "data": {
            "text/plain": [
              "2"
            ]
          },
          "metadata": {},
          "execution_count": 53
        }
      ]
    },
    {
      "cell_type": "code",
      "source": [
        "def gardingstudent(grades):\n",
        "  res = []\n",
        "  for i in grades:\n",
        "    if i>=38:\n",
        "      mod = i%5\n",
        "      if (5-mod)<3:\n",
        "        i +=(5-mod)\n",
        "    res.append(i)\n",
        "  return res\n",
        "grades = [74,73,22]\n",
        "gardingstudent(grades)"
      ],
      "metadata": {
        "colab": {
          "base_uri": "https://localhost:8080/"
        },
        "id": "_k0UTSy8W3n-",
        "outputId": "e4dfea9a-4848-4a0a-a256-7b54f716ab32"
      },
      "execution_count": null,
      "outputs": [
        {
          "output_type": "execute_result",
          "data": {
            "text/plain": [
              "[75, 75, 22]"
            ]
          },
          "metadata": {},
          "execution_count": 57
        }
      ]
    },
    {
      "cell_type": "code",
      "source": [
        "def countapplenoranges(s,t,a,b,apples,oranges):\n",
        "  ta=to = 0\n",
        "  for i in range(len(apples)):\n",
        "    if s<=a+apples[i]<=t:\n",
        "      ta+=1\n",
        "  for i in range(len(oranges)):\n",
        "    if s<=b+oranges[i]<=t:\n",
        "      to+=1\n",
        "  print(ta)\n",
        "  print(to)\n",
        "\n",
        "s = 7\n",
        "t = 10\n",
        "a =4\n",
        "b = 12\n",
        "apples = [2,3,-4]\n",
        "oranges = [3,-2,-4]\n",
        "countapplenoranges(s,t,a,b,apples,oranges)"
      ],
      "metadata": {
        "colab": {
          "base_uri": "https://localhost:8080/"
        },
        "id": "pbCZaRxvW3rn",
        "outputId": "a89004c7-2d52-4655-e3ed-2aac12eba744"
      },
      "execution_count": null,
      "outputs": [
        {
          "output_type": "stream",
          "name": "stdout",
          "text": [
            "1\n",
            "2\n"
          ]
        }
      ]
    },
    {
      "cell_type": "code",
      "source": [
        "from functools import *\n",
        "def getTotal(a,b):\n",
        "  def gcd(a,b):\n",
        "    if b==0:\n",
        "      return a\n",
        "    return gcd(b,a%b)\n",
        "  def lcm(a,b):\n",
        "    return a*b//gcd(a,b)\n",
        "  l=reduce(lcm,a)\n",
        "  g = reduce(gcd,b)\n",
        "  s=0\n",
        "  for i in range(l,g+1,l):\n",
        "    if g%i==0:\n",
        "      s+=1\n",
        "  return s\n",
        "\n",
        "a = [2,6]\n",
        "b = [24,36]\n",
        "getTotal(a,b)"
      ],
      "metadata": {
        "colab": {
          "base_uri": "https://localhost:8080/"
        },
        "id": "LR_JXJ6zdaY1",
        "outputId": "6f1d76a7-4c6d-4b0f-b6c5-ff604e5bb2f6"
      },
      "execution_count": null,
      "outputs": [
        {
          "output_type": "execute_result",
          "data": {
            "text/plain": [
              "2"
            ]
          },
          "metadata": {},
          "execution_count": 1
        }
      ]
    },
    {
      "cell_type": "code",
      "source": [
        "def breakingRecords(scores):\n",
        "  maxscore = minscore = scores[0]\n",
        "  mincount = maxcount = 0\n",
        "  for  i in range(len(scores)):\n",
        "    if minscore<scores[i]:\n",
        "      minscore = scores[i]\n",
        "      mincount +=1\n",
        "    elif maxscore>scores[i]:\n",
        "      maxscore = scores[i]\n",
        "      maxcount+=1\n",
        "  print(mincount,maxcount)\n",
        "\n",
        "\n",
        "scores = [12,24,10,24]\n",
        "breakingRecords(scores)"
      ],
      "metadata": {
        "id": "A5p2wx67dacS",
        "colab": {
          "base_uri": "https://localhost:8080/"
        },
        "outputId": "25f3f290-5896-4bfb-fcbd-28cece2ea7f1"
      },
      "execution_count": null,
      "outputs": [
        {
          "output_type": "stream",
          "name": "stdout",
          "text": [
            "1 1\n"
          ]
        }
      ]
    },
    {
      "cell_type": "code",
      "source": [
        "def divisiblesumpairs(k,a):\n",
        "  count = 0\n",
        "  n = len(a)\n",
        "  for i in range(n):\n",
        "    for j in range(i+1,n):\n",
        "      if (a[i]+a[j])%k==0:\n",
        "        count+=1\n",
        "  return count\n",
        "\n",
        "a =[1,2,3,4,5]\n",
        "k = 5\n",
        "divisiblesumpairs(k,a)"
      ],
      "metadata": {
        "id": "Wvt6s3W1dakC",
        "colab": {
          "base_uri": "https://localhost:8080/"
        },
        "outputId": "b8a3267d-d775-4d9a-e9c9-dd69d3d1fe60"
      },
      "execution_count": null,
      "outputs": [
        {
          "output_type": "execute_result",
          "data": {
            "text/plain": [
              "2"
            ]
          },
          "metadata": {},
          "execution_count": 8
        }
      ]
    },
    {
      "cell_type": "code",
      "source": [
        "def migatorybirds(arr):\n",
        "  l = [0]*len(arr)\n",
        "  for i in range(len(arr)):\n",
        "    l[arr[i]]+=1\n",
        "  return l.index(max(l))\n",
        "\n",
        "arr = [1,4,4,5,3,3]\n",
        "migatorybirds(arr)"
      ],
      "metadata": {
        "id": "xJ0u0R_VdaoB",
        "colab": {
          "base_uri": "https://localhost:8080/"
        },
        "outputId": "3d26dac5-455f-4c29-c6a9-2c9a21fe8049"
      },
      "execution_count": null,
      "outputs": [
        {
          "output_type": "execute_result",
          "data": {
            "text/plain": [
              "3"
            ]
          },
          "metadata": {},
          "execution_count": 10
        }
      ]
    },
    {
      "cell_type": "code",
      "source": [
        "#bon appetit\n",
        "def bonappetit(bill,k,b):\n",
        "  s = sum(bill)\n",
        "  charge = (s-bill[k])//2\n",
        "  if  b==charge:\n",
        "    print(\"bon appetit\")\n",
        "  else:\n",
        "    print(b-charge)\n",
        "\n",
        "bill = [3,18,0,10]\n",
        "k = 1\n",
        "b = 7\n",
        "bonappetit(bill,k,b)"
      ],
      "metadata": {
        "id": "2iF2Tes5daqP",
        "colab": {
          "base_uri": "https://localhost:8080/"
        },
        "outputId": "4b8c3bbd-7c9b-47e6-dffd-a699164d4755"
      },
      "execution_count": null,
      "outputs": [
        {
          "output_type": "stream",
          "name": "stdout",
          "text": [
            "1\n"
          ]
        }
      ]
    },
    {
      "cell_type": "code",
      "source": [
        "#sock merchant\n",
        "def sockmerchant(arr):\n",
        "  d = {}\n",
        "  count =0\n",
        "  for i in arr:\n",
        "    d[i] = d.get(i,0)+1\n",
        "  for i in d.keys():\n",
        "    count += d[i]//2\n",
        "  return count\n",
        "\n",
        "arr = [1,2,1,2,1,3,2]\n",
        "sockmerchant(arr)"
      ],
      "metadata": {
        "id": "YNw7k3Dpdatz",
        "colab": {
          "base_uri": "https://localhost:8080/"
        },
        "outputId": "f45794a1-a515-422a-9451-f49df6732eb3"
      },
      "execution_count": null,
      "outputs": [
        {
          "output_type": "execute_result",
          "data": {
            "text/plain": [
              "2"
            ]
          },
          "metadata": {},
          "execution_count": 16
        }
      ]
    },
    {
      "cell_type": "code",
      "source": [
        "#counting valleys\n",
        "def countingvalleys(steps):\n",
        "  d = {'U':1,'D':-1}\n",
        "  level =0\n",
        "  count =0\n",
        "  for s in steps:\n",
        "    level +=d[s]\n",
        "    if level==0 and s==\"U\":\n",
        "      count+=1\n",
        "  return count\n",
        "\n",
        "steps = ['U', 'D', 'D', 'D', 'U', 'U', 'D', 'U', 'D', 'D', 'U', 'D', 'U', 'U']\n",
        "countingvalleys(steps)"
      ],
      "metadata": {
        "id": "E9W6_cLJdawx",
        "colab": {
          "base_uri": "https://localhost:8080/"
        },
        "outputId": "dab7b487-5e33-404d-88f2-9ca7290591b8"
      },
      "execution_count": null,
      "outputs": [
        {
          "output_type": "execute_result",
          "data": {
            "text/plain": [
              "3"
            ]
          },
          "metadata": {},
          "execution_count": 1
        }
      ]
    },
    {
      "cell_type": "code",
      "source": [
        "#electronic shops\n",
        "def getmoneyspent(keyboard,drives,b):\n",
        "  amount = -1\n",
        "  for k in keyboard:\n",
        "    for d in drives:\n",
        "      if k+d<b:\n",
        "        amount = max(k+d,amount)\n",
        "  return amount\n",
        "\n",
        "keyboard = [3,1]\n",
        "drives =  [ 5,2,8]\n",
        "b = 10\n",
        "getmoneyspent(keyboard,drives,b)"
      ],
      "metadata": {
        "colab": {
          "base_uri": "https://localhost:8080/"
        },
        "id": "cvSwOUkbFdeD",
        "outputId": "f1894301-8737-4eb1-b4ad-c8a7be0d7d5a"
      },
      "execution_count": null,
      "outputs": [
        {
          "output_type": "execute_result",
          "data": {
            "text/plain": [
              "9"
            ]
          },
          "metadata": {},
          "execution_count": 3
        }
      ]
    },
    {
      "cell_type": "code",
      "source": [
        "#picking numbers\n",
        "from collections import Counter\n",
        "def pickingnumber(a):\n",
        "  maxnum  =0\n",
        "  d = Counter(a)\n",
        "  for i in range(len(a)):\n",
        "    maxnum = max(maxnum,d[i]+d[i+1])\n",
        "  return maxnum\n",
        "a = [1,1,2,2,3,6,6,7,7,7,8,9]\n",
        "pickingnumber(a)"
      ],
      "metadata": {
        "colab": {
          "base_uri": "https://localhost:8080/"
        },
        "id": "JZBkojX7Fdbd",
        "outputId": "5865a106-6aaa-4984-d51f-908be04183b2"
      },
      "execution_count": null,
      "outputs": [
        {
          "output_type": "execute_result",
          "data": {
            "text/plain": [
              "5"
            ]
          },
          "metadata": {},
          "execution_count": 29
        }
      ]
    },
    {
      "cell_type": "code",
      "source": [
        "#climbing the leaderboard\n",
        "def climbingleaderboard(ranked,player):\n",
        "  ranked = sorted(list(set(ranked)),reverse=True)\n",
        "  player.sort(reverse=True)\n",
        "  n = len(ranked)\n",
        "  i = 0\n",
        "  result = []\n",
        "  for j in range(len(player)):\n",
        "    while i<n and player[j]<ranked[i]:\n",
        "      i+=1\n",
        "    result.append(i+1)\n",
        "  return result[::-1]\n",
        "\n",
        "ranked = [100,90,90,80]\n",
        "player = [70,80,105]\n",
        "climbingleaderboard(ranked,player)"
      ],
      "metadata": {
        "colab": {
          "base_uri": "https://localhost:8080/"
        },
        "id": "rV6vyyF3FdXx",
        "outputId": "1dcd1470-b56a-457c-9eee-23dbf663ab6f"
      },
      "execution_count": null,
      "outputs": [
        {
          "output_type": "execute_result",
          "data": {
            "text/plain": [
              "[4, 3, 1]"
            ]
          },
          "metadata": {},
          "execution_count": 33
        }
      ]
    },
    {
      "cell_type": "code",
      "source": [
        "#hurdlerace\n",
        "def hurdlerace(k,height):\n",
        "  #maxheight = max(height)\n",
        "  #return max(maxheight-k,0)\n",
        "  maxheight = height[0]\n",
        "  for i in range(1,len(height)):\n",
        "    if height[i]>maxheight:\n",
        "      maxheight = height[i]\n",
        "    if maxheight>k:\n",
        "      return maxheight-k\n",
        "    else:\n",
        "      return 0\n",
        "height = [1,6,3,5,2]\n",
        "k=4 \n",
        "hurdlerace(k,height)"
      ],
      "metadata": {
        "colab": {
          "base_uri": "https://localhost:8080/"
        },
        "id": "RShUXqvKsBea",
        "outputId": "0b869e01-6fdd-419b-d079-0c9e61827835"
      },
      "execution_count": null,
      "outputs": [
        {
          "output_type": "execute_result",
          "data": {
            "text/plain": [
              "2"
            ]
          },
          "metadata": {},
          "execution_count": 37
        }
      ]
    },
    {
      "cell_type": "code",
      "source": [
        "#designerpdfviewer\n",
        "def designerpdfviewer(h,word):\n",
        "  height = 0\n",
        "  for letter in word:\n",
        "    height = max(height,h[ord(letter)-ord('a')])\n",
        "  return height*len(word)"
      ],
      "metadata": {
        "id": "Vb1BDtVssBg8"
      },
      "execution_count": null,
      "outputs": []
    },
    {
      "cell_type": "code",
      "source": [
        "def angryprofessor(k,a):\n",
        "  count = 0\n",
        "  for i in a:\n",
        "    if i<=0:\n",
        "      count+=1\n",
        "  if count<k:\n",
        "    return \"yes\"\n",
        "  else:\n",
        "    return \"no\"\n",
        "\n",
        "a = [-2,-1,1,2]\n",
        "k = 3\n",
        "angryprofessor(k,a)"
      ],
      "metadata": {
        "colab": {
          "base_uri": "https://localhost:8080/",
          "height": 36
        },
        "id": "4FD11jTfsBjc",
        "outputId": "267d5efe-d2f0-4869-92b2-2f7b657b2c02"
      },
      "execution_count": null,
      "outputs": [
        {
          "output_type": "execute_result",
          "data": {
            "text/plain": [
              "'yes'"
            ],
            "application/vnd.google.colaboratory.intrinsic+json": {
              "type": "string"
            }
          },
          "metadata": {},
          "execution_count": 4
        }
      ]
    },
    {
      "cell_type": "code",
      "source": [
        " def beautifulday(i,j,k):\n",
        "   count = 0\n",
        "   for i in range(i,j+1):\n",
        "     r = int(str(i)[::-1])\n",
        "     if abs(i-r)%k==0:\n",
        "       count +=1\n",
        "   return count\n",
        "\n",
        "i =20\n",
        "j = 23\n",
        "k = 6\n",
        "beautifulday(i,j,k)"
      ],
      "metadata": {
        "id": "RRr1DSARsBmf",
        "colab": {
          "base_uri": "https://localhost:8080/"
        },
        "outputId": "86ad887b-7b21-46c4-e406-e9aafe37581a"
      },
      "execution_count": null,
      "outputs": [
        {
          "output_type": "execute_result",
          "data": {
            "text/plain": [
              "2"
            ]
          },
          "metadata": {},
          "execution_count": 8
        }
      ]
    },
    {
      "cell_type": "code",
      "source": [
        "#save the prisoners\n",
        "def savetheprisoner(n,m,s):\n",
        "  res = s+m-1\n",
        "  res %=n\n",
        "  if res==0:\n",
        "    return n\n",
        "  return res\n",
        "n = 7\n",
        "m = 19\n",
        "s = 2\n",
        "savetheprisoner(n,m,s)"
      ],
      "metadata": {
        "id": "wu3oWxnbsBpp",
        "colab": {
          "base_uri": "https://localhost:8080/"
        },
        "outputId": "f3e9c398-b013-471b-c5b3-fe0884e9088e"
      },
      "execution_count": null,
      "outputs": [
        {
          "output_type": "execute_result",
          "data": {
            "text/plain": [
              "6"
            ]
          },
          "metadata": {},
          "execution_count": 9
        }
      ]
    },
    {
      "cell_type": "code",
      "source": [
        "from collections import Counter\n",
        "def cuthestick(arr):\n",
        "  s = Counter(arr)\n",
        "  n =len(arr)\n",
        "  res = []\n",
        "  for i in sorted(s.keys()):\n",
        "    res.append(n)\n",
        "    n -=s[i]\n",
        "  return res\n",
        "\n",
        "arr = [1,2,3]\n",
        "cuthestick(arr)"
      ],
      "metadata": {
        "id": "VBH4OPAEsBu_",
        "colab": {
          "base_uri": "https://localhost:8080/"
        },
        "outputId": "d33d089e-39f8-4a2a-95bb-9c710561ca6b"
      },
      "execution_count": null,
      "outputs": [
        {
          "output_type": "execute_result",
          "data": {
            "text/plain": [
              "[3, 2, 1]"
            ]
          },
          "metadata": {},
          "execution_count": 17
        }
      ]
    },
    {
      "cell_type": "code",
      "source": [
        "def reversed_string(s):\n",
        "  reverse = \"\"\n",
        "  for i in range(len(s)-1,-1,-1):\n",
        "    reverse += s[i]\n",
        "  return reverse\n",
        "\n",
        "s = \"leetcode\"\n",
        "reversed_string(s)"
      ],
      "metadata": {
        "id": "0IwBgpGJsBrx",
        "colab": {
          "base_uri": "https://localhost:8080/",
          "height": 36
        },
        "outputId": "fbd8907f-bfaa-42e8-829a-955375b7eceb"
      },
      "execution_count": null,
      "outputs": [
        {
          "output_type": "execute_result",
          "data": {
            "text/plain": [
              "'edocteel'"
            ],
            "application/vnd.google.colaboratory.intrinsic+json": {
              "type": "string"
            }
          },
          "metadata": {},
          "execution_count": 23
        }
      ]
    },
    {
      "cell_type": "code",
      "source": [
        "def subarraysum(arr,s):\n",
        "        curr_sum = 0\n",
        "        start = 0\n",
        "        for i in range(len(arr)):\n",
        "            curr_sum +=arr[i]\n",
        "            while curr_sum>s and start<i:\n",
        "                curr_sum -=arr[start]\n",
        "                start +=1\n",
        "            if curr_sum==s:\n",
        "                return [start+1,i+1]\n",
        "        return [-1]\n",
        "\n",
        "arr = [1,2,3,7,5]\n",
        "s = 12\n",
        "subarraysum(arr,s)"
      ],
      "metadata": {
        "colab": {
          "base_uri": "https://localhost:8080/"
        },
        "id": "ctUQjRI8Pafa",
        "outputId": "be8435d0-0e14-4af1-cc16-2d96528defb1"
      },
      "execution_count": null,
      "outputs": [
        {
          "output_type": "execute_result",
          "data": {
            "text/plain": [
              "[2, 4]"
            ]
          },
          "metadata": {},
          "execution_count": 27
        }
      ]
    },
    {
      "cell_type": "code",
      "source": [
        "d1 = {\"awaz\":10,\"asmin\":11,\"aman\":20,\"bikesh\":30}\n",
        "m_value = 1\n",
        "for i,num in enumerate(d1): #index,key\n",
        "  m_value = m_value*d1[num]\n",
        "print(m_value)"
      ],
      "metadata": {
        "colab": {
          "base_uri": "https://localhost:8080/"
        },
        "id": "_IqBKCkYNbxr",
        "outputId": "dfacf158-f0f5-4322-9864-84d079a8c92d"
      },
      "execution_count": null,
      "outputs": [
        {
          "output_type": "stream",
          "name": "stdout",
          "text": [
            "66000\n"
          ]
        }
      ]
    },
    {
      "cell_type": "code",
      "source": [
        "d1 = {\"awaz\":10,\"asmin\":11,\"aman\":20,\"bikesh\":30}\n",
        "add = 0\n",
        "for i,num in enumerate(d1):\n",
        "  add += d1[num]\n",
        "print(add)"
      ],
      "metadata": {
        "colab": {
          "base_uri": "https://localhost:8080/"
        },
        "id": "lJ063iMGNbun",
        "outputId": "fe5602f2-bd9c-4d0d-d02e-82dd1def41a2"
      },
      "execution_count": null,
      "outputs": [
        {
          "output_type": "stream",
          "name": "stdout",
          "text": [
            "71\n"
          ]
        }
      ]
    },
    {
      "cell_type": "code",
      "source": [
        "for i,num in enumerate(d1):\n",
        "  print(i,num[i])"
      ],
      "metadata": {
        "colab": {
          "base_uri": "https://localhost:8080/"
        },
        "id": "WwrdjtawVz-_",
        "outputId": "525a945a-752f-4579-96e3-b080a72b2b65"
      },
      "execution_count": null,
      "outputs": [
        {
          "output_type": "stream",
          "name": "stdout",
          "text": [
            "0 a\n",
            "1 s\n",
            "2 a\n",
            "3 e\n"
          ]
        }
      ]
    },
    {
      "cell_type": "code",
      "source": [
        "#find diagonal\n",
        "matrix = [[1, 2, 3], [4, 5, 6], [7, 8, 9]]\n",
        "diagonal = [row[i] for i,row in enumerate(matrix)]\n",
        "print(diagonal)"
      ],
      "metadata": {
        "id": "KHDr0CIWPalK",
        "colab": {
          "base_uri": "https://localhost:8080/"
        },
        "outputId": "3f3b3069-8436-4404-8f88-97bfb1ba6064"
      },
      "execution_count": null,
      "outputs": [
        {
          "output_type": "stream",
          "name": "stdout",
          "text": [
            "[1, 5, 9]\n"
          ]
        }
      ]
    },
    {
      "cell_type": "code",
      "source": [
        "#Merging two sorted arrays\n",
        "a = [1, 2, 3]\n",
        "b = [1, 2, 3]\n",
        "merged = []\n",
        "i=j = 0\n",
        "while i<len(a) and j<len(b):\n",
        "  if a[i]<b[j]:\n",
        "    merged.append(a[i])\n",
        "    i+=1\n",
        "  else:\n",
        "    merged.append(b[j])\n",
        "    j+=1\n",
        "merged +=a[i:]+b[j:]\n",
        "print(merged)"
      ],
      "metadata": {
        "colab": {
          "base_uri": "https://localhost:8080/"
        },
        "id": "7jL9_GXnW5tY",
        "outputId": "75813bc1-3657-45b8-eaf9-fc619e22aa6e"
      },
      "execution_count": null,
      "outputs": [
        {
          "output_type": "stream",
          "name": "stdout",
          "text": [
            "[1, 1, 2, 2, 3, 3]\n"
          ]
        }
      ]
    },
    {
      "cell_type": "code",
      "source": [
        "strings = [\"flower\", \"flow\", \"flight\"]\n",
        "prefix = \"\"\n",
        "for char in zip(*strings):\n",
        "  if len(set(char))==1:\n",
        "    prefix +=char[0]\n",
        "  else:\n",
        "    break\n",
        "print(prefix)"
      ],
      "metadata": {
        "colab": {
          "base_uri": "https://localhost:8080/"
        },
        "id": "TC0UQq1fW5ra",
        "outputId": "a785bab9-8848-494c-d2a9-d50b6cfe1232"
      },
      "execution_count": null,
      "outputs": [
        {
          "output_type": "stream",
          "name": "stdout",
          "text": [
            "fl\n"
          ]
        }
      ]
    },
    {
      "cell_type": "code",
      "source": [
        "matrix = [[1, 2, 3], [4, 5, 6], [7, 8, 9]]\n",
        "for i in range(len(matrix)):\n",
        "  for j in range(i,len(matrix)):\n",
        "    matrix[i][j],matrix[j][i] =matrix[j][i],matrix[i][j]\n",
        "print(matrix)"
      ],
      "metadata": {
        "colab": {
          "base_uri": "https://localhost:8080/"
        },
        "id": "5YAIQMqpW5o_",
        "outputId": "3c9ffd62-b279-4d46-afb1-8a41faac7394"
      },
      "execution_count": null,
      "outputs": [
        {
          "output_type": "stream",
          "name": "stdout",
          "text": [
            "[[1, 4, 7], [2, 5, 8], [3, 6, 9]]\n"
          ]
        }
      ]
    },
    {
      "cell_type": "code",
      "source": [
        "a = \"asminn\"\n",
        "d = {}\n",
        "for i in a:\n",
        "  d[i] = d.get(i,0)+1\n",
        "print(d)"
      ],
      "metadata": {
        "colab": {
          "base_uri": "https://localhost:8080/"
        },
        "id": "5INcQqkPW5jt",
        "outputId": "0b69afd4-e5c7-4781-87dd-f54c8ddb4bb3"
      },
      "execution_count": null,
      "outputs": [
        {
          "output_type": "stream",
          "name": "stdout",
          "text": [
            "{'a': 1, 's': 1, 'm': 1, 'i': 1, 'n': 2}\n"
          ]
        }
      ]
    },
    {
      "cell_type": "code",
      "source": [
        "numbers = [1,2,3,4,5]\n",
        "for i,num in enumerate(numbers):\n",
        "  numbers[i]=num**2\n",
        "print(numbers)"
      ],
      "metadata": {
        "colab": {
          "base_uri": "https://localhost:8080/"
        },
        "id": "nwOjcBXFW5cV",
        "outputId": "2b716c14-be7b-42eb-d945-efe37b3697f1"
      },
      "execution_count": null,
      "outputs": [
        {
          "output_type": "stream",
          "name": "stdout",
          "text": [
            "[1, 4, 9, 16, 25]\n"
          ]
        }
      ]
    },
    {
      "cell_type": "code",
      "source": [
        "list1 = [1, 2, 3, 4, 5]\n",
        "list2 = [5, 4, 3, 2, 1]\n",
        "maxes = [max(x, y) for x, y in zip(list1, list2)]\n",
        "print(maxes)"
      ],
      "metadata": {
        "colab": {
          "base_uri": "https://localhost:8080/"
        },
        "id": "cma1d4dqW5Zj",
        "outputId": "f30b1508-5507-4b8d-c368-c773cf06637e"
      },
      "execution_count": null,
      "outputs": [
        {
          "output_type": "stream",
          "name": "stdout",
          "text": [
            "[5, 4, 3, 4, 5]\n"
          ]
        }
      ]
    },
    {
      "cell_type": "code",
      "source": [
        "values = [\"a\",\"b\",\"c\"]\n",
        "index = 0\n",
        "for i,num in enumerate(values):\n",
        "  print(i,num)"
      ],
      "metadata": {
        "id": "nwOsDV2dPaoF",
        "colab": {
          "base_uri": "https://localhost:8080/"
        },
        "outputId": "7db1a7dc-2491-446f-8120-63249747aa46"
      },
      "execution_count": null,
      "outputs": [
        {
          "output_type": "stream",
          "name": "stdout",
          "text": [
            "0 a\n",
            "1 b\n",
            "2 c\n"
          ]
        }
      ]
    },
    {
      "cell_type": "code",
      "source": [
        "def reverse_string(s):\n",
        "  return \" \".join(word[::-1] for word in s.split())\n",
        "\n",
        "s = \"hello world\"\n",
        "reverse_string(s)"
      ],
      "metadata": {
        "colab": {
          "base_uri": "https://localhost:8080/",
          "height": 36
        },
        "id": "EKg1yUJ8PNGs",
        "outputId": "db01a497-f2ad-4482-cd97-a739dc6920a3"
      },
      "execution_count": null,
      "outputs": [
        {
          "output_type": "execute_result",
          "data": {
            "text/plain": [
              "'olleh dlrow'"
            ],
            "application/vnd.google.colaboratory.intrinsic+json": {
              "type": "string"
            }
          },
          "metadata": {},
          "execution_count": 2
        }
      ]
    },
    {
      "cell_type": "code",
      "source": [
        "def is_palindrome(p):\n",
        "  start = 0\n",
        "  end = len(p)-1\n",
        "  while start<end:\n",
        "    if p[start] ==s[end]:\n",
        "      start+=1\n",
        "      end-=1\n",
        "    else:\n",
        "      return False\n",
        "  return True\n",
        "\n",
        "p = \"aa\"\n",
        "is_palindrome(p)"
      ],
      "metadata": {
        "colab": {
          "base_uri": "https://localhost:8080/"
        },
        "id": "BkZ-E0eLPNDv",
        "outputId": "c998a353-c930-4d80-8980-0f37de0965c9"
      },
      "execution_count": null,
      "outputs": [
        {
          "output_type": "execute_result",
          "data": {
            "text/plain": [
              "False"
            ]
          },
          "metadata": {},
          "execution_count": 4
        }
      ]
    },
    {
      "cell_type": "code",
      "source": [
        "def reverse_long_words(sentences):\n",
        "  #Reverse all words that are longer than 4 characters in a sentence.\n",
        "  return \" \".join(\" \".join(word[::-1] if len(word)>4 else word for word in sentences.split()))\n",
        "\n",
        "sentences = \"helo world\"\n",
        "reverse_long_words(sentences)"
      ],
      "metadata": {
        "colab": {
          "base_uri": "https://localhost:8080/",
          "height": 36
        },
        "id": "EapbERFMPNAu",
        "outputId": "9ea031a0-7c2e-4f82-9330-b7b860612932"
      },
      "execution_count": null,
      "outputs": [
        {
          "output_type": "execute_result",
          "data": {
            "text/plain": [
              "'h e l o   d l r o w'"
            ],
            "application/vnd.google.colaboratory.intrinsic+json": {
              "type": "string"
            }
          },
          "metadata": {},
          "execution_count": 14
        }
      ]
    },
    {
      "cell_type": "code",
      "source": [
        "def is_pangram(s):\n",
        "  p = \"\"\n",
        "  for char in s.lower():\n",
        "    if char.isalpha() and char not in p:\n",
        "      p+=char\n",
        "    if len(p)==26:\n",
        "      return True\n",
        "  return False\n",
        "is_pangram(\"The quick brown fox jumps over the lazy dog\")"
      ],
      "metadata": {
        "colab": {
          "base_uri": "https://localhost:8080/"
        },
        "id": "TDxs_iy6PM5L",
        "outputId": "a634988b-5c6a-45b5-ae6d-68e2e4b378b8"
      },
      "execution_count": null,
      "outputs": [
        {
          "output_type": "execute_result",
          "data": {
            "text/plain": [
              "True"
            ]
          },
          "metadata": {},
          "execution_count": 41
        }
      ]
    },
    {
      "cell_type": "code",
      "source": [
        "def is_pangram(s):\n",
        "    \"\"\"\n",
        "   A Pangram String contains all the alphabets at least once.\n",
        "    >>> is_pangram(\"The quick brown fox jumps over the lazy dog\")\n",
        "    True\n",
        "    \"\"\"\n",
        "    frequency = set()\n",
        "    #remove all white space\n",
        "    s = s.replace(\" \",\"\")\n",
        "    for alpha in s:\n",
        "      if \"a\"<=alpha<=\"z\":\n",
        "        frequency.add(alpha.lower())\n",
        "    return len(frequency)==26\n",
        "\n",
        "is_pangram(\"The quick brown fox jumps over the lazy dog\" )"
      ],
      "metadata": {
        "colab": {
          "base_uri": "https://localhost:8080/"
        },
        "id": "pKWLkiD8PM8z",
        "outputId": "9800805b-c16c-4d55-f887-816432a8b0a0"
      },
      "execution_count": null,
      "outputs": [
        {
          "output_type": "execute_result",
          "data": {
            "text/plain": [
              "True"
            ]
          },
          "metadata": {},
          "execution_count": 2
        }
      ]
    },
    {
      "cell_type": "code",
      "source": [
        "def median_of_two_arrays(nums1,nums2):\n",
        "  all_numbers = sorted(nums1+nums2)\n",
        "  div,mod = divmod(len(all_numbers),2)\n",
        "  if mod==1:\n",
        "    return all_numbers[div]\n",
        "  else:\n",
        "    return (all_numbers[div]+all_numbers[div-1])/2\n",
        "nums1 = [1,2]\n",
        "nums2 = [3]\n",
        "median_of_two_arrays(nums1,nums2)"
      ],
      "metadata": {
        "id": "o7YFStNOPM2n",
        "colab": {
          "base_uri": "https://localhost:8080/"
        },
        "outputId": "2a708e3f-c098-4338-964e-0b72d6b7db16"
      },
      "execution_count": null,
      "outputs": [
        {
          "output_type": "execute_result",
          "data": {
            "text/plain": [
              "2"
            ]
          },
          "metadata": {},
          "execution_count": 6
        }
      ]
    },
    {
      "cell_type": "markdown",
      "source": [
        "**20.Valid Parentheses**\n",
        "\n",
        "Given a string s containing just the characters '(', ')', '{', '}', '[' and ']', determine if the input string is valid.\n",
        "\n",
        "An input string is valid if:\n",
        "\n",
        "Open brackets must be closed by the same type of brackets.\n",
        "Open brackets must be closed in the correct order.\n",
        "Every close bracket has a corresponding open bracket of the same type."
      ],
      "metadata": {
        "id": "vzByRAghfQfB"
      }
    },
    {
      "cell_type": "code",
      "source": [
        "def is_valid(s):\n",
        "    stack = []\n",
        "    closetoOpen = {\")\":\"(\",\"]\":\"[\",\"}\":\"{\"}\n",
        "\n",
        "    for c in s:\n",
        "      if c in closetoOpen:\n",
        "        if stack and stack[-1]==closetoOpen[c]:\n",
        "          stack.pop()\n",
        "        else:\n",
        "          return False\n",
        "      else:\n",
        "         stack.append(c)\n",
        "    return True if not stack else False\n",
        "s = \"()[]{}\"\n",
        "is_valid(s)"
      ],
      "metadata": {
        "id": "ZNHdr8ZAParj",
        "colab": {
          "base_uri": "https://localhost:8080/"
        },
        "outputId": "543ea0b9-1b3d-482e-8e20-dcc60f2195cb"
      },
      "execution_count": null,
      "outputs": [
        {
          "output_type": "execute_result",
          "data": {
            "text/plain": [
              "True"
            ]
          },
          "metadata": {},
          "execution_count": 11
        }
      ]
    },
    {
      "cell_type": "code",
      "source": [
        "def is_valid(s):\n",
        "    stack = []\n",
        "    for char in s:\n",
        "        if char in ['(', '{', '[']:\n",
        "            stack.append(char)\n",
        "        else:\n",
        "            if not stack:\n",
        "                return False\n",
        "            top = stack.pop()\n",
        "            if char == ')' and top != '(':\n",
        "                return False\n",
        "            elif char == '}' and top != '{':\n",
        "                return False\n",
        "            elif char == ']' and top != '[':\n",
        "                return False\n",
        "    return not stack\n",
        "s = \"(]\"\n",
        "is_valid(s)\n",
        "#o(n)"
      ],
      "metadata": {
        "id": "S0p4LhLoPMz2",
        "colab": {
          "base_uri": "https://localhost:8080/"
        },
        "outputId": "bc2d4df4-57d9-40ae-9ce3-2c96e6585faa"
      },
      "execution_count": null,
      "outputs": [
        {
          "output_type": "execute_result",
          "data": {
            "text/plain": [
              "False"
            ]
          },
          "metadata": {},
          "execution_count": 8
        }
      ]
    },
    {
      "cell_type": "markdown",
      "source": [
        "**155.Min Stack**\n",
        "\n",
        "Design a stack that supports push, pop, top, and retrieving the minimum element in constant time.\n",
        "\n",
        "Implement the MinStack class:\n",
        "\n",
        "MinStack() initializes the stack object.\n",
        "void push(int val) pushes the element val onto the stack.\n",
        "void pop() removes the element on the top of the stack.\n",
        "int top() gets the top element of the stack.\n",
        "int getMin() retrieves the minimum element in the stack.\n",
        "You must implement a solution with O(1) time complexity for each function."
      ],
      "metadata": {
        "id": "hTdYHoQztKsI"
      }
    },
    {
      "cell_type": "code",
      "source": [
        "class MinStack:\n",
        "    def __init__(self):\n",
        "      self.stack = []\n",
        "      self.minstack= []      \n",
        "\n",
        "    def push(self,val):\n",
        "      self.stack.append(val)#o(1)\n",
        "      val = min(val,self.minstack[-1] if self.minstack else val)\n",
        "      self.minstack.append(val)\n",
        "\n",
        "    def pop(self):\n",
        "      self.stack.pop()#o(1)\n",
        "      self.minstack.pop()\n",
        "        \n",
        "    def top(self):\n",
        "      return self.stack[-1]#o(1)\n",
        "\n",
        "    def getMin(self):\n",
        "      return self.minstack[-1] #o(1)\n",
        "      #return min(self.stack)\n",
        "\n",
        "s = MinStack()\n",
        "s.push(20)\n",
        "s.push(30)\n",
        "s.pop()\n",
        "s.top()"
      ],
      "metadata": {
        "id": "v9ubHzsAPa28",
        "colab": {
          "base_uri": "https://localhost:8080/"
        },
        "outputId": "f5337d95-e27c-4d69-a3e8-8b7a287fc81a"
      },
      "execution_count": null,
      "outputs": [
        {
          "output_type": "execute_result",
          "data": {
            "text/plain": [
              "20"
            ]
          },
          "metadata": {},
          "execution_count": 2
        }
      ]
    },
    {
      "cell_type": "markdown",
      "source": [
        "**22.Generate Parentheses**\n",
        "\n",
        "**Given n pairs of parentheses, write a function to generate all combinations of well-formed parentheses.**"
      ],
      "metadata": {
        "id": "EUtm9s3Y4JD-"
      }
    },
    {
      "cell_type": "code",
      "source": [
        "def generateParenthesis(n):\n",
        "  #only add open parenthesis if open<n\n",
        "  #only add a closing parenthesis if closed<open\n",
        "  #valid only if open==closed==n\n",
        "  stack = []\n",
        "  res =[]\n",
        "  def backtrack(openN,closedN):\n",
        "    if openN==closedN==n:\n",
        "      res.append(\"\".join(stack))\n",
        "      return \n",
        "\n",
        "    if openN<n:\n",
        "      stack.append(\"(\")\n",
        "      backtrack(open+1,closedN)\n",
        "      stack.pop()\n",
        "    \n",
        "    if closedN<openN:\n",
        "      stack.append(\")\")\n",
        "      backtrack(openN,closedN+1)\n",
        "      stack.pop()\n",
        "    \n",
        "  backtrack(0,0)\n",
        "  return res\n",
        "\n",
        "n = 3\n",
        "generateParentheses(n)\n",
        "#o(n)"
      ],
      "metadata": {
        "colab": {
          "base_uri": "https://localhost:8080/"
        },
        "id": "XW6KCYdAuSjK",
        "outputId": "abed279d-0929-4519-eb4c-ab86e48fed2d"
      },
      "execution_count": null,
      "outputs": [
        {
          "output_type": "execute_result",
          "data": {
            "text/plain": [
              "['((()))', '(()())', '(())()', '()(())', '()()()']"
            ]
          },
          "metadata": {},
          "execution_count": 6
        }
      ]
    },
    {
      "cell_type": "code",
      "source": [
        "def generateParentheses(n):\n",
        "    result = []\n",
        "\n",
        "    def backtrack(cur, open, close):\n",
        "        if len(cur) == n * 2:\n",
        "            result.append(cur)\n",
        "            return\n",
        "\n",
        "        if open < n:\n",
        "            backtrack(cur + '(', open + 1, close)\n",
        "\n",
        "        if close < open:\n",
        "            backtrack(cur + ')', open, close + 1)\n",
        "\n",
        "    backtrack('', 0, 0)\n",
        "    return result\n",
        "generateParentheses(3)"
      ],
      "metadata": {
        "id": "-pWcN4agUBlC",
        "colab": {
          "base_uri": "https://localhost:8080/"
        },
        "outputId": "d4aa7f30-468c-4b48-a396-f7a2d47dad4e"
      },
      "execution_count": null,
      "outputs": [
        {
          "output_type": "execute_result",
          "data": {
            "text/plain": [
              "['((()))', '(()())', '(())()', '()(())', '()()()']"
            ]
          },
          "metadata": {},
          "execution_count": 4
        }
      ]
    },
    {
      "cell_type": "markdown",
      "source": [
        "**150.Evaluate Reverse Polish Notation**\n",
        "\n",
        "You are given an array of strings tokens that represents an arithmetic expression in a Reverse Polish Notation.\n",
        "\n",
        "Evaluate the expression. Return an integer that represents the value of the expression.\n",
        "\n",
        "Note that:\n",
        "\n",
        "The valid operators are '+', '-', '*', and '/'.\n",
        "Each operand may be an integer or another expression.\n",
        "The division between two integers always truncates toward zero.\n",
        "There will not be any division by zero.\n",
        "The input represents a valid arithmetic expression in a reverse polish notation.\n",
        "The answer and all the intermediate calculations can be represented in a 32-bit integer."
      ],
      "metadata": {
        "id": "WY7Uqc74RD5w"
      }
    },
    {
      "cell_type": "code",
      "source": [
        "def evaRPN(tokens):\n",
        "  stack = []\n",
        "  for c in tokens:\n",
        "    if c==\"+\":\n",
        "      stack.append(stack.pop()+stack.pop())\n",
        "    elif c==\"*\":\n",
        "      stack.append(stack.pop()*stack.pop())\n",
        "    elif c==\"-\":\n",
        "      a,b = stack.pop(),stack.pop()\n",
        "      stack.append(b-a)\n",
        "    elif c==\"/\":\n",
        "      a,b = stack.pop(),stack.pop()\n",
        "      stack.append(int(b/a))\n",
        "    else:\n",
        "      stack.append(int(c))\n",
        "  return stack[0]\n",
        "\n",
        "tokens = [\"2\",\"1\",\"+\",\"3\",\"*\"]\n",
        "evaRPN(tokens)"
      ],
      "metadata": {
        "colab": {
          "base_uri": "https://localhost:8080/"
        },
        "id": "XZL3vjXMCuT7",
        "outputId": "9b500b2b-521b-417c-ca6b-185085eaa0cb"
      },
      "execution_count": null,
      "outputs": [
        {
          "output_type": "execute_result",
          "data": {
            "text/plain": [
              "9"
            ]
          },
          "metadata": {},
          "execution_count": 1
        }
      ]
    },
    {
      "cell_type": "markdown",
      "source": [
        "**739.Daily Temperatures**\n",
        "\n",
        "Given an array of integers temperatures represents the daily temperatures, return an array answer such that answer[i] is the number of days you have to wait after the ith day to get a warmer temperature. If there is no future day for which this is possible, keep answer[i] == 0 instead."
      ],
      "metadata": {
        "id": "KgJPG96uM4O9"
      }
    },
    {
      "cell_type": "code",
      "source": [
        "def dailyTemperatures(temperatures):\n",
        "  res = [0]*len(temperatures)\n",
        "  stack = []\n",
        "  for i,t in enumerate(temperatures):\n",
        "    while stack and t>stack[-1][0]:\n",
        "      stackT,stackInd=stack.pop()\n",
        "      res[stackInd] = (i-stackInd)\n",
        "    stack.append([t,i])\n",
        "  return res\n",
        "\n",
        "temperatures = [73,74,75,71,69,72,76,73]\n",
        "dailyTemperatures(temperatures)\n",
        "#o(n)"
      ],
      "metadata": {
        "colab": {
          "base_uri": "https://localhost:8080/"
        },
        "id": "IipCaalgYqT2",
        "outputId": "853867a4-3c25-4ffa-a310-65455c6db42c"
      },
      "execution_count": null,
      "outputs": [
        {
          "output_type": "execute_result",
          "data": {
            "text/plain": [
              "[1, 1, 4, 2, 1, 1, 0, 0]"
            ]
          },
          "metadata": {},
          "execution_count": 5
        }
      ]
    },
    {
      "cell_type": "code",
      "source": [
        "def dailyTemperatures(temperatures):\n",
        "        n = len(temperatures)\n",
        "        ans= [0] * n\n",
        "        stack =[]\n",
        "        for i in range(n):\n",
        "            while stack and temperatures[stack[-1]] < temperatures[i]:\n",
        "                ans[stack[-1]] = i - stack[-1]\n",
        "                stack.pop()\n",
        "            stack.append(i)\n",
        "        return ans\n",
        "\n",
        "temperatures = [73,74,75,71,69,72,76,73]\n",
        "dailyTemperatures(temperatures)"
      ],
      "metadata": {
        "id": "7Pk4A4R-Ct-6",
        "colab": {
          "base_uri": "https://localhost:8080/"
        },
        "outputId": "95607acf-4bd7-4dad-816e-67ab5eedcabc"
      },
      "execution_count": null,
      "outputs": [
        {
          "output_type": "execute_result",
          "data": {
            "text/plain": [
              "[1, 1, 4, 2, 1, 1, 0, 0]"
            ]
          },
          "metadata": {},
          "execution_count": 9
        }
      ]
    },
    {
      "cell_type": "markdown",
      "source": [
        "**853.Car Fleet**\n",
        "\n",
        "There are n cars going to the same destination along a one-lane road. The destination is target miles away.\n",
        "\n",
        "You are given two integer array position and speed, both of length n, where position[i] is the position of the ith car and speed[i] is the speed of the ith car (in miles per hour).\n",
        "\n",
        "A car can never pass another car ahead of it, but it can catch up to it and drive bumper to bumper at the same speed. The faster car will slow down to match the slower car's speed. The distance between these two cars is ignored (i.e., they are assumed to have the same position).\n",
        "\n",
        "A car fleet is some non-empty set of cars driving at the same position and same speed. Note that a single car is also a car fleet.\n",
        "\n",
        "If a car catches up to a car fleet right at the destination point, it will still be considered as one car fleet.\n",
        "\n",
        "Return the number of car fleets that will arrive at the destination."
      ],
      "metadata": {
        "id": "MZ3BsX7JfdMh"
      }
    },
    {
      "cell_type": "code",
      "source": [
        "def carFleet(target, position, speed):\n",
        "  pair = [[p,s] for p,s in zip(position,speed)]\n",
        "  stack = []\n",
        "  for p,s in sorted(pair)[::-1]:\n",
        "    stack.append((target-p)/s)\n",
        "    if len(stack)>=2 and stack[-1]<=stack[-2]:\n",
        "      stack.pop()\n",
        "  return len(stack)\n",
        "\n",
        "target = 12; position =[10,8,0,5,3];speed =[2,4,1,1,3]\n",
        "carFleet(target,position,speed)\n",
        "#o(nlogn) due to sorting algorithm"
      ],
      "metadata": {
        "colab": {
          "base_uri": "https://localhost:8080/"
        },
        "id": "1JaSwm3If7ca",
        "outputId": "c9186fbe-3926-4c07-8331-8cdc6fd73b08"
      },
      "execution_count": null,
      "outputs": [
        {
          "output_type": "execute_result",
          "data": {
            "text/plain": [
              "3"
            ]
          },
          "metadata": {},
          "execution_count": 14
        }
      ]
    },
    {
      "cell_type": "markdown",
      "source": [
        "The code first creates a list of pairs of position and speed for each car. It then sorts this list based on the position of each car in descending order, so that we can process the cars from back to front. We use the formula time = (target - position) / speed to calculate the time it will take each car to reach the destination, and add it to the stack.\n",
        "\n",
        "If the stack has at least two elements and the time for the current car is less than or equal to the time for the car behind it, we remove the car behind it from the stack. This is because the two cars will form a car fleet and travel at the same speed, so we only need to consider the time it will take for the slower car to reach the destination"
      ],
      "metadata": {
        "id": "lVQfdZhwwxGW"
      }
    },
    {
      "cell_type": "code",
      "source": [
        "def carFleet(target, position, speed):\n",
        "    cars = sorted(zip(position, speed))\n",
        "    fleets = 0\n",
        "    time_to_target = [float(target - p) / s for p, s in cars]\n",
        "    curr_fleet_time = 0\n",
        "    \n",
        "    for i in range(len(cars) - 1, -1, -1):\n",
        "        if time_to_target[i] > curr_fleet_time:\n",
        "            curr_fleet_time = time_to_target[i]\n",
        "            fleets += 1\n",
        "    \n",
        "    return fleets\n",
        "\n",
        "target = 12; position =[10,8,0,5,3];speed =[2,4,1,1,3]\n",
        "carFleet(target,position,speed)"
      ],
      "metadata": {
        "colab": {
          "base_uri": "https://localhost:8080/"
        },
        "id": "Z6dJFDi7f7kl",
        "outputId": "5527fe3c-542e-4f40-8d61-3365d9563402"
      },
      "execution_count": null,
      "outputs": [
        {
          "output_type": "execute_result",
          "data": {
            "text/plain": [
              "3"
            ]
          },
          "metadata": {},
          "execution_count": 12
        }
      ]
    },
    {
      "cell_type": "markdown",
      "source": [
        "**84.largest Rectangle in Histogram**\n",
        "\n",
        "Given an array of integers heights representing the histogram's bar height where the width of each bar is 1, return the area of the largest rectangle in the histogram."
      ],
      "metadata": {
        "id": "ktH0IbCVlluF"
      }
    },
    {
      "cell_type": "code",
      "source": [
        "def largestRectangleArea(heights):\n",
        "  maxArea = 0\n",
        "  stack = [] #pair:(index,height)\n",
        "  for i,h in enumerate(heights):\n",
        "    start = i\n",
        "    while stack and stack[-1][1]>h:\n",
        "      index,height = stack.pop()\n",
        "      maxArea = max(maxArea,height*(i-index))\n",
        "      start = index\n",
        "    stack.append((start,h))\n",
        "  \n",
        "  for i,h in stack:\n",
        "    maxArea = max(maxArea,h*(len(heights)-i))\n",
        "  return maxArea\n",
        "\n",
        "heights = [2,1,5,6,2,3]\n",
        "largestRectangleArea(heights)"
      ],
      "metadata": {
        "colab": {
          "base_uri": "https://localhost:8080/"
        },
        "id": "l5l2Efx3f7ZH",
        "outputId": "2dfe9561-98ca-46bc-9702-08d35d276330"
      },
      "execution_count": null,
      "outputs": [
        {
          "output_type": "execute_result",
          "data": {
            "text/plain": [
              "10"
            ]
          },
          "metadata": {},
          "execution_count": 1
        }
      ]
    },
    {
      "cell_type": "markdown",
      "source": [
        "**704.Binary Search**\n",
        "\n",
        "Given an array of integers nums which is sorted in ascending order, and an integer target, write a function to search target in nums. If target exists, then return its index. Otherwise, return -1.\n",
        "\n",
        "You must write an algorithm with O(log n) runtime complexity."
      ],
      "metadata": {
        "id": "MAyUfX1NHZmH"
      }
    },
    {
      "cell_type": "code",
      "source": [
        "def binary_search(nums,target):\n",
        "  l = 0\n",
        "  r = len(nums)-1\n",
        "  while l<=r:\n",
        "    mid = (l+r)//2 #l+((r-1)//2)\n",
        "    if nums[mid]>target:\n",
        "      r = mid-1\n",
        "    elif nums[mid]<target:\n",
        "      l = mid+1\n",
        "    else:\n",
        "      return mid\n",
        "  return -1\n",
        "nums = [-1,0,3,5,9,12]; target = 9\n",
        "binary_search(nums,target)\n",
        "#O(log n)"
      ],
      "metadata": {
        "id": "nuesnT4lf7WO",
        "colab": {
          "base_uri": "https://localhost:8080/"
        },
        "outputId": "56c977a5-e66e-455e-e62e-379b674d7327"
      },
      "execution_count": null,
      "outputs": [
        {
          "output_type": "execute_result",
          "data": {
            "text/plain": [
              "4"
            ]
          },
          "metadata": {},
          "execution_count": 15
        }
      ]
    },
    {
      "cell_type": "code",
      "source": [
        "#using enumerate\n",
        "def search(nums,target):\n",
        "  for e,x in enumerate(nums): #key value\n",
        "    if x==target:\n",
        "      return e\n",
        "  return -1\n",
        "\n",
        "nums = [-1,0,3,5,9,12]; target = 9\n",
        "search(nums,target)\n",
        "#O(n)"
      ],
      "metadata": {
        "id": "bjDOgFfvCt7K",
        "colab": {
          "base_uri": "https://localhost:8080/"
        },
        "outputId": "bdb83a33-1ef2-43f2-af79-e3e25e81bbd0"
      },
      "execution_count": null,
      "outputs": [
        {
          "output_type": "execute_result",
          "data": {
            "text/plain": [
              "4"
            ]
          },
          "metadata": {},
          "execution_count": 16
        }
      ]
    },
    {
      "cell_type": "markdown",
      "source": [
        "**74.Search a 2D Matrix**\n",
        "\n",
        "You are given an m x n integer matrix matrix with the following two properties:\n",
        "\n",
        "Each row is sorted in non-decreasing order.\n",
        "The first integer of each row is greater than the last integer of the previous row.\n",
        "Given an integer target, return true if target is in matrix or false otherwise.\n",
        "\n",
        "You must write a solution in O(log(m * n)) time complexity.\n",
        "\n",
        "\n"
      ],
      "metadata": {
        "id": "SarQi726Q11z"
      }
    },
    {
      "cell_type": "code",
      "source": [
        "def search_matrix(matrix,target):\n",
        "  \n",
        "\n",
        "matrix = [[1,3,5,7],[10,11,16,20],[23,30,34,60]]\n",
        "target = 13\n",
        "search_matrix(matrix,target)"
      ],
      "metadata": {
        "id": "lheNbNoGUBne",
        "colab": {
          "base_uri": "https://localhost:8080/",
          "height": 321
        },
        "outputId": "ed15123e-459d-4be4-b0b3-182339482a1f"
      },
      "execution_count": null,
      "outputs": [
        {
          "output_type": "error",
          "ename": "TypeError",
          "evalue": "ignored",
          "traceback": [
            "\u001b[0;31m---------------------------------------------------------------------------\u001b[0m",
            "\u001b[0;31mTypeError\u001b[0m                                 Traceback (most recent call last)",
            "\u001b[0;32m<ipython-input-18-f0f97611ad1f>\u001b[0m in \u001b[0;36m<module>\u001b[0;34m\u001b[0m\n\u001b[1;32m     29\u001b[0m \u001b[0mmatrix\u001b[0m \u001b[0;34m=\u001b[0m \u001b[0;34m[\u001b[0m\u001b[0;34m[\u001b[0m\u001b[0;36m1\u001b[0m\u001b[0;34m,\u001b[0m\u001b[0;36m3\u001b[0m\u001b[0;34m,\u001b[0m\u001b[0;36m5\u001b[0m\u001b[0;34m,\u001b[0m\u001b[0;36m7\u001b[0m\u001b[0;34m]\u001b[0m\u001b[0;34m,\u001b[0m\u001b[0;34m[\u001b[0m\u001b[0;36m10\u001b[0m\u001b[0;34m,\u001b[0m\u001b[0;36m11\u001b[0m\u001b[0;34m,\u001b[0m\u001b[0;36m16\u001b[0m\u001b[0;34m,\u001b[0m\u001b[0;36m20\u001b[0m\u001b[0;34m]\u001b[0m\u001b[0;34m,\u001b[0m\u001b[0;34m[\u001b[0m\u001b[0;36m23\u001b[0m\u001b[0;34m,\u001b[0m\u001b[0;36m30\u001b[0m\u001b[0;34m,\u001b[0m\u001b[0;36m34\u001b[0m\u001b[0;34m,\u001b[0m\u001b[0;36m60\u001b[0m\u001b[0;34m]\u001b[0m\u001b[0;34m]\u001b[0m\u001b[0;34m\u001b[0m\u001b[0;34m\u001b[0m\u001b[0m\n\u001b[1;32m     30\u001b[0m \u001b[0mtarget\u001b[0m \u001b[0;34m=\u001b[0m \u001b[0;36m13\u001b[0m\u001b[0;34m\u001b[0m\u001b[0;34m\u001b[0m\u001b[0m\n\u001b[0;32m---> 31\u001b[0;31m \u001b[0msearch_matrix\u001b[0m\u001b[0;34m(\u001b[0m\u001b[0mmatrix\u001b[0m\u001b[0;34m,\u001b[0m\u001b[0mtarget\u001b[0m\u001b[0;34m)\u001b[0m\u001b[0;34m\u001b[0m\u001b[0;34m\u001b[0m\u001b[0m\n\u001b[0m",
            "\u001b[0;32m<ipython-input-18-f0f97611ad1f>\u001b[0m in \u001b[0;36msearch_matrix\u001b[0;34m(matrix, target)\u001b[0m\n\u001b[1;32m     21\u001b[0m         \u001b[0;32mreturn\u001b[0m \u001b[0;32mTrue\u001b[0m\u001b[0;34m\u001b[0m\u001b[0;34m\u001b[0m\u001b[0m\n\u001b[1;32m     22\u001b[0m     \u001b[0;32mwhile\u001b[0m \u001b[0mindex\u001b[0m \u001b[0;34m<\u001b[0m \u001b[0mlen\u001b[0m\u001b[0;34m(\u001b[0m\u001b[0mmatrix\u001b[0m\u001b[0;34m)\u001b[0m \u001b[0;32mand\u001b[0m \u001b[0mmatrix\u001b[0m\u001b[0;34m[\u001b[0m\u001b[0mindex\u001b[0m\u001b[0;34m]\u001b[0m\u001b[0;34m[\u001b[0m\u001b[0;36m0\u001b[0m\u001b[0;34m]\u001b[0m \u001b[0;34m<\u001b[0m \u001b[0mtarget\u001b[0m\u001b[0;34m:\u001b[0m\u001b[0;34m\u001b[0m\u001b[0;34m\u001b[0m\u001b[0m\n\u001b[0;32m---> 23\u001b[0;31m         \u001b[0mr\u001b[0m \u001b[0;34m=\u001b[0m \u001b[0msearch_matrix\u001b[0m\u001b[0;34m(\u001b[0m\u001b[0mmatrix\u001b[0m\u001b[0;34m[\u001b[0m\u001b[0mindex\u001b[0m\u001b[0;34m]\u001b[0m\u001b[0;34m,\u001b[0m \u001b[0;36m0\u001b[0m\u001b[0;34m,\u001b[0m \u001b[0mlen\u001b[0m\u001b[0;34m(\u001b[0m\u001b[0mmatrix\u001b[0m\u001b[0;34m[\u001b[0m\u001b[0mindex\u001b[0m\u001b[0;34m]\u001b[0m\u001b[0;34m)\u001b[0m \u001b[0;34m-\u001b[0m \u001b[0;36m1\u001b[0m\u001b[0;34m,\u001b[0m \u001b[0mtarget\u001b[0m\u001b[0;34m)\u001b[0m\u001b[0;34m\u001b[0m\u001b[0;34m\u001b[0m\u001b[0m\n\u001b[0m\u001b[1;32m     24\u001b[0m         \u001b[0;32mif\u001b[0m \u001b[0mr\u001b[0m \u001b[0;34m!=\u001b[0m \u001b[0;34m-\u001b[0m\u001b[0;36m1\u001b[0m\u001b[0;34m:\u001b[0m\u001b[0;34m\u001b[0m\u001b[0;34m\u001b[0m\u001b[0m\n\u001b[1;32m     25\u001b[0m             \u001b[0;32mreturn\u001b[0m \u001b[0;32mTrue\u001b[0m\u001b[0;34m\u001b[0m\u001b[0;34m\u001b[0m\u001b[0m\n",
            "\u001b[0;31mTypeError\u001b[0m: search_matrix() takes 2 positional arguments but 4 were given"
          ]
        }
      ]
    },
    {
      "cell_type": "markdown",
      "source": [
        "**875. Koko Eating Bananas**\n",
        "\n",
        "Koko loves to eat bananas. There are n piles of bananas, the ith pile has piles[i] bananas. The guards have gone and will come back in h hours.\n",
        "\n",
        "Koko can decide her bananas-per-hour eating speed of k. Each hour, she chooses some pile of bananas and eats k bananas from that pile. If the pile has less than k bananas, she eats all of them instead and will not eat any more bananas during this hour.\n",
        "\n",
        "Koko likes to eat slowly but still wants to finish eating all the bananas before the guards return.\n",
        "\n",
        "Return the minimum integer k such that she can eat all the bananas within h hours.\n",
        "\n",
        " "
      ],
      "metadata": {
        "id": "7hvLbAP9PIld"
      }
    },
    {
      "cell_type": "code",
      "source": [
        "import math\n",
        "def minEatingSpeed(piles,h):\n",
        "  l,r = 1,max(piles)\n",
        "  res = r\n",
        "  while l<=r:\n",
        "    k = (l+r)//2\n",
        "    hours =0\n",
        "    for p in piles:\n",
        "      hours +=math.ceil(p/k)\n",
        "    if hours<=h:\n",
        "      res = min(res,k)\n",
        "      r  = k-1\n",
        "    else:\n",
        "      l = k+1\n",
        "  return res\n",
        "\n",
        "piles=[3,6,7,11]\n",
        "h = 8\n",
        "minEatingSpeed(piles,h)"
      ],
      "metadata": {
        "id": "kzLITmbwUBrI",
        "colab": {
          "base_uri": "https://localhost:8080/"
        },
        "outputId": "25311767-77a2-4c2b-e3ba-bd9f861088ef"
      },
      "execution_count": null,
      "outputs": [
        {
          "output_type": "execute_result",
          "data": {
            "text/plain": [
              "4"
            ]
          },
          "metadata": {},
          "execution_count": 5
        }
      ]
    },
    {
      "cell_type": "markdown",
      "source": [
        "You are given an array like this [0, 0, 0, ..., 0, 0, 1, 1, 1, ..., 1, 1, 1], i.e., a couple of 0s followed by a couple of 1s. Find the index of first element 1. If not exist, return -1."
      ],
      "metadata": {
        "id": "xWCXb88_sFgf"
      }
    },
    {
      "cell_type": "code",
      "source": [
        "def zero_one_binary_search(a):\n",
        "  l = 0\n",
        "  r = len(a)-1\n",
        "  while l<r:\n",
        "    m = (l+r)//2\n",
        "    if a[m]==1:\n",
        "      r = m\n",
        "    else:\n",
        "      l = m+1\n",
        "  return l if a[l]==1 else -1\n",
        "a = [0,0,0,0,1,1,1,1]\n",
        "zero_one_binary_search(a)"
      ],
      "metadata": {
        "id": "33bB0enpUBzz",
        "colab": {
          "base_uri": "https://localhost:8080/"
        },
        "outputId": "6e575976-3c91-4221-e66c-fb9f62014199"
      },
      "execution_count": null,
      "outputs": [
        {
          "output_type": "execute_result",
          "data": {
            "text/plain": [
              "4"
            ]
          },
          "metadata": {},
          "execution_count": 3
        }
      ]
    },
    {
      "cell_type": "markdown",
      "source": [
        "**153. Find Minimum in Rotated Sorted Array**\n",
        "\n",
        "Suppose an array of length n sorted in ascending order is rotated between 1 and n times. For example, the array nums = [0,1,2,4,5,6,7] might become:\n",
        "\n",
        "[4,5,6,7,0,1,2] if it was rotated 4 times.\n",
        "[0,1,2,4,5,6,7] if it was rotated 7 times.\n",
        "Notice that rotating an array [a[0], a[1], a[2], ..., a[n-1]] 1 time results in the array [a[n-1], a[0], a[1], a[2], ..., a[n-2]].\n",
        "\n",
        "Given the sorted rotated array nums of unique elements, return the minimum element of this array.\n",
        "\n",
        "You must write an algorithm that runs in O(log n) time."
      ],
      "metadata": {
        "id": "RBpqeszg0rVL"
      }
    },
    {
      "cell_type": "code",
      "source": [
        "def FindMin(nums):\n",
        "  res = nums[0]\n",
        "  l = 0\n",
        "  r = len(nums)-1\n",
        "  while l<=r:\n",
        "    if nums[l]<nums[r]:\n",
        "      res = min(res,nums[l])\n",
        "      break\n",
        "    m = (l+r)//2\n",
        "    res = min(res,nums[m])\n",
        "    if nums[m]>nums[l]:\n",
        "      l = m+1\n",
        "    else:\n",
        "      r = m-1\n",
        "  return res\n",
        "\n",
        "nums = [3,4,5,1,2] #1\n",
        "FindMin(nums)"
      ],
      "metadata": {
        "id": "9k_66t8FUB3e",
        "colab": {
          "base_uri": "https://localhost:8080/"
        },
        "outputId": "2213c05b-635d-4af9-86fc-6ce909424b64"
      },
      "execution_count": null,
      "outputs": [
        {
          "output_type": "execute_result",
          "data": {
            "text/plain": [
              "1"
            ]
          },
          "metadata": {},
          "execution_count": 6
        }
      ]
    },
    {
      "cell_type": "markdown",
      "source": [
        "To find the minimum element in a sorted rotated array of unique elements in O(log n) time, we can use the binary search algorithm. The idea is to compare the middle element with the first and last elements to determine in which part of the array the minimum element lies.\n",
        "\n",
        "We can consider three cases:\n",
        "\n",
        "1. If the middle element is less than both the first and last elements, then the minimum element lies to the left of the middle element.\n",
        "\n",
        "2. If the middle element is greater than both the first and last elements, then the minimum element lies to the right of the middle element.\n",
        "\n",
        "3. If the middle element is greater than the first element but less than the last element, then the minimum element is the first element of the array."
      ],
      "metadata": {
        "id": "p2iR9de96Sqr"
      }
    },
    {
      "cell_type": "code",
      "source": [
        "def findMin(nums):\n",
        "    left, right = 0, len(nums) - 1\n",
        "    while left <right:\n",
        "        mid = (left + right) // 2\n",
        "        if nums[mid] < nums[right]:\n",
        "            right = mid\n",
        "        elif nums[mid] > nums[right]:\n",
        "            left = mid + 1\n",
        "        else:\n",
        "            return nums[left]\n",
        "    return nums[left]\n",
        "\n",
        "\n",
        "nums = [3,4,5,1,2] #1\n",
        "findMin(nums)"
      ],
      "metadata": {
        "colab": {
          "base_uri": "https://localhost:8080/"
        },
        "id": "12jf_mmz4mpO",
        "outputId": "107af34c-a842-405a-9d3f-a536799fa66f"
      },
      "execution_count": null,
      "outputs": [
        {
          "output_type": "execute_result",
          "data": {
            "text/plain": [
              "1"
            ]
          },
          "metadata": {},
          "execution_count": 9
        }
      ]
    },
    {
      "cell_type": "code",
      "source": [
        "def findMin(nums):\n",
        "        left, right = 0, len(nums) - 1\n",
        "        while left < right:\n",
        "            mid = left + (right - left) // 2\n",
        "            if nums[mid] > nums[right]:\n",
        "                left = mid + 1\n",
        "            else:\n",
        "                right = mid\n",
        "        return nums[left]\n",
        "\n",
        "nums = [3,4,5,1,2] #11\n",
        "findMin(nums)"
      ],
      "metadata": {
        "id": "Dg1NKoeJUCA6",
        "colab": {
          "base_uri": "https://localhost:8080/"
        },
        "outputId": "7af0881e-7daf-4dd3-a172-4671418fde04"
      },
      "execution_count": null,
      "outputs": [
        {
          "output_type": "execute_result",
          "data": {
            "text/plain": [
              "1"
            ]
          },
          "metadata": {},
          "execution_count": 4
        }
      ]
    },
    {
      "cell_type": "markdown",
      "source": [
        "**33. Search in Rotated Sorted Array**\n",
        "\n",
        "There is an integer array nums sorted in ascending order (with distinct values).\n",
        "\n",
        "Prior to being passed to your function, nums is possibly rotated at an unknown pivot index k (1 <= k < nums.length) such that the resulting array is [nums[k], nums[k+1], ..., nums[n-1], nums[0], nums[1], ..., nums[k-1]] (0-indexed). For example, [0,1,2,4,5,6,7] might be rotated at pivot index 3 and become [4,5,6,7,0,1,2].\n",
        "\n",
        "Given the array nums after the possible rotation and an integer target, return the index of target if it is in nums, or -1 if it is not in nums.\n",
        "\n",
        "You must write an algorithm with O(log n) runtime complexity."
      ],
      "metadata": {
        "id": "nuVw2ZwF-ToK"
      }
    },
    {
      "cell_type": "code",
      "source": [
        "def search(nums):\n",
        "  l,r = 0,len(nums)-1\n",
        "  while l<=r:\n",
        "    mid = (l+r)//2\n",
        "    if target ==nums[mid]:\n",
        "      return mid\n",
        "    #left sorted portion\n",
        "    if nums[l]<=nums[mid]:\n",
        "      if target>nums[mid] or target<nums[l]:\n",
        "        l = mid+1\n",
        "      else:\n",
        "        r = mid-1\n",
        "    #right sorted portion\n",
        "    else:\n",
        "      if target<nums[mid] or target>nums[r]:\n",
        "        r = mid-1\n",
        "      else:\n",
        "        l = mid+1\n",
        "  return -1\n",
        "\n",
        "nums = [4,5,6,7,0,1,2];target = 0\n",
        "search(nums)"
      ],
      "metadata": {
        "id": "UQQHZhDWqIeA",
        "colab": {
          "base_uri": "https://localhost:8080/"
        },
        "outputId": "fd2c4152-6fbc-45a4-a902-2f84683e5bd4"
      },
      "execution_count": null,
      "outputs": [
        {
          "output_type": "execute_result",
          "data": {
            "text/plain": [
              "4"
            ]
          },
          "metadata": {},
          "execution_count": 13
        }
      ]
    },
    {
      "cell_type": "markdown",
      "source": [
        "**4. Median of Two Sorted Arrays**\n",
        "\n",
        "Given two sorted arrays nums1 and nums2 of size m and n respectively, return the median of the two sorted arrays.\n",
        "\n",
        "The overall run time complexity should be O(log (m+n))."
      ],
      "metadata": {
        "id": "vLmwI2WPmAbz"
      }
    },
    {
      "cell_type": "code",
      "source": [
        "#log(min(n,m))\n",
        "def findmediansortedarray(nums1,nums2):\n",
        "  a = nums1\n",
        "  b = nums2\n",
        "  total = len(nums1)+len(nums2)\n",
        "  half = total//2\n",
        "\n",
        "  if len(b)<len(a):\n",
        "    a,b = b,a\n",
        "  \n",
        "  l,r = 0,len(a)-1\n",
        "  while True:\n",
        "    i = (l+r)//2 #a\n",
        "    j = half-i-2 #b -2 bcz i start with 0 and j start with 0\n",
        "\n",
        "    aleft = a[i] if i>=0 else float(\"-infinity\")\n",
        "    aright = a[i+1] if (i+1)<len(a) else float(\"infinity\")\n",
        "    bleft = b[j] if j>=0 else float(\"-infinity\")\n",
        "    bright = b[j+1] if (j+1)<len(b) else float(\"infinity\")\n",
        "\n",
        "    #partition is correct\n",
        "    if aleft<= bright and bleft<=aright:\n",
        "      #odd\n",
        "      if total %2:\n",
        "        return min(aright,bright) #(4,infinity) output(4)\n",
        "      #even\n",
        "      return (max(aleft,bleft)+min(aright,bright))/2\n",
        "    elif aleft>bright:\n",
        "      r = i-1\n",
        "    else:\n",
        "      l = i+1\n",
        "\n",
        "nums1 = [1,3]\n",
        "nums2 = [2]\n",
        "findmediansortedarray(nums1,nums2)"
      ],
      "metadata": {
        "id": "dwJqHjmnqINQ",
        "colab": {
          "base_uri": "https://localhost:8080/"
        },
        "outputId": "557d8647-be5c-4484-b42d-94b908de330b"
      },
      "execution_count": null,
      "outputs": [
        {
          "output_type": "execute_result",
          "data": {
            "text/plain": [
              "2"
            ]
          },
          "metadata": {},
          "execution_count": 1
        }
      ]
    },
    {
      "cell_type": "code",
      "source": [
        "#dict\n",
        "temp = {}\n",
        "temp[\"sun\"] =26\n",
        "temp[\"mon\"]=28\n",
        "temp[\"tue\"]=29\n",
        "for i,num in enumerate(temp):\n",
        "  print(i,num,temp[num]) #index,key,value"
      ],
      "metadata": {
        "id": "div4S9e8qIBT",
        "colab": {
          "base_uri": "https://localhost:8080/"
        },
        "outputId": "4e69c7ec-e2f9-4edd-f3ff-d06a529fb46b"
      },
      "execution_count": null,
      "outputs": [
        {
          "output_type": "stream",
          "name": "stdout",
          "text": [
            "0 sun 26\n",
            "1 mon 28\n",
            "2 tue 29\n"
          ]
        }
      ]
    },
    {
      "cell_type": "code",
      "source": [
        "#set\n",
        "a = {1,2,3,4}\n",
        "b = {1,3,5,7}\n",
        "print(a & b) #both present value\n",
        "print(a-b) #a common\n",
        "print(b-a) #b common\n",
        "print(a^b) #unique value\n",
        "c = a.copy()"
      ],
      "metadata": {
        "id": "_8P4bjITqH6w",
        "colab": {
          "base_uri": "https://localhost:8080/"
        },
        "outputId": "77ebe675-80e1-4255-aba2-d559ab145795"
      },
      "execution_count": null,
      "outputs": [
        {
          "output_type": "stream",
          "name": "stdout",
          "text": [
            "{1, 3}\n",
            "{2, 4}\n",
            "{5, 7}\n",
            "{2, 4, 5, 7}\n"
          ]
        }
      ]
    },
    {
      "cell_type": "code",
      "source": [
        "#binary search using recursion\n",
        "def binary_search(arr,low,high,item):\n",
        "  if low<=high:\n",
        "    #search\n",
        "    mid = (low+high)//2\n",
        "    if arr[mid]==item:\n",
        "      return mid\n",
        "    elif arr[mid]>item:\n",
        "      return binary_search(arr,low,mid-1,item)\n",
        "    else:\n",
        "      return binary_search(arr,mid+1,high,item)\n",
        "  else:\n",
        "    return -1"
      ],
      "metadata": {
        "id": "XfurMlTcqH3L"
      },
      "execution_count": null,
      "outputs": []
    },
    {
      "cell_type": "code",
      "source": [
        "arr = [-1,1,2,3,4,5]\n",
        "print(binary_search(arr,0,len(arr)-1,5))"
      ],
      "metadata": {
        "id": "2Xdoow0EqHrq",
        "colab": {
          "base_uri": "https://localhost:8080/"
        },
        "outputId": "fe3bcd1b-ef4b-4058-e8dc-b66073999ad1"
      },
      "execution_count": null,
      "outputs": [
        {
          "output_type": "stream",
          "name": "stdout",
          "text": [
            "5\n"
          ]
        }
      ]
    },
    {
      "cell_type": "code",
      "source": [
        "#sorting\n",
        "def is_sorted(arr):\n",
        "  sorted = True\n",
        "  for i in range(len(arr)-1):\n",
        "    if arr[i]>arr[i+1]:\n",
        "      sorted = False\n",
        "    return sorted"
      ],
      "metadata": {
        "id": "FKGwif6XqHoI"
      },
      "execution_count": null,
      "outputs": []
    },
    {
      "cell_type": "code",
      "source": [
        "is_sorted([1,2,3,4,5])"
      ],
      "metadata": {
        "colab": {
          "base_uri": "https://localhost:8080/"
        },
        "id": "qQNiuvSouM40",
        "outputId": "82ad02d8-a5ff-4f19-df59-dfa522d2e447"
      },
      "execution_count": null,
      "outputs": [
        {
          "output_type": "execute_result",
          "data": {
            "text/plain": [
              "True"
            ]
          },
          "metadata": {},
          "execution_count": 99
        }
      ]
    },
    {
      "cell_type": "code",
      "source": [
        "#monkey sort\n",
        "import random\n",
        "a = [1,2,3,4]\n",
        "random.shuffle(a)\n",
        "a"
      ],
      "metadata": {
        "colab": {
          "base_uri": "https://localhost:8080/"
        },
        "id": "vNiYIyMnpG6T",
        "outputId": "045bce7d-9554-43c8-a3f7-4a19c03c4d43"
      },
      "execution_count": null,
      "outputs": [
        {
          "output_type": "execute_result",
          "data": {
            "text/plain": [
              "[1, 3, 4, 2]"
            ]
          },
          "metadata": {},
          "execution_count": 77
        }
      ]
    },
    {
      "cell_type": "code",
      "source": [
        "def monkey_sort(arr):\n",
        "    while not is_sorted(arr):\n",
        "      random.shuffle(arr)\n",
        "      print(arr)\n",
        "    print(arr)\n",
        "#time compexity is #infinite..the is no limit it may or may not be"
      ],
      "metadata": {
        "id": "TDpNjP9LpG_H"
      },
      "execution_count": null,
      "outputs": []
    },
    {
      "cell_type": "markdown",
      "source": [
        "**bubble sort**\n",
        "\n",
        "Bubble sort is a simple sorting algorithm that repeatedly steps through the list, compares adjacent elements and swaps them if they are in the wrong order. The pass through the list is repeated until the list is sorted. Here are the steps of the bubble sort algorithm:\n",
        "\n",
        "1. Starting from the beginning of the list, compare the first two elements.\n",
        "\n",
        "2. If the first element is greater than the second element, swap them.\n",
        "\n",
        "3. Move to the next pair of elements, and repeat step 2.\n",
        "\n",
        "4. Continue until the end of the list is reached.\n",
        "\n",
        "5. Repeat steps 1-4 until no more swaps are needed.\n",
        "\n",
        "The time complexity of bubble sort is O(n^2), where n is the number of elements in the list. This is because in the worst case scenario, the algorithm will have to make n-1 passes through the list, and each pass requires n-1 comparisons and swaps. Therefore, the total number of operations will be (n-1) * (n-1) = n^2 - 2n + 1, which is O(n^2).\n",
        "\n",
        "Bubble sort is not an efficient algorithm for sorting large lists, as its time complexity makes it slow for lists with many elements. However, it is easy to understand and implement, and can be useful for educational purposes or for sorting small lists where efficiency is not a major concern."
      ],
      "metadata": {
        "id": "vLyn2GFl4TtQ"
      }
    },
    {
      "cell_type": "code",
      "source": [
        "#non adaptive bubble sort\n",
        "def bubble_sort(arr):\n",
        "  #traverse through all array elements\n",
        "  for i in range(len(arr)-1):\n",
        "    #last i element are already in place\n",
        "    for j in range(len(arr)-1-i):\n",
        "      if arr[j]>arr[j+1]:\n",
        "        arr[j],arr[j+1] = arr[j+1],arr[j]\n",
        "    return arr\n",
        "arr = [1,-1,2,3,4]\n",
        "bubble_sort(arr)"
      ],
      "metadata": {
        "colab": {
          "base_uri": "https://localhost:8080/"
        },
        "id": "AYh633T0OXBI",
        "outputId": "b45ab7b2-e855-4e61-88d0-f799c71c40a1"
      },
      "execution_count": null,
      "outputs": [
        {
          "output_type": "execute_result",
          "data": {
            "text/plain": [
              "[-1, 1, 2, 3, 4]"
            ]
          },
          "metadata": {},
          "execution_count": 34
        }
      ]
    },
    {
      "cell_type": "code",
      "source": [
        "#adaptive sorted order\n",
        "def bubble_sort(arr):\n",
        "  #traverse through all array elements\n",
        "  for i in range(len(arr)-1):\n",
        "    flag = 0\n",
        "    #last i element are already in place\n",
        "    for j in range(len(arr)-1-i):\n",
        "      if arr[j]>arr[j+1]:\n",
        "        arr[j],arr[j+1] = arr[j+1],arr[j]\n",
        "        flag=1\n",
        "    if flag==0:\n",
        "      break\n",
        "  return arr\n",
        "\n",
        "arr = [1,-1,2,3,3,4]\n",
        "bubble_sort(arr)\n",
        "#bubble sort are stable algorithm because if we have two same numbers like 6,6 then \n",
        "#we dont sort them and they will be in same position"
      ],
      "metadata": {
        "colab": {
          "base_uri": "https://localhost:8080/"
        },
        "id": "Chco9dva5uuo",
        "outputId": "61191e7f-a4bc-4d5a-c0ed-160962baedc1"
      },
      "execution_count": null,
      "outputs": [
        {
          "output_type": "execute_result",
          "data": {
            "text/plain": [
              "[-1, 1, 2, 3, 3, 4]"
            ]
          },
          "metadata": {},
          "execution_count": 39
        }
      ]
    },
    {
      "cell_type": "markdown",
      "source": [
        "**Selection Sort**\n",
        "\n",
        "Selection sort is a simple sorting algorithm that works by repeatedly finding the minimum element from the unsorted part of the list and swapping it with the first element of the unsorted part. Here are the steps of the selection sort algorithm:\n",
        "\n",
        "1. Find the smallest element in the unsorted part of the list.\n",
        "\n",
        "2. Swap it with the first element of the unsorted part.\n",
        "\n",
        "3. Move the boundary between the sorted and unsorted parts of the list one element to the right.\n",
        "\n",
        "4. Repeat steps 1-3 until the entire list is sorted.\n",
        "\n",
        "The time complexity of selection sort is O(n^2), where n is the number of elements in the list. This is because in the worst case scenario, the algorithm will have to make n-1 passes through the list, and in each pass it will have to find the minimum element from the unsorted part, which requires n-1 comparisons. Therefore, the total number of operations will be (n-1) * (n-1) = n^2 - 2n + 1, which is O(n^2).\n",
        "\n",
        "Selection sort is also not an efficient algorithm for sorting large lists, as its time complexity makes it slow for lists with many elements. However, it is also easy to understand and implement, and can be useful for educational purposes or for sorting small lists where efficiency is not a major concern.\n"
      ],
      "metadata": {
        "id": "ku2kY0XE46Sq"
      }
    },
    {
      "cell_type": "code",
      "source": [
        "def selection_sort(arr):\n",
        "  for i in range(len(arr)-1):\n",
        "    min = i\n",
        "    for j in range(i+1,len(arr)):\n",
        "      if arr[j]<arr[min]:\n",
        "        min = j\n",
        "    \n",
        "    arr[i],arr[min] =arr[min],arr[i]\n",
        "  return arr\n",
        "\n",
        "#time complexity :O(n^2)\n",
        "#space complxity : O(1)\n",
        "#selection sort is not adaptive\n",
        "#selection sort is not stable"
      ],
      "metadata": {
        "id": "PNiF5a6S5xy0"
      },
      "execution_count": 12,
      "outputs": []
    },
    {
      "cell_type": "code",
      "source": [
        "arr = [-1,0,1,2,-1]\n",
        "selection_sort(arr)"
      ],
      "metadata": {
        "id": "fVip0UVz5xr7",
        "colab": {
          "base_uri": "https://localhost:8080/"
        },
        "outputId": "09484520-e0fc-4c48-ab50-d5235c69744f"
      },
      "execution_count": 10,
      "outputs": [
        {
          "output_type": "execute_result",
          "data": {
            "text/plain": [
              "[-1, -1, 0, 1, 2]"
            ]
          },
          "metadata": {},
          "execution_count": 10
        }
      ]
    },
    {
      "cell_type": "markdown",
      "source": [
        "worst case or average case selection sort work efficient than bubble sort but in best case bubble sort does it better."
      ],
      "metadata": {
        "id": "divl876f554Z"
      }
    },
    {
      "cell_type": "markdown",
      "source": [
        "**which is faster bubble sort or selection sort?**\n",
        "\n",
        "Both bubble sort and selection sort have a time complexity of O(n^2), which means that they have the same theoretical worst-case and average-case performance. However, in terms of actual performance, selection sort is usually faster than bubble sort.\n",
        "\n",
        "The main reason for this is that selection sort has better locality of reference, which means that it accesses memory in a more predictable and efficient way. In selection sort, each pass through the array swaps only one element into its final position, whereas in bubble sort, each pass may swap multiple elements. This leads to more cache misses and less efficient use of memory in bubble sort.\n",
        "\n",
        "Additionally, bubble sort requires more comparisons than selection sort. In bubble sort, each pair of adjacent elements is compared and swapped if necessary, whereas in selection sort, only the minimum (or maximum) element is compared with each element of the array. This means that selection sort performs fewer comparisons than bubble sort.\n",
        "\n",
        "Therefore, in general, selection sort is faster than bubble sort, although both algorithms are inefficient for large datasets and should be avoided in favor of more efficient sorting algorithms like merge sort or quick sort."
      ],
      "metadata": {
        "id": "HwDBx3l_1lcS"
      }
    },
    {
      "cell_type": "markdown",
      "source": [
        "**Merge Sort**\n",
        "\n",
        "Merge sort is a divide-and-conquer sorting algorithm that works by dividing the list into smaller sub-lists, sorting those sub-lists recursively, and then merging them back together in order to obtain the final sorted list. Here are the steps of the merge sort algorithm:\n",
        "\n",
        "1. Divide the list into two equal-sized sub-lists (if the list has an odd \n",
        "number of elements, one sub-list will have one more element than the other).\n",
        "\n",
        "2. Sort each sub-list recursively using merge sort.\n",
        "\n",
        "3. Merge the two sorted sub-lists back together to form the final sorted list.\n",
        "\n",
        "The time complexity of merge sort is O(n log n), where n is the number of elements in the list. This is because each level of the recursion tree requires O(n) comparisons and swaps to merge the sub-lists, and the height of the recursion tree is O(log n) because the list is repeatedly divided in half. Therefore, the total number of operations is O(n log n).\n",
        "\n",
        "Merge sort is an efficient algorithm for sorting large lists, as its time complexity makes it faster than bubble sort and selection sort for lists with many elements. However, it requires additional memory to store the sub-lists during the sorting process, which can be a disadvantage in some situations."
      ],
      "metadata": {
        "id": "dMF8UAN55eJl"
      }
    },
    {
      "cell_type": "code",
      "source": [
        "#function to sort two array\n",
        "def merged_sorted(arr1,arr2,arr):\n",
        "  i=j=k=0\n",
        "  while i<len(arr1) and j<len(arr2):\n",
        "    if arr1[i]<arr2[j]:\n",
        "      arr[k] = arr1[i]\n",
        "      i+=1\n",
        "    else:\n",
        "      arr[k]=arr2[j]\n",
        "      j+=1\n",
        "    k+=1\n",
        "  while i<len(arr1):\n",
        "    arr[k] = arr1[i]\n",
        "    i+=1\n",
        "    k+=1\n",
        "\n",
        "  while j<len(arr2):\n",
        "    arr[k]= arr2[j]\n",
        "    j+=1\n",
        "    k+=1\n",
        "  return"
      ],
      "metadata": {
        "id": "LKloZTCbszuZ"
      },
      "execution_count": 6,
      "outputs": []
    },
    {
      "cell_type": "code",
      "source": [
        "#function to sort array using merged_sorted\n",
        "def merge_sort(arr):\n",
        "  if len(arr)==1:\n",
        "    return arr\n",
        "  \n",
        "  mid = len(arr)//2\n",
        "\n",
        "  left = arr[:mid] #[0:4] #index 0,1,2,3\n",
        "  right = arr[mid:]#[:-1] #index 5,6,7,8\n",
        "\n",
        "  merge_sort(left)\n",
        "  merge_sort(right)\n",
        "\n",
        "  merged_sorted(left,right,arr)"
      ],
      "metadata": {
        "id": "7sSRscGPAexx"
      },
      "execution_count": 7,
      "outputs": []
    },
    {
      "cell_type": "code",
      "source": [
        "arr1 = [1,2,4]\n",
        "arr2 = [3,5,7,8,9,10]\n",
        "arr = [2,1,5,8,9,6,7,4]\n",
        "merge_sort(arr)\n",
        "print(arr)"
      ],
      "metadata": {
        "colab": {
          "base_uri": "https://localhost:8080/"
        },
        "id": "yF9m8U24Ae1W",
        "outputId": "d775fd66-65f3-4b1c-8522-ba90ce3a90bd"
      },
      "execution_count": 13,
      "outputs": [
        {
          "output_type": "stream",
          "name": "stdout",
          "text": [
            "[1, 2, 4, 5, 6, 7, 8, 9]\n"
          ]
        }
      ]
    },
    {
      "cell_type": "markdown",
      "source": [
        "**Implementation of Merge sort using recursion**"
      ],
      "metadata": {
        "id": "CxP2P7luEEjE"
      }
    },
    {
      "cell_type": "code",
      "source": [
        "def Merged_Sorted(arr1, arr2):\n",
        "    i = j = 0\n",
        "    Merged = []\n",
        "    while i < len(arr1) and j < len(arr2):\n",
        "        if arr1[i] < arr2[j]:\n",
        "            Merged.append(arr1[i])\n",
        "            i += 1\n",
        "        else:\n",
        "            Merged.append(arr2[j])\n",
        "            j += 1\n",
        "    while i < len(arr1):\n",
        "        Merged.append(arr1[i])\n",
        "        i += 1\n",
        "    while j < len(arr2):\n",
        "        Merged.append(arr2[j])\n",
        "        j += 1\n",
        "    return Merged\n",
        "\n",
        "def Merge_Sort(arr):\n",
        "    if len(arr) > 1:\n",
        "        # divide the array into two halves\n",
        "        mid = len(arr) // 2\n",
        "        left = arr[:mid]\n",
        "        right = arr[mid:]\n",
        "\n",
        "        # recursively sort each half\n",
        "        left=Merge_Sort(left)\n",
        "        right=Merge_Sort(right)\n",
        "\n",
        "        # Merge the two sorted halves\n",
        "        return Merged_Sorted(left, right) \n",
        "    else:\n",
        "        return arr\n",
        "\n",
        "# time complexity :O(nlogn)\n",
        "#space comlexity : O(n) -->due to recursion"
      ],
      "metadata": {
        "id": "YgjsNm_GCTHM"
      },
      "execution_count": 1,
      "outputs": []
    },
    {
      "cell_type": "code",
      "source": [
        "arr = [1,2,3,5,0-1,-2]\n",
        "Merge_Sort(arr)"
      ],
      "metadata": {
        "colab": {
          "base_uri": "https://localhost:8080/"
        },
        "id": "nhTfS4-TECbA",
        "outputId": "6372a509-28bd-4939-ba6a-708a99d03dc8"
      },
      "execution_count": 64,
      "outputs": [
        {
          "output_type": "execute_result",
          "data": {
            "text/plain": [
              "[-2, -1, 1, 2, 3, 5]"
            ]
          },
          "metadata": {},
          "execution_count": 64
        }
      ]
    }
  ]
}